{
 "cells": [
  {
   "cell_type": "markdown",
   "id": "27b8c469",
   "metadata": {},
   "source": [
    "# Bienvenidos al curso de Análisis Espacial con Python"
   ]
  },
  {
   "cell_type": "markdown",
   "id": "e37a2804",
   "metadata": {},
   "source": [
    "Así como la cabra tira al monte van mis pies en enhiesto caminar"
   ]
  },
  {
   "cell_type": "markdown",
   "id": "f574de08",
   "metadata": {},
   "source": [
    "# Jugando con los Notebooks"
   ]
  },
  {
   "cell_type": "markdown",
   "id": "ab43eaaa",
   "metadata": {},
   "source": [
    "Vamos a aprender como movernos por las celdas y como \"operar\" con ellas"
   ]
  },
  {
   "cell_type": "markdown",
   "id": "33bf00da",
   "metadata": {},
   "source": [
    "Notad la diferencia entre el color verde y azul cuando seleccionamos una celda. La celda en verde está lista para introducir el código o el texto en ella. Mientras que cuando la celda está en azul podemos insertar nuevas celdas (\"a\" (above) o \"b\" (below)) o seleccionar varias celdas a la vez dejando presionado el shift mientras clickamos en las flechas de arriba o abajo.\n",
    "Recordad que para poner la selección en verde tan solo hay que clickar dentro del espacio para insertar el código mientras que para la selección azul hay que pinchar a la izquierda de la zona de código (\"In []\")"
   ]
  },
  {
   "cell_type": "code",
   "execution_count": 2,
   "id": "1a0d642c",
   "metadata": {},
   "outputs": [
    {
     "name": "stdout",
     "output_type": "stream",
     "text": [
      "Hello world\n"
     ]
    }
   ],
   "source": [
    "print('Hello world')"
   ]
  },
  {
   "cell_type": "code",
   "execution_count": 3,
   "id": "6f7aa343",
   "metadata": {},
   "outputs": [
    {
     "name": "stdout",
     "output_type": "stream",
     "text": [
      "Hello world again\n"
     ]
    }
   ],
   "source": [
    "print(\"Hello world again\")"
   ]
  },
  {
   "cell_type": "markdown",
   "id": "f86b250f",
   "metadata": {},
   "source": [
    "Arriba hemos creado y ejecutado nuestras dos primeras celdas de código. Podemos probar a imprimir aquí el Zen de python"
   ]
  },
  {
   "cell_type": "code",
   "execution_count": 4,
   "id": "bf064677",
   "metadata": {},
   "outputs": [
    {
     "name": "stdout",
     "output_type": "stream",
     "text": [
      "The Zen of Python, by Tim Peters\n",
      "\n",
      "Beautiful is better than ugly.\n",
      "Explicit is better than implicit.\n",
      "Simple is better than complex.\n",
      "Complex is better than complicated.\n",
      "Flat is better than nested.\n",
      "Sparse is better than dense.\n",
      "Readability counts.\n",
      "Special cases aren't special enough to break the rules.\n",
      "Although practicality beats purity.\n",
      "Errors should never pass silently.\n",
      "Unless explicitly silenced.\n",
      "In the face of ambiguity, refuse the temptation to guess.\n",
      "There should be one-- and preferably only one --obvious way to do it.\n",
      "Although that way may not be obvious at first unless you're Dutch.\n",
      "Now is better than never.\n",
      "Although never is often better than *right* now.\n",
      "If the implementation is hard to explain, it's a bad idea.\n",
      "If the implementation is easy to explain, it may be a good idea.\n",
      "Namespaces are one honking great idea -- let's do more of those!\n"
     ]
    }
   ],
   "source": [
    "import this"
   ]
  },
  {
   "cell_type": "markdown",
   "id": "e6b9c019",
   "metadata": {},
   "source": [
    "## ¿Que son los notebooks?"
   ]
  },
  {
   "cell_type": "markdown",
   "id": "daed262a",
   "metadata": {},
   "source": [
    "Los notebooks son cuadernos web intercativos para ejecutar código python basados en Javascript y CSS. \n",
    "Es posible aplicar estilos al texto como haríamos en el diseño de una página web. Por ejmplo \n",
    "<font color='red'>podemos cambiar el color del texto</font> o también la tipología a **negrita** o a *cursiva*. Por supuesto, también podemos ***combinar esto*** o ~~tachar algunas palabras~~ \n"
   ]
  },
  {
   "cell_type": "markdown",
   "id": "a6aa2794",
   "metadata": {},
   "source": [
    "A veces puede ser útil crear listas de texto:\n",
    "\n",
    "1. Primer elemento\n",
    "2. Elemento 2  \n",
    "13. Tercer elemento\n",
    "\n",
    "* Primerito elemento\n",
    "  * Anidado 1\n",
    "  * Anidado 2\n",
    "    1. Let's try something\n",
    "    1. Type one again\n",
    "  \n",
    "* Segundito elemento\n",
    "- Otra vez primero\n",
    "    - Anidado "
   ]
  },
  {
   "cell_type": "markdown",
   "id": "2118558f",
   "metadata": {},
   "source": [
    "Esta posibilidad de intercalar texto con código hace de los Notebooks un elemento muy didáctico. Pero además nos permiten la opción de incluir imágenes o vídeos tal y como lo haríamos en cualquier documento de Markdown"
   ]
  },
  {
   "cell_type": "markdown",
   "id": "613e4f4e",
   "metadata": {},
   "source": [
    "![](https://cdn.memegenerator.es/imagenes/memes/full/21/4/21049581.jpg)"
   ]
  },
  {
   "cell_type": "markdown",
   "id": "f9b6dabf",
   "metadata": {},
   "source": [
    "Inciso!! También podemos usar las celdas como calculadora ;P"
   ]
  },
  {
   "cell_type": "code",
   "execution_count": 43,
   "id": "f7c5af9b",
   "metadata": {},
   "outputs": [
    {
     "data": {
      "text/plain": [
       "True"
      ]
     },
     "execution_count": 43,
     "metadata": {},
     "output_type": "execute_result"
    }
   ],
   "source": [
    "68/18 == (12/3 - 4/18)"
   ]
  },
  {
   "cell_type": "markdown",
   "id": "d2d0f9d9",
   "metadata": {},
   "source": [
    "Otra cosa que podemos hacer es ejecutar otros lenguajes de programación dentro de una celda utilizando las \"Magias\""
   ]
  },
  {
   "cell_type": "code",
   "execution_count": 49,
   "id": "4a1f9b7e",
   "metadata": {},
   "outputs": [
    {
     "data": {
      "text/html": [
       "<a href='https://www.memegenerator.es/meme/21049581'><img src='https://cdn.memegenerator.es/imagenes/memes/full/21/4/21049581.jpg' alt='memegenerator.es' border='0'></a> Creado con <a target='_blank' href='https://www.memegenerator.es'>memegenerator.es</a>\n"
      ],
      "text/plain": [
       "<IPython.core.display.HTML object>"
      ]
     },
     "metadata": {},
     "output_type": "display_data"
    }
   ],
   "source": [
    "%%HTML\n",
    "<a href='https://www.memegenerator.es/meme/21049581'><img src='https://cdn.memegenerator.es/imagenes/memes/full/21/4/21049581.jpg' alt='memegenerator.es' border='0'></a> Creado con <a target='_blank' href='https://www.memegenerator.es'>memegenerator.es</a>"
   ]
  },
  {
   "cell_type": "markdown",
   "id": "7e0e4a4f",
   "metadata": {},
   "source": [
    "También podemos crear tablas. Aquí una web estupenda para generarlas y solo tener que copiar el código generado: https://www.tablesgenerator.com/markdown_tables"
   ]
  },
  {
   "cell_type": "markdown",
   "id": "24b186e9",
   "metadata": {},
   "source": [
    "| Nombre            | Apellido | Nota curso Python | Faltas de Asistencia | Email |\n",
    "|-------------------|----------|-------------------|----------------------|-------|\n",
    "| David             | Aragonés | 8                 |                      |       |\n",
    "| Gabriela Patricia | ???      | 4                 |                      |       |\n",
    "| Antonio Jesus     | López    | 7                 |                      |       |"
   ]
  },
  {
   "cell_type": "markdown",
   "id": "3c34f468",
   "metadata": {},
   "source": [
    "Insertar fragmentos de código"
   ]
  },
  {
   "cell_type": "markdown",
   "id": "58fce195",
   "metadata": {},
   "source": [
    "```python\n",
    "print('Hello world!')\n",
    "```"
   ]
  },
  {
   "cell_type": "markdown",
   "id": "a720bde9",
   "metadata": {},
   "source": [
    "```java\n",
    "\n",
    "class HelloWorld {\n",
    "    public static void main(String[] args) {\n",
    "        System.out.println(\"Hello, World!\"); \n",
    "    }\n",
    "}\n",
    "```"
   ]
  },
  {
   "cell_type": "markdown",
   "id": "0b731ed4",
   "metadata": {},
   "source": [
    "```html\n",
    "\n",
    "<!DOCTYPE HTML>\n",
    "<html>\n",
    "\n",
    "<body>\n",
    "\n",
    "  <script>\n",
    "    alert( 'Hello, world!' );\n",
    "  </script>\n",
    "\n",
    "</body>\n",
    "\n",
    "</html>\n",
    "```"
   ]
  },
  {
   "cell_type": "markdown",
   "id": "0b249727",
   "metadata": {},
   "source": [
    "LaTex "
   ]
  },
  {
   "cell_type": "markdown",
   "id": "1b248d56",
   "metadata": {},
   "source": [
    "$$\n",
    "\\sin(-\\alpha)=-\\sin(\\alpha)\\\\\n",
    "\\arccos(x)=\\arcsin(u)\\\\\n",
    "\\log_n(n)=1\\\\\n",
    "\\tan(x) = \\frac{\\sin(x)}{\\cos(x)}\n",
    "$$"
   ]
  },
  {
   "cell_type": "markdown",
   "id": "8b296953",
   "metadata": {},
   "source": [
    "$$\n",
    "sign(x) = \\left\\{\n",
    "    \\begin{array}\\\\\n",
    "        1 & \\mbox{if } \\ x \\in \\mathbf{N}^* \\\\\n",
    "        0 & \\mbox{if } \\ x = 0 \\\\\n",
    "        -1 & \\mbox{else.}\n",
    "    \\end{array}\n",
    "\\right.\n",
    "$$\n",
    "\n",
    "\\\\\n",
    "\n",
    "$$\n",
    " \\left.\n",
    "    \\begin{array} \\\\\n",
    "        \\alpha^2 = \\sqrt5 \\\\\n",
    "        \\alpha \\geq 0 \n",
    "    \\end{array}\n",
    "\\right \\}=\\alpha = 5 \n",
    "$$"
   ]
  },
  {
   "cell_type": "markdown",
   "id": "6585052d",
   "metadata": {},
   "source": [
    "Simple integral:\n",
    "$$\\int_{a}^b f(x)dx$$\n",
    "\n",
    "Double integral:\n",
    "$$\\int_{a}^b\\int_{c}^d f(x,y)\\,dxdy$$\t\n",
    "\n",
    "Triple integral:\n",
    "$$\\iiint$$\t\n",
    "\n",
    "Quadruple integral:\n",
    "$$\\iiiint$$\t\n",
    "\n",
    "Multiple integral :\n",
    "$$\\idotsint$$\n",
    "\n",
    "Contour integral:\n",
    "$$\\oint$$\t"
   ]
  },
  {
   "cell_type": "markdown",
   "id": "e7043f0e",
   "metadata": {},
   "source": [
    "# Magics"
   ]
  },
  {
   "cell_type": "markdown",
   "id": "9c75c428",
   "metadata": {},
   "source": [
    "# Widgets"
   ]
  },
  {
   "cell_type": "markdown",
   "id": "d08d5e7e",
   "metadata": {},
   "source": [
    "# Extensions"
   ]
  },
  {
   "cell_type": "code",
   "execution_count": null,
   "id": "6ee25bdc",
   "metadata": {},
   "outputs": [],
   "source": []
  }
 ],
 "metadata": {
  "hide_input": false,
  "kernelspec": {
   "display_name": "Python 3",
   "language": "python",
   "name": "python3"
  },
  "language_info": {
   "codemirror_mode": {
    "name": "ipython",
    "version": 3
   },
   "file_extension": ".py",
   "mimetype": "text/x-python",
   "name": "python",
   "nbconvert_exporter": "python",
   "pygments_lexer": "ipython3",
   "version": "3.8.8"
  },
  "toc": {
   "base_numbering": 1,
   "nav_menu": {
    "height": "312px",
    "width": "364px"
   },
   "number_sections": true,
   "sideBar": true,
   "skip_h1_title": false,
   "title_cell": "Table of Contents",
   "title_sidebar": "Contents",
   "toc_cell": false,
   "toc_position": {},
   "toc_section_display": true,
   "toc_window_display": true
  }
 },
 "nbformat": 4,
 "nbformat_minor": 5
}
