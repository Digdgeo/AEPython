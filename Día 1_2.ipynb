{
 "cells": [
  {
   "cell_type": "markdown",
   "id": "27b8c469",
   "metadata": {},
   "source": [
    "# Bienvenidos al curso de Análisis Espacial con Python"
   ]
  },
  {
   "cell_type": "markdown",
   "id": "e37a2804",
   "metadata": {},
   "source": [
    "Así como la cabra tira al monte van mis pies en enhiesto caminar"
   ]
  },
  {
   "cell_type": "markdown",
   "id": "f574de08",
   "metadata": {},
   "source": [
    "# Jugando con los Notebooks"
   ]
  },
  {
   "cell_type": "markdown",
   "id": "ab43eaaa",
   "metadata": {},
   "source": [
    "Vamos a aprender como movernos por las celdas y como \"operar\" con ellas"
   ]
  },
  {
   "cell_type": "markdown",
   "id": "33bf00da",
   "metadata": {},
   "source": [
    "Notad la diferencia entre el color verde y azul cuando seleccionamos una celda. La celda en verde está lista para introducir el código o el texto en ella. Mientras que cuando la celda está en azul podemos insertar nuevas celdas (\"a\" (above) o \"b\" (below)) o seleccionar varias celdas a la vez dejando presionado el shift mientras clickamos en las flechas de arriba o abajo.\n",
    "Recordad que para poner la selección en verde tan solo hay que clickar dentro del espacio para insertar el código mientras que para la selección azul hay que pinchar a la izquierda de la zona de código (\"In []\")"
   ]
  },
  {
   "cell_type": "code",
   "execution_count": null,
   "id": "1a0d642c",
   "metadata": {
    "ExecuteTime": {
     "end_time": "2023-06-06T11:38:08.524808Z",
     "start_time": "2023-06-06T11:38:08.520349Z"
    }
   },
   "outputs": [],
   "source": [
    "print('Hello world')"
   ]
  },
  {
   "cell_type": "code",
   "execution_count": null,
   "id": "6f7aa343",
   "metadata": {
    "ExecuteTime": {
     "end_time": "2023-06-06T11:38:08.890630Z",
     "start_time": "2023-06-06T11:38:08.884926Z"
    }
   },
   "outputs": [],
   "source": [
    "print(\"Hello world again\")"
   ]
  },
  {
   "cell_type": "markdown",
   "id": "f86b250f",
   "metadata": {},
   "source": [
    "Arriba hemos creado y ejecutado nuestras dos primeras celdas de código. Podemos probar a imprimir aquí el Zen de python"
   ]
  },
  {
   "cell_type": "code",
   "execution_count": null,
   "id": "bf064677",
   "metadata": {
    "ExecuteTime": {
     "end_time": "2023-06-06T11:38:14.869195Z",
     "start_time": "2023-06-06T11:38:14.863889Z"
    },
    "hide_input": false
   },
   "outputs": [],
   "source": [
    "import this"
   ]
  },
  {
   "cell_type": "markdown",
   "id": "e6b9c019",
   "metadata": {},
   "source": [
    "## ¿Que son los notebooks?"
   ]
  },
  {
   "cell_type": "markdown",
   "id": "daed262a",
   "metadata": {},
   "source": [
    "Los notebooks son cuadernos web intercativos para ejecutar código python basados en Javascript y CSS. \n",
    "Es posible aplicar estilos al texto como haríamos en el diseño de una página web. Por ejemplo \n",
    "<font color='red'>podemos cambiar el color del texto</font> o también la tipología a **negrita** o a *cursiva*. Por supuesto, también podemos ***combinar esto*** o ~~tachar algunas palabras~~ \n"
   ]
  },
  {
   "cell_type": "markdown",
   "id": "a6aa2794",
   "metadata": {},
   "source": [
    "A veces puede ser útil crear listas de texto:\n",
    "\n",
    "1. Primer elemento\n",
    "2. Elemento 2  \n",
    "13. Tercer elemento\n",
    "\n",
    "* Primerito elemento\n",
    "  * Anidado 1\n",
    "  * Anidado 2\n",
    "    1. Let's try something\n",
    "    1. Type one again\n",
    "  \n",
    "* Segundito elemento\n",
    "- Otra vez primero\n",
    "    - Anidado "
   ]
  },
  {
   "cell_type": "markdown",
   "id": "2118558f",
   "metadata": {},
   "source": [
    "Esta posibilidad de intercalar texto con código hace de los Notebooks un elemento muy didáctico. Pero además nos permiten la opción de incluir imágenes o vídeos tal y como lo haríamos en cualquier documento de Markdown"
   ]
  },
  {
   "cell_type": "markdown",
   "id": "613e4f4e",
   "metadata": {},
   "source": [
    "![](https://cdn.memegenerator.es/imagenes/memes/full/21/4/21049581.jpg)"
   ]
  },
  {
   "cell_type": "markdown",
   "id": "f9b6dabf",
   "metadata": {},
   "source": [
    "Inciso!! También podemos usar las celdas como calculadora ;P"
   ]
  },
  {
   "cell_type": "code",
   "execution_count": null,
   "id": "f7c5af9b",
   "metadata": {
    "ExecuteTime": {
     "end_time": "2023-06-06T11:38:23.501127Z",
     "start_time": "2023-06-06T11:38:23.493174Z"
    }
   },
   "outputs": [],
   "source": [
    "68/18 == (12/3 - 4/18)"
   ]
  },
  {
   "cell_type": "markdown",
   "id": "d2d0f9d9",
   "metadata": {},
   "source": [
    "Otra cosa que podemos hacer es ejecutar otros lenguajes de programación dentro de una celda utilizando las \"Magias\""
   ]
  },
  {
   "cell_type": "code",
   "execution_count": null,
   "id": "4a1f9b7e",
   "metadata": {
    "ExecuteTime": {
     "end_time": "2023-06-07T10:18:34.231994Z",
     "start_time": "2023-06-07T10:18:34.223778Z"
    }
   },
   "outputs": [],
   "source": [
    "%%HTML\n",
    "<a href='https://www.memegenerator.es/meme/21049581'><img src='https://cdn.memegenerator.es/imagenes/memes/full/21/4/21049581.jpg' alt='memegenerator.es' border='0'></a> Creado con <a target='_blank' href='https://www.memegenerator.es'>memegenerator.es</a>"
   ]
  },
  {
   "cell_type": "code",
   "execution_count": null,
   "id": "c38481cc",
   "metadata": {
    "ExecuteTime": {
     "end_time": "2023-06-07T10:18:31.359190Z",
     "start_time": "2023-06-07T10:18:31.352740Z"
    }
   },
   "outputs": [],
   "source": [
    "%%HTML\n",
    "\n",
    "<iframe width=\"560\" height=\"315\" src=\"https://www.youtube.com/embed/5L8iBoL9Xhw\" title=\"YouTube video player\" frameborder=\"0\" allow=\"accelerometer; autoplay; clipboard-write; encrypted-media; gyroscope; picture-in-picture; web-share\" allowfullscreen></iframe>"
   ]
  },
  {
   "cell_type": "markdown",
   "id": "7e0e4a4f",
   "metadata": {},
   "source": [
    "También podemos crear tablas. Aquí una web estupenda para generarlas y solo tener que copiar el código generado: https://www.tablesgenerator.com/markdown_tables"
   ]
  },
  {
   "cell_type": "markdown",
   "id": "24b186e9",
   "metadata": {},
   "source": [
    "| Nombre            | Apellido | Nota curso Python | Faltas de Asistencia | Email |\n",
    "|-------------------|----------|-------------------|----------------------|-------|\n",
    "| David             | Aragonés | 8                 |                      |       |\n",
    "| Gabriela Patricia | ???      | 4                 |                      |       |\n",
    "| Antonio Jesus     | López    | 7                 |                      |       |"
   ]
  },
  {
   "cell_type": "markdown",
   "id": "3c34f468",
   "metadata": {},
   "source": [
    "Insertar fragmentos de código"
   ]
  },
  {
   "cell_type": "markdown",
   "id": "58fce195",
   "metadata": {},
   "source": [
    "```python\n",
    "print('Hello world!')\n",
    "```"
   ]
  },
  {
   "cell_type": "markdown",
   "id": "a720bde9",
   "metadata": {},
   "source": [
    "```java\n",
    "\n",
    "class HelloWorld {\n",
    "    public static void main(String[] args) {\n",
    "        System.out.println(\"Hello, World!\"); \n",
    "    }\n",
    "}\n",
    "```"
   ]
  },
  {
   "cell_type": "markdown",
   "id": "0b731ed4",
   "metadata": {},
   "source": [
    "```html\n",
    "\n",
    "<!DOCTYPE HTML>\n",
    "<html>\n",
    "\n",
    "<body>\n",
    "\n",
    "  <script>\n",
    "    alert( 'Hello, world!' );\n",
    "  </script>\n",
    "\n",
    "</body>\n",
    "\n",
    "</html>\n",
    "```"
   ]
  },
  {
   "cell_type": "markdown",
   "id": "0b249727",
   "metadata": {},
   "source": [
    "LaTex "
   ]
  },
  {
   "cell_type": "markdown",
   "id": "1b248d56",
   "metadata": {
    "hide_input": false
   },
   "source": [
    "$$\n",
    "\\sin(-\\alpha)=-\\sin(\\alpha)\\\\\n",
    "\\arccos(x)=\\arcsin(u)\\\\\n",
    "\\log_n(n)=1\\\\\n",
    "\\tan(x) = \\frac{\\sin(x)}{\\cos(x)}\n",
    "$$"
   ]
  },
  {
   "cell_type": "markdown",
   "id": "8b296953",
   "metadata": {},
   "source": [
    "$$\n",
    "sign(x) = \\left\\{\n",
    "    \\begin{array}\\\\\n",
    "        1 & \\mbox{if } \\ x \\in \\mathbf{N}^* \\\\\n",
    "        0 & \\mbox{if } \\ x = 0 \\\\\n",
    "        -1 & \\mbox{else.}\n",
    "    \\end{array}\n",
    "\\right.\n",
    "$$\n",
    "\n",
    "\\\\\n",
    "\n",
    "$$\n",
    " \\left.\n",
    "    \\begin{array} \\\\\n",
    "        \\alpha^2 = \\sqrt5 \\\\\n",
    "        \\alpha \\geq 0 \n",
    "    \\end{array}\n",
    "\\right \\}=\\alpha = 5 \n",
    "$$"
   ]
  },
  {
   "cell_type": "markdown",
   "id": "6585052d",
   "metadata": {},
   "source": [
    "Simple integral:\n",
    "$$\\int_{a}^b f(x)dx$$\n",
    "\n",
    "Double integral:\n",
    "$$\\int_{a}^b\\int_{c}^d f(x,y)\\,dxdy$$\t\n",
    "\n",
    "Triple integral:\n",
    "$$\\iiint$$\t\n",
    "\n",
    "Quadruple integral:\n",
    "$$\\iiiint$$\t\n",
    "\n",
    "Multiple integral :\n",
    "$$\\idotsint$$\n",
    "\n",
    "Contour integral:\n",
    "$$\\oint$$\t"
   ]
  },
  {
   "cell_type": "markdown",
   "id": "e7043f0e",
   "metadata": {},
   "source": [
    "# Magics"
   ]
  },
  {
   "cell_type": "code",
   "execution_count": null,
   "id": "618cd440",
   "metadata": {},
   "outputs": [],
   "source": [
    "%lsmagic"
   ]
  },
  {
   "cell_type": "markdown",
   "id": "f762056d",
   "metadata": {},
   "source": [
    "Podemos consultar en que consiste cada una de ellas interrogándolas con \"?\""
   ]
  },
  {
   "cell_type": "code",
   "execution_count": null,
   "id": "72b1744a",
   "metadata": {},
   "outputs": [],
   "source": [
    "?autosave"
   ]
  },
  {
   "cell_type": "code",
   "execution_count": null,
   "id": "0f80df8a",
   "metadata": {
    "ExecuteTime": {
     "end_time": "2023-06-06T11:38:41.874642Z",
     "start_time": "2023-06-06T11:38:41.869366Z"
    }
   },
   "outputs": [],
   "source": [
    "autosave 60"
   ]
  },
  {
   "cell_type": "markdown",
   "id": "60c93f75",
   "metadata": {},
   "source": [
    "Tiempo de ejecución de cada celda"
   ]
  },
  {
   "cell_type": "code",
   "execution_count": null,
   "id": "926c5371",
   "metadata": {},
   "outputs": [],
   "source": [
    "%%timeit\n",
    "\n",
    "l = []\n",
    "\n",
    "for i in range(1000):\n",
    "    l.append(i)"
   ]
  },
  {
   "cell_type": "markdown",
   "id": "652c1fef",
   "metadata": {},
   "source": [
    "Tiempo de ejecución de cada línea. Notad la diferencia entre celda y línea"
   ]
  },
  {
   "cell_type": "code",
   "execution_count": null,
   "id": "e2e214fa",
   "metadata": {},
   "outputs": [],
   "source": [
    "%timeit  l = [i for i in range(1000)]\n",
    "%timeit  l = [i for i in range(100000)]"
   ]
  },
  {
   "cell_type": "markdown",
   "id": "4194d7bd",
   "metadata": {},
   "source": [
    "Nos puede ocurrir que queramos usar una variable ya creada en otro cuaderno. Podemos hacerlo usando la magia store"
   ]
  },
  {
   "cell_type": "code",
   "execution_count": null,
   "id": "a722f807",
   "metadata": {
    "ExecuteTime": {
     "end_time": "2023-06-06T11:53:03.089686Z",
     "start_time": "2023-06-06T11:53:03.082593Z"
    }
   },
   "outputs": [],
   "source": [
    "l = [i for i in range(1000)] "
   ]
  },
  {
   "cell_type": "code",
   "execution_count": null,
   "id": "d18fd920",
   "metadata": {
    "ExecuteTime": {
     "end_time": "2023-06-06T11:38:52.873345Z",
     "start_time": "2023-06-06T11:38:52.860658Z"
    },
    "scrolled": true
   },
   "outputs": [],
   "source": [
    "%store l"
   ]
  },
  {
   "cell_type": "markdown",
   "id": "32ecaa8d",
   "metadata": {},
   "source": [
    "Por supuesto podemos guardar el contenido de la celda como un script de python"
   ]
  },
  {
   "cell_type": "code",
   "execution_count": null,
   "id": "b472e4ba",
   "metadata": {
    "ExecuteTime": {
     "end_time": "2023-06-06T11:53:43.265233Z",
     "start_time": "2023-06-06T11:53:43.256237Z"
    }
   },
   "outputs": [],
   "source": [
    "%%writefile lpatata.py\n",
    "\n",
    "l = []\n",
    "\n",
    "for i in range(100000):\n",
    "    \n",
    "    if i%2==0:\n",
    "        \n",
    "        l.append(i)\n",
    "        \n",
    "    else:\n",
    "        \n",
    "        l.append('patata')"
   ]
  },
  {
   "cell_type": "code",
   "execution_count": null,
   "id": "3bda29a7",
   "metadata": {},
   "outputs": [],
   "source": [
    "!ls"
   ]
  },
  {
   "cell_type": "markdown",
   "id": "20f514ff",
   "metadata": {},
   "source": [
    "A la inversa, podemos abrir un script de python para ver o copiar su contenido"
   ]
  },
  {
   "cell_type": "code",
   "execution_count": null,
   "id": "bf5f47ea",
   "metadata": {},
   "outputs": [],
   "source": [
    "%pycat lpatata.py"
   ]
  },
  {
   "cell_type": "markdown",
   "id": "9c75c428",
   "metadata": {},
   "source": [
    "# Widgets"
   ]
  },
  {
   "cell_type": "markdown",
   "id": "fef01b6e",
   "metadata": {},
   "source": [
    "Los Widgets no son ni más ni menos, que elementos que añaden utilidades de GUI a nuestro Notebook"
   ]
  },
  {
   "cell_type": "code",
   "execution_count": null,
   "id": "d82f16da",
   "metadata": {},
   "outputs": [],
   "source": [
    "#Via Conda\n",
    "!conda install -c conda-forge ipywidgets"
   ]
  },
  {
   "cell_type": "code",
   "execution_count": null,
   "id": "5d5f289c",
   "metadata": {},
   "outputs": [],
   "source": [
    "#Via Pip\n",
    "!pip install ipywidgets\n",
    "!jupyter nbextension enable --py widgetsnbextension"
   ]
  },
  {
   "cell_type": "code",
   "execution_count": null,
   "id": "c3715614",
   "metadata": {
    "ExecuteTime": {
     "end_time": "2023-06-06T11:39:21.391691Z",
     "start_time": "2023-06-06T11:39:21.387205Z"
    }
   },
   "outputs": [],
   "source": [
    "import ipywidgets as widgets"
   ]
  },
  {
   "cell_type": "code",
   "execution_count": null,
   "id": "e58e7169",
   "metadata": {
    "ExecuteTime": {
     "end_time": "2023-06-06T11:39:21.763229Z",
     "start_time": "2023-06-06T11:39:21.754196Z"
    }
   },
   "outputs": [],
   "source": [
    "year = widgets.IntSlider(\n",
    "    min=2000,\n",
    "    max=2023,\n",
    "    step=1,\n",
    "    description='Slider:',\n",
    "    value=2012\n",
    ")"
   ]
  },
  {
   "cell_type": "code",
   "execution_count": null,
   "id": "583bc977",
   "metadata": {
    "ExecuteTime": {
     "end_time": "2023-06-06T11:39:26.028262Z",
     "start_time": "2023-06-06T11:39:26.017944Z"
    },
    "scrolled": true
   },
   "outputs": [],
   "source": [
    "year"
   ]
  },
  {
   "cell_type": "code",
   "execution_count": null,
   "id": "61fc0a2d",
   "metadata": {
    "ExecuteTime": {
     "end_time": "2023-06-06T11:39:26.455207Z",
     "start_time": "2023-06-06T11:39:26.448116Z"
    }
   },
   "outputs": [],
   "source": [
    "if year.value < 2020:\n",
    "    print('Viejuno')"
   ]
  },
  {
   "cell_type": "code",
   "execution_count": null,
   "id": "094ace42",
   "metadata": {},
   "outputs": [],
   "source": [
    "print(dir(widgets))"
   ]
  },
  {
   "cell_type": "code",
   "execution_count": null,
   "id": "44e8eaea",
   "metadata": {
    "ExecuteTime": {
     "end_time": "2023-06-06T11:39:32.837687Z",
     "start_time": "2023-06-06T11:39:32.822293Z"
    }
   },
   "outputs": [],
   "source": [
    "#from IPython.display import display\n",
    "\n",
    "btn = widgets.Button(description='Saludo')\n",
    "display(btn)\n",
    "count = 0\n",
    "def btn_eventhandler(obj):\n",
    "    global count\n",
    "    count+=1\n",
    "    print('Hello World {} from the {} button!'.format(count, obj.description))\n",
    "btn.on_click(btn_eventhandler)"
   ]
  },
  {
   "cell_type": "code",
   "execution_count": null,
   "id": "121220c1",
   "metadata": {
    "ExecuteTime": {
     "end_time": "2023-06-06T11:39:46.862692Z",
     "start_time": "2023-06-06T11:39:46.843599Z"
    }
   },
   "outputs": [],
   "source": [
    "widgets.Dropdown(\n",
    "    options=['S1', 'S2', 'S3'],\n",
    "    value='S2',\n",
    "    description='Sat:',\n",
    "    disabled=False,\n",
    ")"
   ]
  },
  {
   "cell_type": "markdown",
   "id": "8b2c77d5",
   "metadata": {},
   "source": [
    "TODO está en internet:   \n",
    "    \n",
    "    https://ipywidgets.readthedocs.io/en/stable/examples/Widget%20List.html"
   ]
  },
  {
   "cell_type": "markdown",
   "id": "d08d5e7e",
   "metadata": {},
   "source": [
    "# Extensions & Themes"
   ]
  },
  {
   "cell_type": "code",
   "execution_count": null,
   "id": "e62942e5",
   "metadata": {},
   "outputs": [],
   "source": [
    "conda install -c conda-forge jupyter_contrib_nbextensions"
   ]
  },
  {
   "cell_type": "code",
   "execution_count": null,
   "id": "f5701009",
   "metadata": {
    "ExecuteTime": {
     "end_time": "2023-06-06T11:48:46.832579Z",
     "start_time": "2023-06-06T11:48:45.223638Z"
    }
   },
   "outputs": [],
   "source": [
    "pip install jupyterthemes"
   ]
  },
  {
   "cell_type": "code",
   "execution_count": null,
   "id": "642e9e54",
   "metadata": {
    "ExecuteTime": {
     "end_time": "2023-06-06T11:49:40.387602Z",
     "start_time": "2023-06-06T11:49:40.015607Z"
    }
   },
   "outputs": [],
   "source": [
    "!jt -l"
   ]
  },
  {
   "cell_type": "code",
   "execution_count": null,
   "id": "d63de761",
   "metadata": {
    "ExecuteTime": {
     "end_time": "2023-06-06T11:51:04.831942Z",
     "start_time": "2023-06-06T11:51:04.034375Z"
    }
   },
   "outputs": [],
   "source": [
    "!jt -t solarizedd"
   ]
  },
  {
   "cell_type": "code",
   "execution_count": null,
   "id": "87d4e473",
   "metadata": {},
   "outputs": [],
   "source": [
    "!jt -r"
   ]
  },
  {
   "cell_type": "markdown",
   "id": "47e5db2b",
   "metadata": {},
   "source": [
    "# Empezamos a pythonear!"
   ]
  },
  {
   "cell_type": "markdown",
   "id": "17b0914e",
   "metadata": {},
   "source": [
    "Vamos a ver los tipos de datos y elementos que existen en python:\n",
    "    \n",
    "* String\n",
    "  - Variables\n",
    "  - Text slicing\n",
    "  - Count\n",
    "  - Methods Help Shift + Tab\n",
    "  - split\n",
    "  - join\n",
    "* Booleans\n",
    "* Condicionales If\n",
    "* Bucles\n",
    "  - While\n",
    "  - For\n",
    "* Int\n",
    "  - Varibales\n",
    "  - Maths\n",
    "  - Type\n",
    "* Floats\n",
    "* Listas\n",
    "* Sets\n",
    "* Tuplas\n",
    "* Diccioniarios\n",
    "* Funciones\n",
    "* Clases"
   ]
  },
  {
   "cell_type": "markdown",
   "id": "1dbe83bb",
   "metadata": {},
   "source": [
    "## Strings"
   ]
  },
  {
   "cell_type": "code",
   "execution_count": null,
   "id": "c7d11b3a",
   "metadata": {
    "ExecuteTime": {
     "end_time": "2023-06-07T09:32:44.675260Z",
     "start_time": "2023-06-07T09:32:44.664918Z"
    }
   },
   "outputs": [],
   "source": [
    "'Soy un string'"
   ]
  },
  {
   "cell_type": "code",
   "execution_count": null,
   "id": "6523d575",
   "metadata": {
    "ExecuteTime": {
     "end_time": "2023-06-07T09:15:28.302104Z",
     "start_time": "2023-06-07T09:15:28.297270Z"
    }
   },
   "outputs": [],
   "source": [
    "'Soy un string'[:3]"
   ]
  },
  {
   "cell_type": "code",
   "execution_count": null,
   "id": "8acdc2b3",
   "metadata": {
    "ExecuteTime": {
     "end_time": "2023-06-07T09:15:59.830910Z",
     "start_time": "2023-06-07T09:15:59.824911Z"
    }
   },
   "outputs": [],
   "source": [
    "s = 'Soy un string'\n",
    "s[-6:]"
   ]
  },
  {
   "cell_type": "code",
   "execution_count": null,
   "id": "f3ad6b99",
   "metadata": {
    "ExecuteTime": {
     "end_time": "2023-06-07T09:24:43.262278Z",
     "start_time": "2023-06-07T09:24:43.252546Z"
    }
   },
   "outputs": [],
   "source": [
    "s.count('n')"
   ]
  },
  {
   "cell_type": "code",
   "execution_count": null,
   "id": "5eab5e03",
   "metadata": {
    "ExecuteTime": {
     "end_time": "2023-06-07T09:26:45.225273Z",
     "start_time": "2023-06-07T09:26:45.220608Z"
    }
   },
   "outputs": [],
   "source": [
    "s.upper().lower().count('i')"
   ]
  },
  {
   "cell_type": "markdown",
   "id": "91b00219",
   "metadata": {},
   "source": [
    "Vamos a ver como ver la ayuda de las funciones, para ello crearemos la función saludo"
   ]
  },
  {
   "cell_type": "code",
   "execution_count": 4,
   "id": "4ab910bf",
   "metadata": {
    "ExecuteTime": {
     "end_time": "2023-06-07T12:54:48.285070Z",
     "start_time": "2023-06-07T12:54:48.281066Z"
    }
   },
   "outputs": [],
   "source": [
    "# Hacerlo al llegar a las funciones\n",
    "\n",
    "def saludo(nombre):\n",
    "    \n",
    "    \"\"\"Función para saludar a alguien\n",
    "\n",
    "        Args:\n",
    "            nombre->String\n",
    "        Returns:\n",
    "        Hello + Nombre\n",
    "        \"\"\"\n",
    "\n",
    "    return 'Hello ' + nombre"
   ]
  },
  {
   "cell_type": "code",
   "execution_count": 5,
   "id": "4469056c",
   "metadata": {
    "ExecuteTime": {
     "end_time": "2023-06-07T12:54:48.657270Z",
     "start_time": "2023-06-07T12:54:48.649745Z"
    }
   },
   "outputs": [
    {
     "data": {
      "text/plain": [
       "'Hello Pepe'"
      ]
     },
     "execution_count": 5,
     "metadata": {},
     "output_type": "execute_result"
    }
   ],
   "source": [
    "saludo('Pepe')"
   ]
  },
  {
   "cell_type": "code",
   "execution_count": null,
   "id": "0303ad5a",
   "metadata": {
    "ExecuteTime": {
     "end_time": "2023-06-07T09:16:36.472144Z",
     "start_time": "2023-06-07T09:16:36.465184Z"
    }
   },
   "outputs": [],
   "source": [
    "ls = s.split(' ')"
   ]
  },
  {
   "cell_type": "code",
   "execution_count": null,
   "id": "4623b4db",
   "metadata": {
    "ExecuteTime": {
     "end_time": "2023-06-07T09:18:37.357189Z",
     "start_time": "2023-06-07T09:18:37.353426Z"
    }
   },
   "outputs": [],
   "source": [
    "lss = '/'.join(ls)\n",
    "lss"
   ]
  },
  {
   "cell_type": "markdown",
   "id": "df14a4e7",
   "metadata": {},
   "source": [
    "Otra cosa útil que podemos hacer es reempalzar cortes en el tyexto por variables"
   ]
  },
  {
   "cell_type": "code",
   "execution_count": null,
   "id": "d7078ea1",
   "metadata": {
    "ExecuteTime": {
     "end_time": "2023-06-07T12:15:38.009295Z",
     "start_time": "2023-06-07T12:15:38.004196Z"
    }
   },
   "outputs": [],
   "source": [
    "l = ['Cop', 'Fury', 'Tobe']\n",
    "'Mi perro se llama {} y mis **** gatos se llaman {} y {}'.format(l[0], l[1], l[2])"
   ]
  },
  {
   "cell_type": "markdown",
   "id": "aac8c42b",
   "metadata": {
    "ExecuteTime": {
     "end_time": "2023-06-07T09:39:56.009082Z",
     "start_time": "2023-06-07T09:39:56.006462Z"
    }
   },
   "source": [
    "## Numbers and Booleans"
   ]
  },
  {
   "cell_type": "code",
   "execution_count": null,
   "id": "c9940a69",
   "metadata": {
    "ExecuteTime": {
     "end_time": "2023-06-07T09:39:20.804576Z",
     "start_time": "2023-06-07T09:39:20.800603Z"
    }
   },
   "outputs": [],
   "source": [
    "a = 4 + 4\n",
    "aa = 4 + 4.0"
   ]
  },
  {
   "cell_type": "code",
   "execution_count": null,
   "id": "be29ef84",
   "metadata": {
    "ExecuteTime": {
     "end_time": "2023-06-07T09:39:21.675278Z",
     "start_time": "2023-06-07T09:39:21.670986Z"
    }
   },
   "outputs": [],
   "source": [
    "a == aa"
   ]
  },
  {
   "cell_type": "code",
   "execution_count": null,
   "id": "ae2431d2",
   "metadata": {
    "ExecuteTime": {
     "end_time": "2023-06-07T09:25:39.086095Z",
     "start_time": "2023-06-07T09:25:39.075260Z"
    }
   },
   "outputs": [],
   "source": [
    "type(a), type(aa)"
   ]
  },
  {
   "cell_type": "code",
   "execution_count": null,
   "id": "37b326c1",
   "metadata": {
    "ExecuteTime": {
     "end_time": "2023-06-07T09:39:32.672734Z",
     "start_time": "2023-06-07T09:39:32.665974Z"
    }
   },
   "outputs": [],
   "source": [
    "print(a == aa)\n",
    "print(type(a) == type(aa))"
   ]
  },
  {
   "cell_type": "code",
   "execution_count": null,
   "id": "03f6a4d8",
   "metadata": {
    "ExecuteTime": {
     "end_time": "2023-06-07T09:11:23.082556Z",
     "start_time": "2023-06-07T09:11:23.076100Z"
    }
   },
   "outputs": [],
   "source": [
    "b = int(a)"
   ]
  },
  {
   "cell_type": "code",
   "execution_count": null,
   "id": "1060920b",
   "metadata": {
    "ExecuteTime": {
     "end_time": "2023-06-07T09:11:25.734391Z",
     "start_time": "2023-06-07T09:11:25.723804Z"
    }
   },
   "outputs": [],
   "source": [
    "b"
   ]
  },
  {
   "cell_type": "markdown",
   "id": "6f8681f7",
   "metadata": {},
   "source": [
    "Podemos hacer desde las operaciones más sencillas hasta las más complejas importando librerías como Numpy"
   ]
  },
  {
   "cell_type": "code",
   "execution_count": null,
   "id": "29ac3986",
   "metadata": {},
   "outputs": [],
   "source": []
  },
  {
   "cell_type": "markdown",
   "id": "baef0953",
   "metadata": {},
   "source": [
    "Una operación especial es el Modulo o resta de la división"
   ]
  },
  {
   "cell_type": "code",
   "execution_count": null,
   "id": "883f38da",
   "metadata": {},
   "outputs": [],
   "source": []
  },
  {
   "cell_type": "markdown",
   "id": "1c11d323",
   "metadata": {
    "ExecuteTime": {
     "end_time": "2023-06-07T09:43:26.722537Z",
     "start_time": "2023-06-07T09:43:26.715663Z"
    }
   },
   "source": [
    "## Ejercicio Rock, Paper, Scissors, Lizard, Spock"
   ]
  },
  {
   "cell_type": "markdown",
   "id": "cb679404",
   "metadata": {},
   "source": [
    "Reglas:\n",
    "\n",
    "- Las tijeras cortan el papel.\n",
    "- El papel envuelve a la piedra.\n",
    "- La piedra aplasta al lagarto.\n",
    "- El lagarto envenena a Spock.\n",
    "- Spock corta a las tijeras.\n",
    "- Las tijeras decapitan al lagarto.\n",
    "- El lagarto se come el papel.\n",
    "- El papel drefuta a Spock.\n",
    "- Spock vaporiza la piedra.\n",
    "- Y, como siempre ha sido,La piedra quiebra las tijeras."
   ]
  },
  {
   "cell_type": "code",
   "execution_count": null,
   "id": "7f72ef38",
   "metadata": {
    "ExecuteTime": {
     "end_time": "2023-06-07T10:17:54.089372Z",
     "start_time": "2023-06-07T10:17:50.961204Z"
    }
   },
   "outputs": [],
   "source": [
    "# Rock Paper Scissors Lizard Spock\n",
    "\n",
    "# to import random function for using random.randrange\n",
    "import random\n",
    "\n",
    "# function to convert number to name\n",
    "def number_to_name(number):\n",
    "    if number == 0:\n",
    "        return \"Rock\"\n",
    "    elif number == 1:\n",
    "        return \"Spock\"\n",
    "    elif number == 2:\n",
    "        return \"Paper\"\n",
    "    elif number == 3:\n",
    "        return \"Lizard\"\n",
    "    elif number == 4:\n",
    "        return \"Scissors\"\n",
    "    else:\n",
    "        return \"Error\" \n",
    "\n",
    "# function to convert name to number\n",
    "def name_to_number(name):\n",
    "    if name == \"Rock\":\n",
    "        return 0\n",
    "    elif name == \"Spock\":\n",
    "        return 1\n",
    "    elif name == \"Paper\":\n",
    "        return 2\n",
    "    elif name == \"Lizard\":\n",
    "        return 3\n",
    "    elif name == \"Scissors\":\n",
    "        return 4\n",
    "    else:\n",
    "        print (name + \"is not a character in RPSLS\")\n",
    "\n",
    "\n",
    "# function which selects the winner\n",
    "def rpsls(guess): \n",
    "    \n",
    "    # convert name to player_number using name_to_number\n",
    "    player_number = name_to_number(guess)\n",
    "    \n",
    "    # compute random guess for comp_number using random.randrange()\n",
    "    comp_number = random.randrange(0,5)\n",
    "\n",
    "    # compute difference of player_number and comp_number modulo five\n",
    "    winner = (comp_number - player_number) % 5\n",
    "    winner_ = (comp_number - player_number)\n",
    "    print(winner, winner_)\n",
    "\n",
    "    # use if/elif/else to determine winner\n",
    "    if winner < 3:\n",
    "        player_win = False\n",
    "    else:\n",
    "        player_win = True\n",
    "    \n",
    "    # convert comp_number to name using number_to_name\n",
    "    comp_name = number_to_name(comp_number)\n",
    "    \n",
    "    # print results\n",
    "    print (\"Player chooses \" + guess)\n",
    "    print (\"Computer chooses \" + comp_name)\n",
    "    if player_win:\n",
    "        print (\"Player wins!\\n\")\n",
    "    elif comp_number == player_number:\n",
    "        print (\"Player and computer tie!\\n\")\n",
    "    else:\n",
    "        print (\"Computer wins!\\n\")\n",
    "\n",
    "    \n",
    "player_guess = input('Enter your choice.. Options: Rock, Spock, Paper, Lizard, Scissors')\n",
    "\n",
    "rpsls(str(player_guess))\n",
    "    \n",
    "    "
   ]
  },
  {
   "cell_type": "code",
   "execution_count": null,
   "id": "cb587067",
   "metadata": {
    "hide_input": true
   },
   "outputs": [],
   "source": [
    "import os\n",
    "\n",
    "import pandas, numpy\n",
    "\n",
    "for i in range(1000):\n",
    "    print(i+1)"
   ]
  },
  {
   "cell_type": "code",
   "execution_count": null,
   "id": "3984b6c1",
   "metadata": {
    "ExecuteTime": {
     "start_time": "2023-06-07T09:59:14.661Z"
    }
   },
   "outputs": [],
   "source": [
    "rpsls()"
   ]
  },
  {
   "cell_type": "code",
   "execution_count": 6,
   "id": "4583d7d1",
   "metadata": {
    "ExecuteTime": {
     "end_time": "2023-06-07T12:56:44.465812Z",
     "start_time": "2023-06-07T12:56:25.890962Z"
    }
   },
   "outputs": [
    {
     "name": "stdout",
     "output_type": "stream",
     "text": [
      "Enter your choice.. Options: Rock, Spock, Paper, Lizard, ScissorsScissors\n",
      "1 -4\n",
      "Player chooses Scissors\n",
      "Computer chooses Rock\n",
      "Computer wins!\n",
      "\n",
      "Do you want to play again? Y / N\n",
      "k\n",
      "Do you want to play again? Y / N\n",
      "k\n",
      "Do you want to play again? Y / N\n",
      "h\n",
      "Do you want to play again? Y / N\n",
      "Y\n",
      "Enter your choice.. Options: Rock, Spock, Paper, Lizard, Scissorspaper\n",
      "1 1\n",
      "Player chooses Paper\n",
      "Computer chooses Lizard\n",
      "Computer wins!\n",
      "\n",
      "Do you want to play again? Y / N\n",
      "N\n",
      "Goodbay looser\n"
     ]
    }
   ],
   "source": [
    "# Rock Paper Scissors Lizard Spock\n",
    "\n",
    "# to import random function for using random.randrange\n",
    "import random\n",
    "\n",
    "#player_guess = None\n",
    "# function to convert number to name\n",
    "def number_to_name(number):\n",
    "    if number == 0:\n",
    "        return \"Rock\"\n",
    "    elif number == 1:\n",
    "        return \"Spock\"\n",
    "    elif number == 2:\n",
    "        return \"Paper\"\n",
    "    elif number == 3:\n",
    "        return \"Lizard\"\n",
    "    elif number == 4:\n",
    "        return \"Scissors\"\n",
    "    else:\n",
    "        return \"Error\" \n",
    "\n",
    "# function to convert name to number\n",
    "def name_to_number(name):\n",
    "    if name == \"Rock\":\n",
    "        return 0\n",
    "    elif name == \"Spock\":\n",
    "        return 1\n",
    "    elif name == \"Paper\":\n",
    "        return 2\n",
    "    elif name == \"Lizard\":\n",
    "        return 3\n",
    "    elif name == \"Scissors\":\n",
    "        return 4\n",
    "    else:\n",
    "        print (name + \"is not a character in RPSLS\")\n",
    "\n",
    "\n",
    "# function which selects the winner\n",
    "def rpsls(guess): \n",
    "    \n",
    "    #global player_guess \n",
    "    #player_guess = str(input('Enter your choice.. Options: Rock, Spock, Paper, Lizard, Scissors')).capitalize()\n",
    "    # convert name to player_number using name_to_number\n",
    "    player_number = name_to_number(guess)\n",
    "    \n",
    "    # compute random guess for comp_number using random.randrange()\n",
    "    comp_number = random.randrange(0,5)\n",
    "\n",
    "    # compute difference of player_number and comp_number modulo five\n",
    "    winner = (comp_number - player_number) % 5\n",
    "    winner_ = (comp_number - player_number)\n",
    "    print(winner, winner_)\n",
    "\n",
    "    # use if/elif/else to determine winner\n",
    "    if winner < 3:\n",
    "        player_win = False\n",
    "    else:\n",
    "        player_win = True\n",
    "    \n",
    "    # convert comp_number to name using number_to_name\n",
    "    comp_name = number_to_name(comp_number)\n",
    "    \n",
    "    # print results\n",
    "    print (\"Player chooses \" + guess)\n",
    "    print (\"Computer chooses \" + comp_name)\n",
    "    if player_win:\n",
    "        print (\"Player wins!\\n\")\n",
    "    elif comp_number == player_number:\n",
    "        print (\"Player and computer tie!\\n\")\n",
    "    else:\n",
    "        print (\"Computer wins!\\n\")\n",
    "\n",
    "\n",
    "def Selchoice():\n",
    "        \n",
    "    print('Do you want to play again? Y / N')\n",
    "    choice = str(input()).capitalize()\n",
    "\n",
    "    if choice == 'Y':\n",
    "        #rpsls(player_guess)\n",
    "        play_again()\n",
    "    elif choice not in ['Y', 'N']:\n",
    "        Selchoice()\n",
    "    else:\n",
    "        print('Goodbay looser') \n",
    "            \n",
    "            \n",
    "def play_again():\n",
    "    \n",
    "    player_guess = str(input('Enter your choice.. Options: Rock, Spock, Paper, Lizard, Scissors')).capitalize()\n",
    "    rpsls(player_guess)    \n",
    "    Selchoice()\n",
    "    \n",
    "    \n",
    "\n",
    "    \n",
    "play_again()\n",
    "    \n",
    "    \n",
    "    "
   ]
  },
  {
   "cell_type": "code",
   "execution_count": null,
   "id": "378cefa0",
   "metadata": {
    "ExecuteTime": {
     "end_time": "2023-06-07T12:19:16.700754Z",
     "start_time": "2023-06-07T12:19:16.690112Z"
    }
   },
   "outputs": [],
   "source": [
    "0%-1"
   ]
  },
  {
   "cell_type": "code",
   "execution_count": null,
   "id": "6321dbb7",
   "metadata": {
    "ExecuteTime": {
     "end_time": "2023-06-07T12:18:55.059228Z",
     "start_time": "2023-06-07T12:18:55.059213Z"
    }
   },
   "outputs": [],
   "source": [
    "4%5"
   ]
  },
  {
   "cell_type": "code",
   "execution_count": null,
   "id": "04b2b9fc",
   "metadata": {
    "ExecuteTime": {
     "end_time": "2023-06-07T12:02:17.784020Z",
     "start_time": "2023-06-07T12:02:17.778361Z"
    }
   },
   "outputs": [],
   "source": [
    "4/5"
   ]
  },
  {
   "cell_type": "code",
   "execution_count": null,
   "id": "b317a07f",
   "metadata": {
    "ExecuteTime": {
     "end_time": "2023-06-07T12:03:39.819048Z",
     "start_time": "2023-06-07T12:03:39.808515Z"
    }
   },
   "outputs": [],
   "source": [
    "-3%5"
   ]
  },
  {
   "cell_type": "code",
   "execution_count": null,
   "id": "3bf0ee82",
   "metadata": {
    "ExecuteTime": {
     "end_time": "2023-06-07T12:06:07.502810Z",
     "start_time": "2023-06-07T12:06:07.497767Z"
    }
   },
   "outputs": [],
   "source": [
    "str1=\"Hello\"\n",
    "str2=\"Hello\"\n",
    "str3=\"HELLO\"\n",
    "print (id(str1), id(str2), id(str3))"
   ]
  },
  {
   "cell_type": "code",
   "execution_count": null,
   "id": "9647e371",
   "metadata": {
    "ExecuteTime": {
     "end_time": "2023-06-07T12:10:24.054015Z",
     "start_time": "2023-06-07T12:10:24.042525Z"
    }
   },
   "outputs": [],
   "source": [
    "5 + 4 % 5"
   ]
  },
  {
   "cell_type": "code",
   "execution_count": null,
   "id": "10a0349d",
   "metadata": {
    "ExecuteTime": {
     "end_time": "2023-06-07T12:16:32.592968Z",
     "start_time": "2023-06-07T12:16:32.588703Z"
    }
   },
   "outputs": [],
   "source": [
    "-1/5"
   ]
  },
  {
   "cell_type": "code",
   "execution_count": null,
   "id": "132e7a7b",
   "metadata": {
    "ExecuteTime": {
     "end_time": "2023-06-07T12:42:41.883386Z",
     "start_time": "2023-06-07T12:42:41.876984Z"
    }
   },
   "outputs": [],
   "source": [
    "0/-3"
   ]
  },
  {
   "cell_type": "code",
   "execution_count": null,
   "id": "5d4ed724",
   "metadata": {
    "ExecuteTime": {
     "end_time": "2023-06-07T12:42:47.145803Z",
     "start_time": "2023-06-07T12:42:47.141632Z"
    }
   },
   "outputs": [],
   "source": [
    "0%-3"
   ]
  },
  {
   "cell_type": "code",
   "execution_count": null,
   "id": "e9c297f7",
   "metadata": {},
   "outputs": [],
   "source": []
  }
 ],
 "metadata": {
  "hide_input": false,
  "kernelspec": {
   "display_name": "Python 3 (ipykernel)",
   "language": "python",
   "name": "python3"
  },
  "language_info": {
   "codemirror_mode": {
    "name": "ipython",
    "version": 3
   },
   "file_extension": ".py",
   "mimetype": "text/x-python",
   "name": "python",
   "nbconvert_exporter": "python",
   "pygments_lexer": "ipython3",
   "version": "3.9.16"
  },
  "toc": {
   "base_numbering": 1,
   "nav_menu": {
    "height": "312px",
    "width": "364px"
   },
   "number_sections": true,
   "sideBar": true,
   "skip_h1_title": false,
   "title_cell": "Table of Contents",
   "title_sidebar": "Contents",
   "toc_cell": false,
   "toc_position": {
    "height": "calc(100% - 180px)",
    "left": "10px",
    "top": "150px",
    "width": "386px"
   },
   "toc_section_display": true,
   "toc_window_display": true
  },
  "varInspector": {
   "cols": {
    "lenName": 16,
    "lenType": 16,
    "lenVar": 40
   },
   "kernels_config": {
    "python": {
     "delete_cmd_postfix": "",
     "delete_cmd_prefix": "del ",
     "library": "var_list.py",
     "varRefreshCmd": "print(var_dic_list())"
    },
    "r": {
     "delete_cmd_postfix": ") ",
     "delete_cmd_prefix": "rm(",
     "library": "var_list.r",
     "varRefreshCmd": "cat(var_dic_list()) "
    }
   },
   "oldHeight": 269.85,
   "position": {
    "height": "497.85px",
    "left": "1598px",
    "right": "20px",
    "top": "121px",
    "width": "302px"
   },
   "types_to_exclude": [
    "module",
    "function",
    "builtin_function_or_method",
    "instance",
    "_Feature"
   ],
   "varInspector_section_display": "block",
   "window_display": true
  }
 },
 "nbformat": 4,
 "nbformat_minor": 5
}
