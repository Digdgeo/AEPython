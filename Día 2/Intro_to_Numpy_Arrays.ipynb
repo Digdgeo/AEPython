{
 "cells": [
  {
   "cell_type": "markdown",
   "id": "a83ed78f",
   "metadata": {},
   "source": [
    "## Intro to Numpy Arrays"
   ]
  },
  {
   "cell_type": "markdown",
   "id": "5404ffe4",
   "metadata": {},
   "source": [
    "### Creating arrays"
   ]
  },
  {
   "cell_type": "code",
   "execution_count": null,
   "id": "68f29913",
   "metadata": {
    "scrolled": true
   },
   "outputs": [],
   "source": [
    "import numpy as np\n",
    "\n",
    "a = np.array([1,2,3,4,5])\n",
    "b = np.array([[1,2,3,4,5], [5,4,3,2,1]])"
   ]
  },
  {
   "cell_type": "code",
   "execution_count": null,
   "id": "5b96309c",
   "metadata": {},
   "outputs": [],
   "source": [
    "a"
   ]
  },
  {
   "cell_type": "code",
   "execution_count": null,
   "id": "fc28ea15",
   "metadata": {},
   "outputs": [],
   "source": [
    "b"
   ]
  },
  {
   "cell_type": "code",
   "execution_count": null,
   "id": "e3f93e16",
   "metadata": {},
   "outputs": [],
   "source": [
    "b.shape"
   ]
  },
  {
   "cell_type": "markdown",
   "id": "456a6374",
   "metadata": {},
   "source": [
    "### Math with arrays"
   ]
  },
  {
   "cell_type": "code",
   "execution_count": null,
   "id": "315ef566",
   "metadata": {},
   "outputs": [],
   "source": [
    "b5 = b * 5\n",
    "b5"
   ]
  },
  {
   "cell_type": "code",
   "execution_count": null,
   "id": "84f7d605",
   "metadata": {},
   "outputs": [],
   "source": [
    "# Probar a quitar un elemento de a para qe no tengan las mismas dimensiones y de error\n",
    "c = a ** b\n",
    "c"
   ]
  },
  {
   "cell_type": "code",
   "execution_count": null,
   "id": "ae0e2f59",
   "metadata": {},
   "outputs": [],
   "source": [
    "aa = np.array([[1,2], [3,4]])\n",
    "bb = aa * 2\n",
    "\n",
    "print(aa.sum())\n",
    "print(aa.cumsum())\n",
    "print(aa.prod())\n",
    "print(aa.cumprod())"
   ]
  },
  {
   "cell_type": "code",
   "execution_count": null,
   "id": "6a7324fd",
   "metadata": {},
   "outputs": [],
   "source": [
    "aa"
   ]
  },
  {
   "cell_type": "code",
   "execution_count": null,
   "id": "30a31449",
   "metadata": {
    "scrolled": true
   },
   "outputs": [],
   "source": [
    "print(aa.sum(axis=0))\n",
    "print(aa.sum(axis=1))"
   ]
  },
  {
   "cell_type": "code",
   "execution_count": null,
   "id": "806b3ea6",
   "metadata": {},
   "outputs": [],
   "source": [
    "bb, aa"
   ]
  },
  {
   "cell_type": "code",
   "execution_count": null,
   "id": "d3fad79f",
   "metadata": {},
   "outputs": [],
   "source": [
    "aa + bb, aa * bb"
   ]
  },
  {
   "cell_type": "code",
   "execution_count": null,
   "id": "8a1e5ac5",
   "metadata": {},
   "outputs": [],
   "source": [
    "a = np.array([1,2,3])\n",
    "b = np.array([[1], [2], [3]])\n",
    "\n",
    "print(a)\n",
    "print(b)"
   ]
  },
  {
   "cell_type": "code",
   "execution_count": null,
   "id": "d0133bf8",
   "metadata": {},
   "outputs": [],
   "source": [
    "a + b"
   ]
  },
  {
   "cell_type": "markdown",
   "id": "7b08ea0c",
   "metadata": {},
   "source": [
    "### Reshaping and Slicing"
   ]
  },
  {
   "cell_type": "code",
   "execution_count": null,
   "id": "9726f72c",
   "metadata": {},
   "outputs": [],
   "source": [
    "aaa = [1,2,3]\n",
    "bbb = [3,4,5]\n",
    "ccc = [6,7,8]\n",
    "\n",
    "abc = np.array([aaa, bbb, ccc])\n",
    "abc"
   ]
  },
  {
   "cell_type": "code",
   "execution_count": null,
   "id": "490d291e",
   "metadata": {},
   "outputs": [],
   "source": [
    "abc.shape, abc.size"
   ]
  },
  {
   "cell_type": "code",
   "execution_count": null,
   "id": "6b8ec78c",
   "metadata": {},
   "outputs": [],
   "source": [
    "#Traspose\n",
    "abc.T"
   ]
  },
  {
   "cell_type": "code",
   "execution_count": null,
   "id": "fc05e22a",
   "metadata": {},
   "outputs": [],
   "source": [
    "d = [i for i in range(25)]\n",
    "nd = np.array(d).reshape(5,5)\n",
    "nd"
   ]
  },
  {
   "cell_type": "code",
   "execution_count": null,
   "id": "99e344f3",
   "metadata": {},
   "outputs": [],
   "source": [
    "nd[1, :], nd[:,1]"
   ]
  },
  {
   "cell_type": "code",
   "execution_count": null,
   "id": "4ed6d50a",
   "metadata": {},
   "outputs": [],
   "source": [
    "nd[1:-1, :4]"
   ]
  },
  {
   "cell_type": "code",
   "execution_count": null,
   "id": "906d38a5",
   "metadata": {},
   "outputs": [],
   "source": [
    "#indexing [start:end:step]\n",
    "nd[:3,2:5] #nd[:3,2:5:2]"
   ]
  },
  {
   "cell_type": "code",
   "execution_count": null,
   "id": "df14e351",
   "metadata": {},
   "outputs": [],
   "source": [
    "aaa = [i for i in range(1,28)]\n",
    "naaa = np.array(aaa).reshape(3,3,3) #Rows, Columns, Dimensions\n",
    "naaa"
   ]
  },
  {
   "cell_type": "markdown",
   "id": "5e5feb5c",
   "metadata": {},
   "source": [
    "### Masking"
   ]
  },
  {
   "cell_type": "code",
   "execution_count": null,
   "id": "d2b63b1b",
   "metadata": {},
   "outputs": [],
   "source": [
    "ndpar = (nd % 2 == 0)\n",
    "ndpar"
   ]
  },
  {
   "cell_type": "code",
   "execution_count": null,
   "id": "4210c2bf",
   "metadata": {},
   "outputs": [],
   "source": [
    "np.percentile(nd[ndpar], 90), nd[ndpar].max()"
   ]
  },
  {
   "cell_type": "code",
   "execution_count": null,
   "id": "9580c31f",
   "metadata": {},
   "outputs": [],
   "source": [
    "np.where(nd % 2 == 0, nd, -9999)"
   ]
  },
  {
   "cell_type": "code",
   "execution_count": null,
   "id": "85a83984",
   "metadata": {},
   "outputs": [],
   "source": [
    "ndlogic = np.logical_and(nd > 5, nd <20)"
   ]
  },
  {
   "cell_type": "code",
   "execution_count": null,
   "id": "60b5cad6",
   "metadata": {},
   "outputs": [],
   "source": [
    "ndilogic = (nd > 5) & (nd < 20)"
   ]
  },
  {
   "cell_type": "code",
   "execution_count": null,
   "id": "112f23bb",
   "metadata": {},
   "outputs": [],
   "source": [
    "ndlogic == ndilogic"
   ]
  },
  {
   "cell_type": "code",
   "execution_count": null,
   "id": "d81db514",
   "metadata": {},
   "outputs": [],
   "source": [
    "nd[ndlogic]"
   ]
  },
  {
   "cell_type": "markdown",
   "id": "dd025b44",
   "metadata": {},
   "source": [
    "## Datatypes"
   ]
  },
  {
   "cell_type": "code",
   "execution_count": null,
   "id": "163d46e4",
   "metadata": {},
   "outputs": [],
   "source": [
    "aaa = [1,2,3]\n",
    "bbb = [3,4,5]\n",
    "ccc = [6,7,8]\n",
    "ddd = [8.0,9.2,10.1]\n",
    "\n",
    "abcd = np.array([aaa, bbb, ccc, ddd]) #, dtype='int')\n",
    "abcd"
   ]
  },
  {
   "cell_type": "code",
   "execution_count": null,
   "id": "0d017882",
   "metadata": {
    "scrolled": true
   },
   "outputs": [],
   "source": [
    "aaa = [1,2,3]\n",
    "bbb = [3,4,5]\n",
    "ccc = [6,7,8]\n",
    "\n",
    "abc = np.array([aaa, bbb, ccc], dtype='float')\n",
    "abc.astype('int')"
   ]
  },
  {
   "cell_type": "markdown",
   "id": "951b183c",
   "metadata": {},
   "source": [
    "![](https://i.imgur.com/1HlSpkn.png)"
   ]
  },
  {
   "cell_type": "markdown",
   "id": "8a468312",
   "metadata": {},
   "source": [
    "## Special arrays"
   ]
  },
  {
   "cell_type": "code",
   "execution_count": null,
   "id": "d0d338e0",
   "metadata": {},
   "outputs": [],
   "source": [
    "zeros = np.zeros([3,3])\n",
    "zeros"
   ]
  },
  {
   "cell_type": "code",
   "execution_count": null,
   "id": "f55ca39b",
   "metadata": {},
   "outputs": [],
   "source": [
    "ones = np.ones([3,3])\n",
    "ones2 = np.ones((3,3))\n",
    "ones == ones2"
   ]
  },
  {
   "cell_type": "code",
   "execution_count": null,
   "id": "c06ab00a",
   "metadata": {},
   "outputs": [],
   "source": [
    "twos = np.full([3,3], 234)\n",
    "twos"
   ]
  },
  {
   "cell_type": "code",
   "execution_count": null,
   "id": "27796ce5",
   "metadata": {},
   "outputs": [],
   "source": [
    "random = np.random.random([3,3])\n",
    "random"
   ]
  },
  {
   "cell_type": "code",
   "execution_count": null,
   "id": "f2c72b9b",
   "metadata": {
    "scrolled": true
   },
   "outputs": [],
   "source": [
    "uniform = np.random.uniform(low=0.1, high=2.5, size=(5,5))\n",
    "uniform\n",
    "#uniform[-1,-1] = 5\n",
    "#uniform[-1,0] = 5\n",
    "#uniform"
   ]
  },
  {
   "cell_type": "code",
   "execution_count": null,
   "id": "f266c6c2",
   "metadata": {},
   "outputs": [],
   "source": [
    "import matplotlib.pyplot as plt\n",
    "plt.plot(uniform.T)\n",
    "plt.show()"
   ]
  },
  {
   "cell_type": "code",
   "execution_count": null,
   "id": "fbc8ce21",
   "metadata": {},
   "outputs": [],
   "source": []
  }
 ],
 "metadata": {
  "hide_input": false,
  "kernelspec": {
   "display_name": "Python 3",
   "language": "python",
   "name": "python3"
  },
  "language_info": {
   "codemirror_mode": {
    "name": "ipython",
    "version": 3
   },
   "file_extension": ".py",
   "mimetype": "text/x-python",
   "name": "python",
   "nbconvert_exporter": "python",
   "pygments_lexer": "ipython3",
   "version": "3.8.8"
  },
  "toc": {
   "base_numbering": 1,
   "nav_menu": {},
   "number_sections": true,
   "sideBar": true,
   "skip_h1_title": false,
   "title_cell": "Table of Contents",
   "title_sidebar": "Contents",
   "toc_cell": false,
   "toc_position": {},
   "toc_section_display": true,
   "toc_window_display": false
  },
  "varInspector": {
   "cols": {
    "lenName": 16,
    "lenType": 16,
    "lenVar": 40
   },
   "kernels_config": {
    "python": {
     "delete_cmd_postfix": "",
     "delete_cmd_prefix": "del ",
     "library": "var_list.py",
     "varRefreshCmd": "print(var_dic_list())"
    },
    "r": {
     "delete_cmd_postfix": ") ",
     "delete_cmd_prefix": "rm(",
     "library": "var_list.r",
     "varRefreshCmd": "cat(var_dic_list()) "
    }
   },
   "types_to_exclude": [
    "module",
    "function",
    "builtin_function_or_method",
    "instance",
    "_Feature"
   ],
   "window_display": false
  }
 },
 "nbformat": 4,
 "nbformat_minor": 5
}
