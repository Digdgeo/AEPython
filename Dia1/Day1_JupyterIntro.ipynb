{
 "cells": [
  {
   "cell_type": "markdown",
   "id": "27b8c469",
   "metadata": {},
   "source": [
    "# Bienvenidos al curso de Análisis Espacial con Python"
   ]
  },
  {
   "cell_type": "markdown",
   "id": "e37a2804",
   "metadata": {},
   "source": [
    "Así como la cabra tira al monte van mis pies en enhiesto caminar"
   ]
  },
  {
   "cell_type": "markdown",
   "id": "f574de08",
   "metadata": {},
   "source": [
    "# Jugando con los Notebooks"
   ]
  },
  {
   "cell_type": "markdown",
   "id": "ab43eaaa",
   "metadata": {},
   "source": [
    "Vamos a aprender como movernos por las celdas y como \"operar\" con ellas"
   ]
  },
  {
   "cell_type": "markdown",
   "id": "51421c1d",
   "metadata": {},
   "source": [
    "Notad la diferencia entre el color verde y azul cuando seleccionamos una celda. La celda en verde está lista para introducir el código o el texto en ella. Mientras que cuando la celda está en azul podemos insertar nuevas celdas (\"a\" (above) o \"b\" (below)) o seleccionar varias celdas a la vez dejando presionado el shift mientras clickamos en las flechas de arriba o abajo.\n",
    "Recordad que para poner la selección en verde tan solo hay que clickar dentro del espacio para insertar el código mientras que para la selección azul hay que pinchar a la izquierda de la zona de código (\"In []\") \n",
    "\n",
    "Igualmente podemos alternar entre ambos modos con las teclas Esc y Enter.  \n",
    "Con las teclas M e Y cambiaremos el tipo de celda a Markdown y Código.\n",
    "Pulsar 2 veces la letra D borrara la celda.  \n",
    "Dejando el shift presionado podemos seleccionar varias celdas con los cursores arriba o abajo. Una vez tenemos varias celdas seleccionadas podemos unirla clickando shift + M  \n",
    "Con Control + Shift + - partiremos la celda en dos por donde tengamos el cursor\n"
   ]
  },
  {
   "cell_type": "code",
   "execution_count": null,
   "id": "ed70213a",
   "metadata": {
    "ExecuteTime": {
     "end_time": "2023-06-06T11:38:08.524808Z",
     "start_time": "2023-06-06T11:38:08.520349Z"
    }
   },
   "outputs": [],
   "source": [
    "print('Hello world')"
   ]
  },
  {
   "cell_type": "code",
   "execution_count": null,
   "id": "1ae0c7b5",
   "metadata": {
    "ExecuteTime": {
     "end_time": "2023-06-06T11:38:08.524808Z",
     "start_time": "2023-06-06T11:38:08.520349Z"
    }
   },
   "outputs": [],
   "source": [
    "#import time\n",
    "#time.sleep(10)\n",
    "print(\"Hello world again\")"
   ]
  },
  {
   "cell_type": "markdown",
   "id": "f86b250f",
   "metadata": {},
   "source": [
    "Arriba hemos creado y ejecutado nuestras dos primeras celdas de código. Podemos probar a imprimir aquí el Zen de python"
   ]
  },
  {
   "cell_type": "code",
   "execution_count": null,
   "id": "bf064677",
   "metadata": {
    "ExecuteTime": {
     "end_time": "2023-06-06T11:38:14.869195Z",
     "start_time": "2023-06-06T11:38:14.863889Z"
    },
    "hide_input": false
   },
   "outputs": [],
   "source": [
    "import this"
   ]
  },
  {
   "cell_type": "markdown",
   "id": "2d075266",
   "metadata": {},
   "source": [
    "![](https://imgs.xkcd.com/comics/python.png)"
   ]
  },
  {
   "cell_type": "markdown",
   "id": "e6b9c019",
   "metadata": {},
   "source": [
    "## ¿Que son los notebooks?"
   ]
  },
  {
   "cell_type": "markdown",
   "id": "daed262a",
   "metadata": {},
   "source": [
    "Los notebooks son cuadernos web intercativos para ejecutar código python basados en Javascript y CSS. \n",
    "Es posible aplicar estilos al texto como haríamos en el diseño de una página web. Por ejemplo \n",
    "<font color='red'>podemos cambiar el color del texto</font> o también la tipología a **negrita** o a *cursiva*. Por supuesto, también podemos ***combinar esto*** o ~~tachar algunas palabras~~ \n"
   ]
  },
  {
   "cell_type": "markdown",
   "id": "a6aa2794",
   "metadata": {},
   "source": [
    "A veces puede ser útil crear listas de texto:\n",
    "\n",
    "1. Primer elemento\n",
    "2. Elemento 2  \n",
    "13. Tercer elemento\n",
    "\n",
    "* Primerito elemento\n",
    "  * Anidado 1\n",
    "  * Anidado 2\n",
    "    1. Let's try something\n",
    "    1. Type one again\n",
    "  \n",
    "* Segundito elemento\n",
    "- Otra vez primero\n",
    "    - Anidado "
   ]
  },
  {
   "cell_type": "markdown",
   "id": "2118558f",
   "metadata": {},
   "source": [
    "Esta posibilidad de intercalar texto con código hace de los Notebooks un elemento muy didáctico. Pero además nos permiten la opción de incluir imágenes o vídeos tal y como lo haríamos en cualquier documento de Markdown"
   ]
  },
  {
   "cell_type": "markdown",
   "id": "613e4f4e",
   "metadata": {},
   "source": [
    "![](https://cdn.memegenerator.es/imagenes/memes/full/21/4/21049581.jpg)"
   ]
  },
  {
   "cell_type": "markdown",
   "id": "f9b6dabf",
   "metadata": {},
   "source": [
    "Inciso!! También podemos usar las celdas como calculadora ;P"
   ]
  },
  {
   "cell_type": "code",
   "execution_count": null,
   "id": "f7c5af9b",
   "metadata": {
    "ExecuteTime": {
     "end_time": "2023-06-06T11:38:23.501127Z",
     "start_time": "2023-06-06T11:38:23.493174Z"
    }
   },
   "outputs": [],
   "source": [
    "68/18 == (12/3 - 4/18)"
   ]
  },
  {
   "cell_type": "markdown",
   "id": "4e515434",
   "metadata": {},
   "source": [
    "Flameshot Example"
   ]
  },
  {
   "cell_type": "markdown",
   "id": "e00695c8",
   "metadata": {},
   "source": [
    "![Flameshot Example](https://i.imgur.com/Gd3z9cU.png)"
   ]
  },
  {
   "cell_type": "code",
   "execution_count": null,
   "id": "d3be8d9c",
   "metadata": {},
   "outputs": [],
   "source": [
    "%%HTML\n",
    "\n",
    "<iframe width=\"1000\" height=\"500\" src=\"https://www.youtube.com/embed/5L8iBoL9Xhw\" title=\"YouTube video player\" frameborder=\"0\" allow=\"accelerometer; autoplay; clipboard-write; encrypted-media; gyroscope; picture-in-picture; web-share\" allowfullscreen></iframe>"
   ]
  },
  {
   "cell_type": "markdown",
   "id": "d2d0f9d9",
   "metadata": {},
   "source": [
    "Otra cosa que podemos hacer es ejecutar otros lenguajes de programación dentro de una celda utilizando las \"Magias\""
   ]
  },
  {
   "cell_type": "markdown",
   "id": "7e0e4a4f",
   "metadata": {},
   "source": [
    "También podemos crear tablas. Aquí una web estupenda para generarlas y solo tener que copiar el código generado: https://www.tablesgenerator.com/markdown_tables"
   ]
  },
  {
   "cell_type": "markdown",
   "id": "24b186e9",
   "metadata": {},
   "source": [
    "| Nombre            | Apellido | Nota curso Python | Faltas de Asistencia | Email |\n",
    "|-------------------|----------|-------------------|----------------------|-------|\n",
    "| David             | Aragonés | 8                 |                      |       |\n",
    "| Gabriela Patricia | ???      | 4                 |                      |       |\n",
    "| Antonio Jesus     | López    | 7                 |                      |       |"
   ]
  },
  {
   "cell_type": "markdown",
   "id": "3c34f468",
   "metadata": {},
   "source": [
    "Insertar fragmentos de código"
   ]
  },
  {
   "cell_type": "markdown",
   "id": "58fce195",
   "metadata": {},
   "source": [
    "```python\n",
    "print('Hello world!')\n",
    "```"
   ]
  },
  {
   "cell_type": "markdown",
   "id": "a720bde9",
   "metadata": {},
   "source": [
    "```java\n",
    "\n",
    "class HelloWorld {\n",
    "    public static void main(String[] args) {\n",
    "        System.out.println(\"Hello, World!\"); \n",
    "    }\n",
    "}\n",
    "```"
   ]
  },
  {
   "cell_type": "markdown",
   "id": "0b731ed4",
   "metadata": {},
   "source": [
    "```html\n",
    "\n",
    "<!DOCTYPE HTML>\n",
    "<html>\n",
    "\n",
    "<body>\n",
    "\n",
    "  <script>\n",
    "    alert( 'Hello, world!' );\n",
    "  </script>\n",
    "\n",
    "</body>\n",
    "\n",
    "</html>\n",
    "```"
   ]
  },
  {
   "cell_type": "markdown",
   "id": "7b68ac79",
   "metadata": {},
   "source": [
    "Kernels: https://github.com/vatlab/SOS"
   ]
  },
  {
   "cell_type": "markdown",
   "id": "0b249727",
   "metadata": {},
   "source": [
    "LaTex "
   ]
  },
  {
   "cell_type": "markdown",
   "id": "1b248d56",
   "metadata": {
    "hide_input": false
   },
   "source": [
    "$$\n",
    "\\sin(-\\alpha)=-\\sin(\\alpha)\\\\\n",
    "\\arccos(x)=\\arcsin(u)\\\\\n",
    "\\log_n(n)=1\\\\\n",
    "\\tan(x) = \\frac{\\sin(x)}{\\cos(x)}\n",
    "$$"
   ]
  },
  {
   "cell_type": "markdown",
   "id": "8b296953",
   "metadata": {},
   "source": [
    "$$\n",
    "sign(x) = \\left\\{\n",
    "    \\begin{array}\\\\\n",
    "        1 & \\mbox{if } \\ x \\in \\mathbf{N}^* \\\\\n",
    "        0 & \\mbox{if } \\ x = 0 \\\\\n",
    "        -1 & \\mbox{else.}\n",
    "    \\end{array}\n",
    "\\right.\n",
    "$$\n",
    "\n",
    "\\\\\n",
    "\n",
    "$$\n",
    " \\left.\n",
    "    \\begin{array} \\\\\n",
    "        \\alpha^2 = \\sqrt5 \\\\\n",
    "        \\alpha \\geq 0 \n",
    "    \\end{array}\n",
    "\\right \\}=\\alpha = 5 \n",
    "$$"
   ]
  },
  {
   "cell_type": "markdown",
   "id": "6585052d",
   "metadata": {},
   "source": [
    "Simple integral:\n",
    "$$\\int_{a}^b f(x)dx$$\n",
    "\n",
    "Double integral:\n",
    "$$\\int_{a}^b\\int_{c}^d f(x,y)\\,dxdy$$\t\n",
    "\n",
    "Triple integral:\n",
    "$$\\iiint$$\t\n",
    "\n",
    "Quadruple integral:\n",
    "$$\\iiiint$$\t\n",
    "\n",
    "Multiple integral :\n",
    "$$\\idotsint$$\n",
    "\n",
    "Contour integral:\n",
    "$$\\oint$$\t"
   ]
  },
  {
   "cell_type": "markdown",
   "id": "e7043f0e",
   "metadata": {},
   "source": [
    "# Magics"
   ]
  },
  {
   "cell_type": "code",
   "execution_count": null,
   "id": "618cd440",
   "metadata": {},
   "outputs": [],
   "source": [
    "%lsmagic"
   ]
  },
  {
   "cell_type": "markdown",
   "id": "f762056d",
   "metadata": {},
   "source": [
    "Podemos consultar en que consiste cada una de ellas interrogándolas con \"?\""
   ]
  },
  {
   "cell_type": "code",
   "execution_count": null,
   "id": "72b1744a",
   "metadata": {},
   "outputs": [],
   "source": [
    "?autosave"
   ]
  },
  {
   "cell_type": "code",
   "execution_count": null,
   "id": "0f80df8a",
   "metadata": {
    "ExecuteTime": {
     "end_time": "2023-06-06T11:38:41.874642Z",
     "start_time": "2023-06-06T11:38:41.869366Z"
    }
   },
   "outputs": [],
   "source": [
    "autosave 60"
   ]
  },
  {
   "cell_type": "markdown",
   "id": "60c93f75",
   "metadata": {},
   "source": [
    "Tiempo de ejecución de cada celda"
   ]
  },
  {
   "cell_type": "code",
   "execution_count": null,
   "id": "926c5371",
   "metadata": {},
   "outputs": [],
   "source": [
    "%%timeit\n",
    "\n",
    "l = []\n",
    "\n",
    "for i in range(1000):\n",
    "    l.append(i)"
   ]
  },
  {
   "cell_type": "markdown",
   "id": "652c1fef",
   "metadata": {},
   "source": [
    "Tiempo de ejecución de cada línea. Notad la diferencia entre celda y línea"
   ]
  },
  {
   "cell_type": "code",
   "execution_count": null,
   "id": "e2e214fa",
   "metadata": {},
   "outputs": [],
   "source": [
    "%timeit  l = [i for i in range(1000)]\n",
    "%timeit  l = [i for i in range(100000)]"
   ]
  },
  {
   "cell_type": "markdown",
   "id": "4194d7bd",
   "metadata": {},
   "source": [
    "Nos puede ocurrir que queramos usar una variable ya creada en otro cuaderno. Podemos hacerlo usando la magia store"
   ]
  },
  {
   "cell_type": "code",
   "execution_count": null,
   "id": "a722f807",
   "metadata": {
    "ExecuteTime": {
     "end_time": "2023-06-06T11:53:03.089686Z",
     "start_time": "2023-06-06T11:53:03.082593Z"
    }
   },
   "outputs": [],
   "source": [
    "l = [i for i in range(1000)] "
   ]
  },
  {
   "cell_type": "code",
   "execution_count": null,
   "id": "d18fd920",
   "metadata": {
    "ExecuteTime": {
     "end_time": "2023-06-06T11:38:52.873345Z",
     "start_time": "2023-06-06T11:38:52.860658Z"
    },
    "scrolled": true
   },
   "outputs": [],
   "source": [
    "%store l"
   ]
  },
  {
   "cell_type": "markdown",
   "id": "32ecaa8d",
   "metadata": {},
   "source": [
    "Por supuesto podemos guardar el contenido de la celda como un script de python"
   ]
  },
  {
   "cell_type": "code",
   "execution_count": null,
   "id": "b472e4ba",
   "metadata": {
    "ExecuteTime": {
     "end_time": "2023-06-06T11:53:43.265233Z",
     "start_time": "2023-06-06T11:53:43.256237Z"
    }
   },
   "outputs": [],
   "source": [
    "%%writefile lpatata.py\n",
    "\n",
    "l = []\n",
    "\n",
    "for i in range(100000):\n",
    "    \n",
    "    if i%2==0:\n",
    "        \n",
    "        l.append(i)\n",
    "        \n",
    "    else:\n",
    "        \n",
    "        l.append('patata')"
   ]
  },
  {
   "cell_type": "code",
   "execution_count": null,
   "id": "3bda29a7",
   "metadata": {},
   "outputs": [],
   "source": [
    "!ls"
   ]
  },
  {
   "cell_type": "markdown",
   "id": "20f514ff",
   "metadata": {},
   "source": [
    "A la inversa, podemos abrir un script de python para ver o copiar su contenido"
   ]
  },
  {
   "cell_type": "code",
   "execution_count": null,
   "id": "bf5f47ea",
   "metadata": {},
   "outputs": [],
   "source": [
    "%pycat lpatata.py"
   ]
  },
  {
   "cell_type": "markdown",
   "id": "9c75c428",
   "metadata": {},
   "source": [
    "# Widgets"
   ]
  },
  {
   "cell_type": "markdown",
   "id": "fef01b6e",
   "metadata": {},
   "source": [
    "Los Widgets no son ni más ni menos, que elementos que añaden utilidades de GUI a nuestro Notebook"
   ]
  },
  {
   "cell_type": "code",
   "execution_count": null,
   "id": "d82f16da",
   "metadata": {},
   "outputs": [],
   "source": [
    "#Via Conda\n",
    "!conda install -c conda-forge ipywidgets"
   ]
  },
  {
   "cell_type": "code",
   "execution_count": null,
   "id": "5d5f289c",
   "metadata": {},
   "outputs": [],
   "source": [
    "#Via Pip\n",
    "!pip install ipywidgets\n",
    "!jupyter nbextension enable --py widgetsnbextension"
   ]
  },
  {
   "cell_type": "code",
   "execution_count": null,
   "id": "c3715614",
   "metadata": {
    "ExecuteTime": {
     "end_time": "2023-06-06T11:39:21.391691Z",
     "start_time": "2023-06-06T11:39:21.387205Z"
    }
   },
   "outputs": [],
   "source": [
    "import ipywidgets as widgets"
   ]
  },
  {
   "cell_type": "code",
   "execution_count": null,
   "id": "e58e7169",
   "metadata": {
    "ExecuteTime": {
     "end_time": "2023-06-06T11:39:21.763229Z",
     "start_time": "2023-06-06T11:39:21.754196Z"
    }
   },
   "outputs": [],
   "source": [
    "year = widgets.IntSlider(\n",
    "    min=2000,\n",
    "    max=2023,\n",
    "    step=1,\n",
    "    description='Slider:',\n",
    "    value=2012\n",
    ")"
   ]
  },
  {
   "cell_type": "code",
   "execution_count": null,
   "id": "583bc977",
   "metadata": {
    "ExecuteTime": {
     "end_time": "2023-06-06T11:39:26.028262Z",
     "start_time": "2023-06-06T11:39:26.017944Z"
    },
    "scrolled": true
   },
   "outputs": [],
   "source": [
    "year"
   ]
  },
  {
   "cell_type": "code",
   "execution_count": null,
   "id": "61fc0a2d",
   "metadata": {
    "ExecuteTime": {
     "end_time": "2023-06-06T11:39:26.455207Z",
     "start_time": "2023-06-06T11:39:26.448116Z"
    }
   },
   "outputs": [],
   "source": [
    "if year.value < 2020:\n",
    "    print('Viejuno')"
   ]
  },
  {
   "cell_type": "code",
   "execution_count": null,
   "id": "094ace42",
   "metadata": {},
   "outputs": [],
   "source": [
    "print(dir(widgets))"
   ]
  },
  {
   "cell_type": "code",
   "execution_count": null,
   "id": "44e8eaea",
   "metadata": {
    "ExecuteTime": {
     "end_time": "2023-06-06T11:39:32.837687Z",
     "start_time": "2023-06-06T11:39:32.822293Z"
    }
   },
   "outputs": [],
   "source": [
    "#from IPython.display import display\n",
    "\n",
    "btn = widgets.Button(description='Saludo')\n",
    "display(btn)\n",
    "count = 0\n",
    "def btn_eventhandler(obj):\n",
    "    global count\n",
    "    count+=1\n",
    "    print('Hello World {} from the {} button!'.format(count, obj.description))\n",
    "btn.on_click(btn_eventhandler)"
   ]
  },
  {
   "cell_type": "code",
   "execution_count": null,
   "id": "121220c1",
   "metadata": {
    "ExecuteTime": {
     "end_time": "2023-06-06T11:39:46.862692Z",
     "start_time": "2023-06-06T11:39:46.843599Z"
    }
   },
   "outputs": [],
   "source": [
    "widgets.Dropdown(\n",
    "    options=['S1', 'S2', 'S3'],\n",
    "    value='S2',\n",
    "    description='Sat:',\n",
    "    disabled=False,\n",
    ")"
   ]
  },
  {
   "cell_type": "markdown",
   "id": "8b2c77d5",
   "metadata": {},
   "source": [
    "TODO está en internet:   \n",
    "    \n",
    "    https://ipywidgets.readthedocs.io/en/stable/examples/Widget%20List.html"
   ]
  },
  {
   "cell_type": "markdown",
   "id": "d08d5e7e",
   "metadata": {},
   "source": [
    "# Extensions & Themes"
   ]
  },
  {
   "cell_type": "code",
   "execution_count": null,
   "id": "e62942e5",
   "metadata": {},
   "outputs": [],
   "source": [
    "conda install -c conda-forge jupyter_contrib_nbextensions"
   ]
  },
  {
   "cell_type": "code",
   "execution_count": null,
   "id": "f5701009",
   "metadata": {
    "ExecuteTime": {
     "end_time": "2023-06-06T11:48:46.832579Z",
     "start_time": "2023-06-06T11:48:45.223638Z"
    }
   },
   "outputs": [],
   "source": [
    "pip install jupyterthemes"
   ]
  },
  {
   "cell_type": "code",
   "execution_count": null,
   "id": "642e9e54",
   "metadata": {
    "ExecuteTime": {
     "end_time": "2023-06-06T11:49:40.387602Z",
     "start_time": "2023-06-06T11:49:40.015607Z"
    }
   },
   "outputs": [],
   "source": [
    "!jt -l"
   ]
  },
  {
   "cell_type": "code",
   "execution_count": null,
   "id": "d63de761",
   "metadata": {
    "ExecuteTime": {
     "end_time": "2023-06-06T11:51:04.831942Z",
     "start_time": "2023-06-06T11:51:04.034375Z"
    }
   },
   "outputs": [],
   "source": [
    "!jt -t solarizedd"
   ]
  },
  {
   "cell_type": "code",
   "execution_count": null,
   "id": "87d4e473",
   "metadata": {},
   "outputs": [],
   "source": [
    "!jt -r"
   ]
  }
 ],
 "metadata": {
  "hide_input": false,
  "kernelspec": {
   "display_name": "Python 3",
   "language": "python",
   "name": "python3"
  },
  "language_info": {
   "codemirror_mode": {
    "name": "ipython",
    "version": 3
   },
   "file_extension": ".py",
   "mimetype": "text/x-python",
   "name": "python",
   "nbconvert_exporter": "python",
   "pygments_lexer": "ipython3",
   "version": "3.8.8"
  },
  "toc": {
   "base_numbering": 1,
   "nav_menu": {
    "height": "312px",
    "width": "364px"
   },
   "number_sections": true,
   "sideBar": true,
   "skip_h1_title": false,
   "title_cell": "Table of Contents",
   "title_sidebar": "Contents",
   "toc_cell": false,
   "toc_position": {
    "height": "calc(100% - 180px)",
    "left": "10px",
    "top": "150px",
    "width": "386px"
   },
   "toc_section_display": true,
   "toc_window_display": true
  },
  "varInspector": {
   "cols": {
    "lenName": 16,
    "lenType": 16,
    "lenVar": 40
   },
   "kernels_config": {
    "python": {
     "delete_cmd_postfix": "",
     "delete_cmd_prefix": "del ",
     "library": "var_list.py",
     "varRefreshCmd": "print(var_dic_list())"
    },
    "r": {
     "delete_cmd_postfix": ") ",
     "delete_cmd_prefix": "rm(",
     "library": "var_list.r",
     "varRefreshCmd": "cat(var_dic_list()) "
    }
   },
   "oldHeight": 475.844,
   "position": {
    "height": "40px",
    "left": "1598px",
    "right": "20px",
    "top": "121px",
    "width": "302px"
   },
   "types_to_exclude": [
    "module",
    "function",
    "builtin_function_or_method",
    "instance",
    "_Feature"
   ],
   "varInspector_section_display": "none",
   "window_display": false
  }
 },
 "nbformat": 4,
 "nbformat_minor": 5
}
