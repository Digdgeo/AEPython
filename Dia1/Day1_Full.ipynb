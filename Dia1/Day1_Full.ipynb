{
 "cells": [
  {
   "cell_type": "markdown",
   "id": "27b8c469",
   "metadata": {},
   "source": [
    "# Bienvenidos al curso de Análisis Espacial con Python"
   ]
  },
  {
   "cell_type": "markdown",
   "id": "e37a2804",
   "metadata": {},
   "source": [
    "Así como la cabra tira al monte van mis pies en enhiesto caminar"
   ]
  },
  {
   "cell_type": "markdown",
   "id": "f574de08",
   "metadata": {},
   "source": [
    "# Jugando con los Notebooks"
   ]
  },
  {
   "cell_type": "markdown",
   "id": "ab43eaaa",
   "metadata": {},
   "source": [
    "Vamos a aprender como movernos por las celdas y como \"operar\" con ellas"
   ]
  },
  {
   "cell_type": "markdown",
   "id": "51421c1d",
   "metadata": {},
   "source": [
    "Notad la diferencia entre el color verde y azul cuando seleccionamos una celda. La celda en verde está lista para introducir el código o el texto en ella. Mientras que cuando la celda está en azul podemos insertar nuevas celdas (\"a\" (above) o \"b\" (below)) o seleccionar varias celdas a la vez dejando presionado el shift mientras clickamos en las flechas de arriba o abajo.\n",
    "Recordad que para poner la selección en verde tan solo hay que clickar dentro del espacio para insertar el código mientras que para la selección azul hay que pinchar a la izquierda de la zona de código (\"In []\") \n",
    "\n",
    "Igualmente podemos alternar entre ambos modos con las teclas Esc y Enter.  \n",
    "Con las teclas M e Y cambiaremos el tipo de celda a Markdown y Código.\n",
    "Pulsar 2 veces la letra D borrara la celda.  \n",
    "Dejando el shift presionado podemos seleccionar varias celdas con los cursores arriba o abajo. Una vez tenemos varias celdas seleccionadas podemos unirla clickando shift + M  \n",
    "Con Control + Shift + - partiremos la celda en dos por donde tengamos el cursor\n"
   ]
  },
  {
   "cell_type": "code",
   "execution_count": null,
   "id": "ed70213a",
   "metadata": {
    "ExecuteTime": {
     "end_time": "2023-06-06T11:38:08.524808Z",
     "start_time": "2023-06-06T11:38:08.520349Z"
    }
   },
   "outputs": [],
   "source": [
    "print('Hello world')"
   ]
  },
  {
   "cell_type": "code",
   "execution_count": null,
   "id": "1ae0c7b5",
   "metadata": {
    "ExecuteTime": {
     "end_time": "2023-06-06T11:38:08.524808Z",
     "start_time": "2023-06-06T11:38:08.520349Z"
    }
   },
   "outputs": [],
   "source": [
    "#import time\n",
    "#time.sleep(10)\n",
    "print(\"Hello world again\")"
   ]
  },
  {
   "cell_type": "markdown",
   "id": "f86b250f",
   "metadata": {},
   "source": [
    "Arriba hemos creado y ejecutado nuestras dos primeras celdas de código. Podemos probar a imprimir aquí el Zen de python"
   ]
  },
  {
   "cell_type": "code",
   "execution_count": null,
   "id": "bf064677",
   "metadata": {
    "ExecuteTime": {
     "end_time": "2023-06-06T11:38:14.869195Z",
     "start_time": "2023-06-06T11:38:14.863889Z"
    },
    "hide_input": false
   },
   "outputs": [],
   "source": [
    "import this"
   ]
  },
  {
   "cell_type": "markdown",
   "id": "2d075266",
   "metadata": {},
   "source": [
    "![](https://imgs.xkcd.com/comics/python.png)"
   ]
  },
  {
   "cell_type": "markdown",
   "id": "e6b9c019",
   "metadata": {},
   "source": [
    "## ¿Que son los notebooks?"
   ]
  },
  {
   "cell_type": "markdown",
   "id": "daed262a",
   "metadata": {},
   "source": [
    "Los notebooks son cuadernos web intercativos para ejecutar código python basados en Javascript y CSS. \n",
    "Es posible aplicar estilos al texto como haríamos en el diseño de una página web. Por ejemplo \n",
    "<font color='red'>podemos cambiar el color del texto</font> o también la tipología a **negrita** o a *cursiva*. Por supuesto, también podemos ***combinar esto*** o ~~tachar algunas palabras~~ \n"
   ]
  },
  {
   "cell_type": "markdown",
   "id": "a6aa2794",
   "metadata": {},
   "source": [
    "A veces puede ser útil crear listas de texto:\n",
    "\n",
    "1. Primer elemento\n",
    "2. Elemento 2  \n",
    "13. Tercer elemento\n",
    "\n",
    "* Primerito elemento\n",
    "  * Anidado 1\n",
    "  * Anidado 2\n",
    "    1. Let's try something\n",
    "    1. Type one again\n",
    "  \n",
    "* Segundito elemento\n",
    "- Otra vez primero\n",
    "    - Anidado "
   ]
  },
  {
   "cell_type": "markdown",
   "id": "2118558f",
   "metadata": {},
   "source": [
    "Esta posibilidad de intercalar texto con código hace de los Notebooks un elemento muy didáctico. Pero además nos permiten la opción de incluir imágenes o vídeos tal y como lo haríamos en cualquier documento de Markdown"
   ]
  },
  {
   "cell_type": "markdown",
   "id": "613e4f4e",
   "metadata": {},
   "source": [
    "![](https://cdn.memegenerator.es/imagenes/memes/full/21/4/21049581.jpg)"
   ]
  },
  {
   "cell_type": "markdown",
   "id": "f9b6dabf",
   "metadata": {},
   "source": [
    "Inciso!! También podemos usar las celdas como calculadora ;P"
   ]
  },
  {
   "cell_type": "code",
   "execution_count": null,
   "id": "f7c5af9b",
   "metadata": {
    "ExecuteTime": {
     "end_time": "2023-06-06T11:38:23.501127Z",
     "start_time": "2023-06-06T11:38:23.493174Z"
    }
   },
   "outputs": [],
   "source": [
    "68/18 == (12/3 - 4/18)"
   ]
  },
  {
   "cell_type": "markdown",
   "id": "4e515434",
   "metadata": {},
   "source": [
    "Flameshot Example"
   ]
  },
  {
   "cell_type": "markdown",
   "id": "e00695c8",
   "metadata": {},
   "source": [
    "![Flameshot Example](https://i.imgur.com/Gd3z9cU.png)"
   ]
  },
  {
   "cell_type": "code",
   "execution_count": null,
   "id": "d3be8d9c",
   "metadata": {},
   "outputs": [],
   "source": [
    "%%HTML\n",
    "\n",
    "<iframe width=\"1000\" height=\"500\" src=\"https://www.youtube.com/embed/5L8iBoL9Xhw\" title=\"YouTube video player\" frameborder=\"0\" allow=\"accelerometer; autoplay; clipboard-write; encrypted-media; gyroscope; picture-in-picture; web-share\" allowfullscreen></iframe>"
   ]
  },
  {
   "cell_type": "markdown",
   "id": "d2d0f9d9",
   "metadata": {},
   "source": [
    "Otra cosa que podemos hacer es ejecutar otros lenguajes de programación dentro de una celda utilizando las \"Magias\""
   ]
  },
  {
   "cell_type": "markdown",
   "id": "7e0e4a4f",
   "metadata": {},
   "source": [
    "También podemos crear tablas. Aquí una web estupenda para generarlas y solo tener que copiar el código generado: https://www.tablesgenerator.com/markdown_tables"
   ]
  },
  {
   "cell_type": "markdown",
   "id": "24b186e9",
   "metadata": {},
   "source": [
    "| Nombre            | Apellido | Nota curso Python | Faltas de Asistencia | Email |\n",
    "|-------------------|----------|-------------------|----------------------|-------|\n",
    "| David             | Aragonés | 8                 |                      |       |\n",
    "| Gabriela Patricia | ???      | 4                 |                      |       |\n",
    "| Antonio Jesus     | López    | 7                 |                      |       |"
   ]
  },
  {
   "cell_type": "markdown",
   "id": "3c34f468",
   "metadata": {},
   "source": [
    "Insertar fragmentos de código"
   ]
  },
  {
   "cell_type": "markdown",
   "id": "58fce195",
   "metadata": {},
   "source": [
    "```python\n",
    "print('Hello world!')\n",
    "```"
   ]
  },
  {
   "cell_type": "markdown",
   "id": "a720bde9",
   "metadata": {},
   "source": [
    "```java\n",
    "\n",
    "class HelloWorld {\n",
    "    public static void main(String[] args) {\n",
    "        System.out.println(\"Hello, World!\"); \n",
    "    }\n",
    "}\n",
    "```"
   ]
  },
  {
   "cell_type": "markdown",
   "id": "0b731ed4",
   "metadata": {},
   "source": [
    "```html\n",
    "\n",
    "<!DOCTYPE HTML>\n",
    "<html>\n",
    "\n",
    "<body>\n",
    "\n",
    "  <script>\n",
    "    alert( 'Hello, world!' );\n",
    "  </script>\n",
    "\n",
    "</body>\n",
    "\n",
    "</html>\n",
    "```"
   ]
  },
  {
   "cell_type": "markdown",
   "id": "7b68ac79",
   "metadata": {},
   "source": [
    "Kernels: https://github.com/vatlab/SOS"
   ]
  },
  {
   "cell_type": "markdown",
   "id": "0b249727",
   "metadata": {},
   "source": [
    "LaTex "
   ]
  },
  {
   "cell_type": "markdown",
   "id": "1b248d56",
   "metadata": {
    "hide_input": false
   },
   "source": [
    "$$\n",
    "\\sin(-\\alpha)=-\\sin(\\alpha)\\\\\n",
    "\\arccos(x)=\\arcsin(u)\\\\\n",
    "\\log_n(n)=1\\\\\n",
    "\\tan(x) = \\frac{\\sin(x)}{\\cos(x)}\n",
    "$$"
   ]
  },
  {
   "cell_type": "markdown",
   "id": "8b296953",
   "metadata": {},
   "source": [
    "$$\n",
    "sign(x) = \\left\\{\n",
    "    \\begin{array}\\\\\n",
    "        1 & \\mbox{if } \\ x \\in \\mathbf{N}^* \\\\\n",
    "        0 & \\mbox{if } \\ x = 0 \\\\\n",
    "        -1 & \\mbox{else.}\n",
    "    \\end{array}\n",
    "\\right.\n",
    "$$\n",
    "\n",
    "\\\\\n",
    "\n",
    "$$\n",
    " \\left.\n",
    "    \\begin{array} \\\\\n",
    "        \\alpha^2 = \\sqrt5 \\\\\n",
    "        \\alpha \\geq 0 \n",
    "    \\end{array}\n",
    "\\right \\}=\\alpha = 5 \n",
    "$$"
   ]
  },
  {
   "cell_type": "markdown",
   "id": "6585052d",
   "metadata": {},
   "source": [
    "Simple integral:\n",
    "$$\\int_{a}^b f(x)dx$$\n",
    "\n",
    "Double integral:\n",
    "$$\\int_{a}^b\\int_{c}^d f(x,y)\\,dxdy$$\t\n",
    "\n",
    "Triple integral:\n",
    "$$\\iiint$$\t\n",
    "\n",
    "Quadruple integral:\n",
    "$$\\iiiint$$\t\n",
    "\n",
    "Multiple integral :\n",
    "$$\\idotsint$$\n",
    "\n",
    "Contour integral:\n",
    "$$\\oint$$\t"
   ]
  },
  {
   "cell_type": "markdown",
   "id": "e7043f0e",
   "metadata": {},
   "source": [
    "# Magics"
   ]
  },
  {
   "cell_type": "code",
   "execution_count": null,
   "id": "618cd440",
   "metadata": {},
   "outputs": [],
   "source": [
    "%lsmagic"
   ]
  },
  {
   "cell_type": "markdown",
   "id": "f762056d",
   "metadata": {},
   "source": [
    "Podemos consultar en que consiste cada una de ellas interrogándolas con \"?\""
   ]
  },
  {
   "cell_type": "code",
   "execution_count": null,
   "id": "72b1744a",
   "metadata": {},
   "outputs": [],
   "source": [
    "?autosave"
   ]
  },
  {
   "cell_type": "code",
   "execution_count": null,
   "id": "0f80df8a",
   "metadata": {
    "ExecuteTime": {
     "end_time": "2023-06-06T11:38:41.874642Z",
     "start_time": "2023-06-06T11:38:41.869366Z"
    }
   },
   "outputs": [],
   "source": [
    "autosave 60"
   ]
  },
  {
   "cell_type": "markdown",
   "id": "60c93f75",
   "metadata": {},
   "source": [
    "Tiempo de ejecución de cada celda"
   ]
  },
  {
   "cell_type": "code",
   "execution_count": null,
   "id": "926c5371",
   "metadata": {},
   "outputs": [],
   "source": [
    "%%timeit\n",
    "\n",
    "l = []\n",
    "\n",
    "for i in range(1000):\n",
    "    l.append(i)"
   ]
  },
  {
   "cell_type": "markdown",
   "id": "652c1fef",
   "metadata": {},
   "source": [
    "Tiempo de ejecución de cada línea. Notad la diferencia entre celda y línea"
   ]
  },
  {
   "cell_type": "code",
   "execution_count": null,
   "id": "e2e214fa",
   "metadata": {},
   "outputs": [],
   "source": [
    "%timeit  l = [i for i in range(1000)]\n",
    "%timeit  l = [i for i in range(100000)]"
   ]
  },
  {
   "cell_type": "markdown",
   "id": "4194d7bd",
   "metadata": {},
   "source": [
    "Nos puede ocurrir que queramos usar una variable ya creada en otro cuaderno. Podemos hacerlo usando la magia store"
   ]
  },
  {
   "cell_type": "code",
   "execution_count": null,
   "id": "a722f807",
   "metadata": {
    "ExecuteTime": {
     "end_time": "2023-06-06T11:53:03.089686Z",
     "start_time": "2023-06-06T11:53:03.082593Z"
    }
   },
   "outputs": [],
   "source": [
    "l = [i for i in range(1000)] "
   ]
  },
  {
   "cell_type": "code",
   "execution_count": null,
   "id": "d18fd920",
   "metadata": {
    "ExecuteTime": {
     "end_time": "2023-06-06T11:38:52.873345Z",
     "start_time": "2023-06-06T11:38:52.860658Z"
    },
    "scrolled": true
   },
   "outputs": [],
   "source": [
    "%store l"
   ]
  },
  {
   "cell_type": "markdown",
   "id": "32ecaa8d",
   "metadata": {},
   "source": [
    "Por supuesto podemos guardar el contenido de la celda como un script de python"
   ]
  },
  {
   "cell_type": "code",
   "execution_count": null,
   "id": "b472e4ba",
   "metadata": {
    "ExecuteTime": {
     "end_time": "2023-06-06T11:53:43.265233Z",
     "start_time": "2023-06-06T11:53:43.256237Z"
    }
   },
   "outputs": [],
   "source": [
    "%%writefile lpatata.py\n",
    "\n",
    "l = []\n",
    "\n",
    "for i in range(100000):\n",
    "    \n",
    "    if i%2==0:\n",
    "        \n",
    "        l.append(i)\n",
    "        \n",
    "    else:\n",
    "        \n",
    "        l.append('patata')"
   ]
  },
  {
   "cell_type": "code",
   "execution_count": null,
   "id": "3bda29a7",
   "metadata": {},
   "outputs": [],
   "source": [
    "!ls"
   ]
  },
  {
   "cell_type": "markdown",
   "id": "20f514ff",
   "metadata": {},
   "source": [
    "A la inversa, podemos abrir un script de python para ver o copiar su contenido"
   ]
  },
  {
   "cell_type": "code",
   "execution_count": null,
   "id": "bf5f47ea",
   "metadata": {},
   "outputs": [],
   "source": [
    "%pycat lpatata.py"
   ]
  },
  {
   "cell_type": "markdown",
   "id": "9c75c428",
   "metadata": {},
   "source": [
    "# Widgets"
   ]
  },
  {
   "cell_type": "markdown",
   "id": "fef01b6e",
   "metadata": {},
   "source": [
    "Los Widgets no son ni más ni menos, que elementos que añaden utilidades de GUI a nuestro Notebook"
   ]
  },
  {
   "cell_type": "code",
   "execution_count": null,
   "id": "d82f16da",
   "metadata": {},
   "outputs": [],
   "source": [
    "#Via Conda\n",
    "!conda install -c conda-forge ipywidgets"
   ]
  },
  {
   "cell_type": "code",
   "execution_count": null,
   "id": "5d5f289c",
   "metadata": {},
   "outputs": [],
   "source": [
    "#Via Pip\n",
    "!pip install ipywidgets\n",
    "!jupyter nbextension enable --py widgetsnbextension"
   ]
  },
  {
   "cell_type": "code",
   "execution_count": null,
   "id": "c3715614",
   "metadata": {
    "ExecuteTime": {
     "end_time": "2023-06-06T11:39:21.391691Z",
     "start_time": "2023-06-06T11:39:21.387205Z"
    }
   },
   "outputs": [],
   "source": [
    "import ipywidgets as widgets"
   ]
  },
  {
   "cell_type": "code",
   "execution_count": null,
   "id": "e58e7169",
   "metadata": {
    "ExecuteTime": {
     "end_time": "2023-06-06T11:39:21.763229Z",
     "start_time": "2023-06-06T11:39:21.754196Z"
    }
   },
   "outputs": [],
   "source": [
    "year = widgets.IntSlider(\n",
    "    min=2000,\n",
    "    max=2023,\n",
    "    step=1,\n",
    "    description='Slider:',\n",
    "    value=2012\n",
    ")"
   ]
  },
  {
   "cell_type": "code",
   "execution_count": null,
   "id": "583bc977",
   "metadata": {
    "ExecuteTime": {
     "end_time": "2023-06-06T11:39:26.028262Z",
     "start_time": "2023-06-06T11:39:26.017944Z"
    },
    "scrolled": true
   },
   "outputs": [],
   "source": [
    "year"
   ]
  },
  {
   "cell_type": "code",
   "execution_count": null,
   "id": "61fc0a2d",
   "metadata": {
    "ExecuteTime": {
     "end_time": "2023-06-06T11:39:26.455207Z",
     "start_time": "2023-06-06T11:39:26.448116Z"
    }
   },
   "outputs": [],
   "source": [
    "if year.value < 2020:\n",
    "    print('Viejuno')"
   ]
  },
  {
   "cell_type": "code",
   "execution_count": null,
   "id": "094ace42",
   "metadata": {},
   "outputs": [],
   "source": [
    "print(dir(widgets))"
   ]
  },
  {
   "cell_type": "code",
   "execution_count": null,
   "id": "44e8eaea",
   "metadata": {
    "ExecuteTime": {
     "end_time": "2023-06-06T11:39:32.837687Z",
     "start_time": "2023-06-06T11:39:32.822293Z"
    }
   },
   "outputs": [],
   "source": [
    "#from IPython.display import display\n",
    "\n",
    "btn = widgets.Button(description='Saludo')\n",
    "display(btn)\n",
    "count = 0\n",
    "def btn_eventhandler(obj):\n",
    "    global count\n",
    "    count+=1\n",
    "    print('Hello World {} from the {} button!'.format(count, obj.description))\n",
    "btn.on_click(btn_eventhandler)"
   ]
  },
  {
   "cell_type": "code",
   "execution_count": null,
   "id": "121220c1",
   "metadata": {
    "ExecuteTime": {
     "end_time": "2023-06-06T11:39:46.862692Z",
     "start_time": "2023-06-06T11:39:46.843599Z"
    }
   },
   "outputs": [],
   "source": [
    "widgets.Dropdown(\n",
    "    options=['S1', 'S2', 'S3'],\n",
    "    value='S2',\n",
    "    description='Sat:',\n",
    "    disabled=False,\n",
    ")"
   ]
  },
  {
   "cell_type": "markdown",
   "id": "8b2c77d5",
   "metadata": {},
   "source": [
    "TODO está en internet:   \n",
    "    \n",
    "    https://ipywidgets.readthedocs.io/en/stable/examples/Widget%20List.html"
   ]
  },
  {
   "cell_type": "markdown",
   "id": "d08d5e7e",
   "metadata": {},
   "source": [
    "# Extensions & Themes"
   ]
  },
  {
   "cell_type": "code",
   "execution_count": null,
   "id": "e62942e5",
   "metadata": {},
   "outputs": [],
   "source": [
    "conda install -c conda-forge jupyter_contrib_nbextensions"
   ]
  },
  {
   "cell_type": "code",
   "execution_count": null,
   "id": "f5701009",
   "metadata": {
    "ExecuteTime": {
     "end_time": "2023-06-06T11:48:46.832579Z",
     "start_time": "2023-06-06T11:48:45.223638Z"
    }
   },
   "outputs": [],
   "source": [
    "pip install jupyterthemes"
   ]
  },
  {
   "cell_type": "code",
   "execution_count": null,
   "id": "642e9e54",
   "metadata": {
    "ExecuteTime": {
     "end_time": "2023-06-06T11:49:40.387602Z",
     "start_time": "2023-06-06T11:49:40.015607Z"
    }
   },
   "outputs": [],
   "source": [
    "!jt -l"
   ]
  },
  {
   "cell_type": "code",
   "execution_count": null,
   "id": "d63de761",
   "metadata": {
    "ExecuteTime": {
     "end_time": "2023-06-06T11:51:04.831942Z",
     "start_time": "2023-06-06T11:51:04.034375Z"
    }
   },
   "outputs": [],
   "source": [
    "!jt -t solarizedd"
   ]
  },
  {
   "cell_type": "code",
   "execution_count": null,
   "id": "87d4e473",
   "metadata": {},
   "outputs": [],
   "source": [
    "!jt -r"
   ]
  },
  {
   "cell_type": "markdown",
   "id": "47e5db2b",
   "metadata": {},
   "source": [
    "# Empezamos a pythonear!"
   ]
  },
  {
   "cell_type": "markdown",
   "id": "17b0914e",
   "metadata": {},
   "source": [
    "Vamos a ver los tipos de datos y elementos que existen en python:\n",
    "    \n",
    "* String\n",
    "  - Variables\n",
    "  - Text slicing\n",
    "  - Count\n",
    "  - Methods Help Shift + Tab\n",
    "  - split\n",
    "  - join\n",
    "* Booleans\n",
    "* Condicionales If\n",
    "* Bucles\n",
    "  - While\n",
    "  - For\n",
    "* Int\n",
    "  - Varibales\n",
    "  - Maths\n",
    "  - Type\n",
    "* Floats\n",
    "* Listas\n",
    "* Sets\n",
    "* Tuplas\n",
    "* Diccioniarios\n",
    "* Funciones\n",
    "* Clases"
   ]
  },
  {
   "cell_type": "markdown",
   "id": "b2086000",
   "metadata": {},
   "source": [
    "Antes de empezar podemos echar un vistazo a PEP8 code styling https://realpython.com/python-pep8/   \n",
    "\n",
    "\"PEP 8, sometimes spelled PEP8 or PEP-8, is a document that provides guidelines and best practices on how to write Python code. It was written in 2001 by Guido van Rossum, Barry Warsaw, and Nick Coghlan. The primary focus of PEP 8 is to improve the readability and consistency of Python code\""
   ]
  },
  {
   "cell_type": "markdown",
   "id": "1dbe83bb",
   "metadata": {},
   "source": [
    "## Strings"
   ]
  },
  {
   "cell_type": "code",
   "execution_count": 4,
   "id": "c7d11b3a",
   "metadata": {
    "ExecuteTime": {
     "end_time": "2023-06-07T09:32:44.675260Z",
     "start_time": "2023-06-07T09:32:44.664918Z"
    }
   },
   "outputs": [
    {
     "data": {
      "text/plain": [
       "'Soy un string'"
      ]
     },
     "execution_count": 4,
     "metadata": {},
     "output_type": "execute_result"
    }
   ],
   "source": [
    "'Soy un string'"
   ]
  },
  {
   "cell_type": "code",
   "execution_count": 5,
   "id": "6523d575",
   "metadata": {
    "ExecuteTime": {
     "end_time": "2023-06-07T09:15:28.302104Z",
     "start_time": "2023-06-07T09:15:28.297270Z"
    }
   },
   "outputs": [
    {
     "data": {
      "text/plain": [
       "'Soy'"
      ]
     },
     "execution_count": 5,
     "metadata": {},
     "output_type": "execute_result"
    }
   ],
   "source": [
    "'Soy un string'[:3]"
   ]
  },
  {
   "cell_type": "code",
   "execution_count": 155,
   "id": "8acdc2b3",
   "metadata": {
    "ExecuteTime": {
     "end_time": "2023-06-07T09:15:59.830910Z",
     "start_time": "2023-06-07T09:15:59.824911Z"
    },
    "scrolled": true
   },
   "outputs": [
    {
     "data": {
      "text/plain": [
       "'string'"
      ]
     },
     "execution_count": 155,
     "metadata": {},
     "output_type": "execute_result"
    }
   ],
   "source": [
    "s = 'Soy un string'\n",
    "s[-6:]"
   ]
  },
  {
   "cell_type": "code",
   "execution_count": 63,
   "id": "34a81650",
   "metadata": {},
   "outputs": [
    {
     "data": {
      "text/plain": [
       "'gnirts nu yoS'"
      ]
     },
     "execution_count": 63,
     "metadata": {},
     "output_type": "execute_result"
    }
   ],
   "source": [
    "s[::-1]"
   ]
  },
  {
   "cell_type": "code",
   "execution_count": 69,
   "id": "bf488662",
   "metadata": {},
   "outputs": [
    {
     "name": "stdout",
     "output_type": "stream",
     "text": [
      "g\n",
      "n\n",
      "i\n",
      "r\n",
      "t\n",
      "s\n",
      " \n",
      "n\n",
      "u\n",
      " \n",
      "y\n",
      "o\n",
      "S\n"
     ]
    }
   ],
   "source": [
    "for i in reversed(s):\n",
    "    print(i)"
   ]
  },
  {
   "cell_type": "code",
   "execution_count": 70,
   "id": "b1d4befe",
   "metadata": {},
   "outputs": [
    {
     "data": {
      "text/plain": [
       "'g_n_i_r_t_s_ _n_u_ _y_o_S'"
      ]
     },
     "execution_count": 70,
     "metadata": {},
     "output_type": "execute_result"
    }
   ],
   "source": [
    "reversedstring='_'.join(reversed(s))\n",
    "reversedstring"
   ]
  },
  {
   "cell_type": "code",
   "execution_count": 7,
   "id": "f3ad6b99",
   "metadata": {
    "ExecuteTime": {
     "end_time": "2023-06-07T09:24:43.262278Z",
     "start_time": "2023-06-07T09:24:43.252546Z"
    }
   },
   "outputs": [
    {
     "data": {
      "text/plain": [
       "2"
      ]
     },
     "execution_count": 7,
     "metadata": {},
     "output_type": "execute_result"
    }
   ],
   "source": [
    "s.count('n')"
   ]
  },
  {
   "cell_type": "code",
   "execution_count": 8,
   "id": "5eab5e03",
   "metadata": {
    "ExecuteTime": {
     "end_time": "2023-06-07T09:26:45.225273Z",
     "start_time": "2023-06-07T09:26:45.220608Z"
    }
   },
   "outputs": [
    {
     "data": {
      "text/plain": [
       "1"
      ]
     },
     "execution_count": 8,
     "metadata": {},
     "output_type": "execute_result"
    }
   ],
   "source": [
    "s.upper().lower().count('i')"
   ]
  },
  {
   "cell_type": "code",
   "execution_count": 76,
   "id": "fb8753d1",
   "metadata": {},
   "outputs": [
    {
     "name": "stdout",
     "output_type": "stream",
     "text": [
      "Soy un stringSoy un stringSoy un stringSoy un stringSoy un string\n"
     ]
    }
   ],
   "source": [
    "print(s*5)"
   ]
  },
  {
   "cell_type": "markdown",
   "id": "91b00219",
   "metadata": {},
   "source": [
    "Vamos a ver como ver la ayuda de las funciones, para ello crearemos la función saludo"
   ]
  },
  {
   "cell_type": "code",
   "execution_count": 9,
   "id": "72327198",
   "metadata": {
    "scrolled": true
   },
   "outputs": [
    {
     "data": {
      "text/plain": [
       "['__add__',\n",
       " '__class__',\n",
       " '__contains__',\n",
       " '__delattr__',\n",
       " '__dir__',\n",
       " '__doc__',\n",
       " '__eq__',\n",
       " '__format__',\n",
       " '__ge__',\n",
       " '__getattribute__',\n",
       " '__getitem__',\n",
       " '__getnewargs__',\n",
       " '__gt__',\n",
       " '__hash__',\n",
       " '__init__',\n",
       " '__init_subclass__',\n",
       " '__iter__',\n",
       " '__le__',\n",
       " '__len__',\n",
       " '__lt__',\n",
       " '__mod__',\n",
       " '__mul__',\n",
       " '__ne__',\n",
       " '__new__',\n",
       " '__reduce__',\n",
       " '__reduce_ex__',\n",
       " '__repr__',\n",
       " '__rmod__',\n",
       " '__rmul__',\n",
       " '__setattr__',\n",
       " '__sizeof__',\n",
       " '__str__',\n",
       " '__subclasshook__',\n",
       " 'capitalize',\n",
       " 'casefold',\n",
       " 'center',\n",
       " 'count',\n",
       " 'encode',\n",
       " 'endswith',\n",
       " 'expandtabs',\n",
       " 'find',\n",
       " 'format',\n",
       " 'format_map',\n",
       " 'index',\n",
       " 'isalnum',\n",
       " 'isalpha',\n",
       " 'isascii',\n",
       " 'isdecimal',\n",
       " 'isdigit',\n",
       " 'isidentifier',\n",
       " 'islower',\n",
       " 'isnumeric',\n",
       " 'isprintable',\n",
       " 'isspace',\n",
       " 'istitle',\n",
       " 'isupper',\n",
       " 'join',\n",
       " 'ljust',\n",
       " 'lower',\n",
       " 'lstrip',\n",
       " 'maketrans',\n",
       " 'partition',\n",
       " 'replace',\n",
       " 'rfind',\n",
       " 'rindex',\n",
       " 'rjust',\n",
       " 'rpartition',\n",
       " 'rsplit',\n",
       " 'rstrip',\n",
       " 'split',\n",
       " 'splitlines',\n",
       " 'startswith',\n",
       " 'strip',\n",
       " 'swapcase',\n",
       " 'title',\n",
       " 'translate',\n",
       " 'upper',\n",
       " 'zfill']"
      ]
     },
     "execution_count": 9,
     "metadata": {},
     "output_type": "execute_result"
    }
   ],
   "source": [
    "# Ver todos los métodos y atributos de un objeto\n",
    "dir(s)"
   ]
  },
  {
   "cell_type": "code",
   "execution_count": 10,
   "id": "0303ad5a",
   "metadata": {
    "ExecuteTime": {
     "end_time": "2023-06-07T09:16:36.472144Z",
     "start_time": "2023-06-07T09:16:36.465184Z"
    }
   },
   "outputs": [
    {
     "data": {
      "text/plain": [
       "['Soy', 'un', 'string']"
      ]
     },
     "execution_count": 10,
     "metadata": {},
     "output_type": "execute_result"
    }
   ],
   "source": [
    "ls = s.split(' ')\n",
    "ls"
   ]
  },
  {
   "cell_type": "code",
   "execution_count": 11,
   "id": "4623b4db",
   "metadata": {
    "ExecuteTime": {
     "end_time": "2023-06-07T09:18:37.357189Z",
     "start_time": "2023-06-07T09:18:37.353426Z"
    }
   },
   "outputs": [
    {
     "data": {
      "text/plain": [
       "'Soy/un/string'"
      ]
     },
     "execution_count": 11,
     "metadata": {},
     "output_type": "execute_result"
    }
   ],
   "source": [
    "lss = '/'.join(ls)\n",
    "lss"
   ]
  },
  {
   "cell_type": "markdown",
   "id": "df14a4e7",
   "metadata": {},
   "source": [
    "Otra cosa útil que podemos hacer es reempalzar cortes en el texto por variables"
   ]
  },
  {
   "cell_type": "code",
   "execution_count": 13,
   "id": "d7078ea1",
   "metadata": {
    "ExecuteTime": {
     "end_time": "2023-06-07T12:15:38.009295Z",
     "start_time": "2023-06-07T12:15:38.004196Z"
    }
   },
   "outputs": [
    {
     "data": {
      "text/plain": [
       "'Mi perro se llama Cop y mis **** gatos se llaman Fury y Tobe'"
      ]
     },
     "execution_count": 13,
     "metadata": {},
     "output_type": "execute_result"
    }
   ],
   "source": [
    "l = ['Cop', 'Fury', 'Tobe']\n",
    "'Mi perro se llama {} y mis **** gatos se llaman {} y {}'.format(l[0], l[1], l[2])"
   ]
  },
  {
   "cell_type": "markdown",
   "id": "9405301f",
   "metadata": {},
   "source": [
    "Un tipo especial de string podrían ser los path o rutas a un archivo"
   ]
  },
  {
   "cell_type": "markdown",
   "id": "237c678d",
   "metadata": {},
   "source": [
    "### System paths"
   ]
  },
  {
   "cell_type": "code",
   "execution_count": 14,
   "id": "e0845d0e",
   "metadata": {},
   "outputs": [
    {
     "name": "stdout",
     "output_type": "stream",
     "text": [
      "yearly3.cpg\n",
      ".python_history\n",
      ".ipynb_checkpoints\n",
      "yearly_points.shx\n",
      "DescargasSamples3.cpg\n",
      "Descargaspoints13.prj\n",
      "harvardlph_DB_3000_3day.csv\n",
      ".dmrc\n",
      "harvard_DB_0001_3day_transition_dates.csv\n",
      "Protocolo\n",
      ".mongorc.js\n",
      "Untitled3.ipynb\n",
      "record-2022-05-18_11.18.49.mkv\n",
      "00_geemap_key_features.ipynb\n",
      "DescargasSamples.fix\n",
      "landsat.png\n",
      "landsat_07.tif\n",
      ".gphoto\n",
      "Untitled16.ipynb\n",
      "lucio_del_rey_par.xlsx\n",
      "harvardhemlock_DB_2000_3day_transition_dates.csv\n",
      "vetalengua_par.xlsx\n",
      "Descargaspoints12.cpg\n",
      ".npm\n",
      "DescargasSamples_gcs.shx\n",
      "eLTER_Lyon\n",
      "diaria.cpg\n",
      "test_points.dbf\n",
      "Descargas\n",
      "yearly_points_january.cpg\n",
      "yearly.shp\n",
      "Untitled10.ipynb\n",
      "MAPFRE\n",
      "Closest_Points_3.ipynb\n",
      "us_cities.zip\n",
      "landsat_16.tif\n",
      "landsat\n",
      ".zoom\n",
      "yearly_points_january.prj\n",
      "surface_water_mapping.ipynb\n",
      "yearly_points.prj\n",
      "Escritorio\n",
      "yearly_points.shp\n",
      ".yagmail\n",
      "dem.shp\n",
      "bartlettir_DB_1000_3day_transition_dates.csv\n",
      ".Rhistory\n",
      "Descargaspoints2.dbf\n",
      "Downloads\n",
      "test_samples.cpg\n",
      "basics.ipynb\n",
      "dem.prj\n",
      "diaria.shx\n",
      "notebooks\n",
      "harvardbarn2_DB_1000_3day_transition_dates.csv\n",
      ".mcrCache9.6\n",
      "yearly3.dbf\n",
      "harvard_DB_0001_3day.csv\n",
      "Testing geemap.ipynb\n",
      ".gradle\n",
      "C:\\sqlite\\db\\pythonsqlite.db\n",
      "harvardbarn2_DB_2000_3day.csv\n",
      "cancela_millan_Temp_cond.xlsx\n",
      "harvardfarmsouth_DB_1000_3day_transition_dates.csv\n",
      "landsat_crs.tif\n",
      "Untitled5.ipynb\n",
      "mycomposition.tif.aux.xml\n",
      ".matlab\n",
      "Japan_2022.ipynb\n",
      "eletr_random_select.shp\n",
      "hondones_del_burro_par.xlsx\n",
      "harvardbarn_DB_1000_3day.csv\n",
      "vetalengua.xlsx\n",
      "Untitled17.ipynb\n",
      "Público\n",
      "Untitled12.ipynb\n",
      ".snap\n",
      "dem.dbf\n",
      "yearly2.cpg\n",
      "harvardhemlock_DB_1000_3day.csv\n",
      "Android\n",
      ".cinnamon\n",
      "landsat_09.tif\n",
      "landsat_full.tif\n",
      "diaria.prj\n",
      "PhenoAPP.ipynb\n",
      "yearly_points_january.shp\n",
      ".mozilla\n",
      ".ssh\n",
      "Vídeos\n",
      "landsat_05.tif\n",
      "std.csv\n",
      ".Genymobile\n",
      ".~lock.hondones_del_burro_cota.xlsx#\n",
      ".local\n",
      "yearly.shx\n",
      ".install4j\n",
      "landsat_02.tif\n",
      "test_points.shp\n",
      "landsat_04.tif\n",
      "Untitled18.ipynb\n",
      ".RData\n",
      "dem.cpg\n",
      "harvard_DB_1000_3day.csv\n",
      "stats.prj\n",
      ".oracle_jre_usage\n",
      "dicts\n",
      "vpp_data.txt\n",
      "rompido.gif\n",
      "Bonares_Almonte.shp\n",
      "snap\n",
      "harvardlph_DB_1000_3day.csv\n",
      "Untitled7.ipynb\n",
      "Descargaspoints12.shp\n",
      "Descargaspoints13.shp\n",
      "test_color.shp\n",
      "yearly_points.fix\n",
      "DescargasSamples.dbf\n",
      "harvardfarmsouth_DB_1000_3day.csv\n",
      "landsat_12.tif\n",
      "resoliman_par.xlsx\n",
      "Lucia\n",
      "test_samples.prj\n",
      "Crop_Mapping_2022.ipynb\n",
      "image_collection_overview.ipynb\n",
      "SDM_geemap_course_day_4.ipynb\n",
      "node_modules\n",
      ".pki\n",
      ".hdarc\n",
      ".nvm\n",
      "landsat.jpg\n",
      "eletr_random_select.cpg\n",
      ".dotnet\n",
      "QField\n",
      "hondones_del_burro_cota.xlsx\n",
      "Día 1.ipynb\n",
      "Untitled15.ipynb\n",
      "Untitled1.ipynb\n",
      "Descargaspoints12.dbf\n",
      "mintupgrade-2022-08-22T195254.log\n",
      "yearly_points.dbf\n",
      "Cairngorms.shx\n",
      "eletr_random_select.prj\n",
      "ndvi_2019.tif.aux.xml\n",
      ".selected_editor\n",
      "landsat_01.tif\n",
      "yearly.cpg\n",
      "DescargasSamples3.fix\n",
      "Untitled8.ipynb\n",
      ".gtkrc-xfce\n",
      "stats.fix\n",
      "DescargasSamples_gcs.dbf\n",
      ".gnupg\n",
      "landsat_06.tif\n",
      "test_samples.dbf\n",
      "MODIS_NDVI_Analysis.ipynb\n",
      ".openfortigui\n",
      "harvard_DB_1000_3day_transition_dates.csv\n",
      "UHU_Phd\n",
      ".config\n",
      "test_file.txt\n",
      "SRM_Workshop_2022.ipynb\n",
      ".profile\n",
      "Untitled.ipynb\n",
      "Opos\n",
      "Bonares_Almonte.cpg\n",
      ".pdfbox.cache\n",
      ".themes\n",
      "NDWI\n",
      "Class_Alejandro_Final.ipynb\n",
      "harvardlph_DB_1000_3day_transition_dates.csv\n",
      "Untitled9.ipynb\n",
      "landsat.csv\n",
      "DescargasSamples_gcs.cpg\n",
      "stats.shx\n",
      "harvardlph_DB_2000_3day.csv\n",
      "yearly2.prj\n",
      ".xsessionrc\n",
      "ndvi_2016.tif\n",
      "testhdarc.txt\n",
      "ClosetsPoints.ipynb\n",
      ".degit\n",
      ".nvidia-settings-rc\n",
      "Descargaspoints.shp\n",
      "yearly_points_january.dbf\n",
      "yearly2.dbf\n",
      "Untitled2.ipynb\n",
      "ipyleaflet.html\n",
      "wekeo.ipynb\n",
      "Documentos\n",
      "yearly_points_january.shx\n",
      "multiple_widgets.ipynb\n",
      "resoliman_Temp_cond.xlsx\n",
      ".Rprofile\n",
      "foo.txt\n",
      "us_cities.cpg\n",
      "DescargasSamples.shx\n",
      ".bash_logout\n",
      "stats.cpg\n",
      "Descargaspoints12.fix\n",
      "landsat_15.tif\n",
      ".icons\n",
      "eletr_random_select.dbf\n",
      "Descargaspoints12.prj\n",
      "package-lock.json\n",
      "eletr_random_select.shx\n",
      "vetalengua_Temp_cond.xlsx\n",
      "cancela_millan_vaisala.xlsx\n",
      "us_cities.csv\n",
      "Descargaspoints13.fix\n",
      "package.json\n",
      "us_cities.shp\n",
      "testPyGitHub.ipynb\n",
      "Cairngorms.prj\n",
      "ndvi_2018.tif\n",
      "hs_err_pid25368.log\n",
      "harvardlph_DB_3000_3day_transition_dates.csv\n",
      "resoliman_cota.xlsx\n",
      "us_cities.dbf\n",
      "landsat_13.tif\n",
      "landsat.tif\n",
      "yearly_points.cpg\n",
      "us_cities.shx\n",
      ".var\n",
      "hondones_del_burro_vaisala.xlsx\n",
      "yearly3.prj\n",
      "yearly3.fix\n",
      "test_color.shx\n",
      "Bonares_Almonte.prj\n",
      "DescargasSamples3.shx\n",
      "esa_cropland.csv\n",
      "Día 1_2.ipynb\n",
      ".mongodb\n",
      "print.pdf\n",
      "monteblanco_GR_1000_3day_transition_dates.csv\n",
      "Cairngorms.dbf\n",
      "pyhda\n",
      "media\n",
      "Descargaspoints13.cpg\n",
      "test_points.prj\n",
      "cancela_millan_par.xlsx\n",
      "Descargaspoints2.prj\n",
      ".afirma\n",
      ".linuxmint\n",
      "DescargasSamples3.shp\n",
      "ipywidgets.ipynb\n",
      ".nv\n",
      "Day2_1.ipynb\n",
      "ndvi_2018.tif.aux.xml\n",
      "DescargasSamples3.dbf\n",
      "Música\n",
      "Bonares_Almonte.shx\n",
      ".bash_history\n",
      ".grass7\n",
      "Descargaspoints2.csv\n",
      "Cairngorms.shp\n",
      "harvardhemlock_DB_2000_3day.csv\n",
      "Descargaspoints13.shx\n",
      "Wekeo_Download_20221128.ipynb\n",
      "landsaClippedt.jpg\n",
      ".designer\n",
      "ndvi2gif extended version.ipynb\n",
      "landsat_stats.csv\n",
      "R\n",
      "yearly.dbf\n",
      "landsat_14.tif\n",
      "Mosaic_Sentinel.ipynb\n",
      "my-app\n",
      "git\n",
      "test.csv\n",
      "test_samples.shx\n",
      "cloud_free_composite.ipynb\n",
      "yearly3.shx\n",
      ".anaconda\n",
      "sqlite.db\n",
      ".zotero\n",
      "2022-11-09-10-12-55.074-VBoxSVC-26699.log\n",
      ".r\n",
      "Descargaspoints2.shp\n",
      "landsaClippedt.png\n",
      "AndroidStudioProjects\n",
      ".thunderbird\n",
      "harvardhemlock_DB_1000_3day_transition_dates.csv\n",
      "Desktop\n",
      "NDWI Periods.ipynb\n",
      "testing pyvpp.ipynb\n",
      "us_cities.prj\n",
      "landsat_10.tif\n",
      "Donana.ipynb\n",
      ".gnome\n",
      "wind-global.nc\n",
      ".Xauthority\n",
      "Plantillas\n",
      "ipykernel_launcher999999.cfg\n",
      "yearly3.shp\n",
      ".jupyter\n",
      "Descargaspoints13.dbf\n",
      "Descargaspoints12.shx\n",
      "ndvi_2021.tif\n",
      "wekeo_downloadL.ipynb\n",
      ".vscode-cli\n",
      "interactive.ipynb\n",
      "DescargasSamples.cpg\n",
      ".dbshell\n",
      ".ipython\n",
      "vetalengua_vaisala.xlsx\n",
      "landsat_08.tif\n",
      "harvardbarn2_DB_1000_3day.csv\n",
      ".conda\n",
      "diaria.dbf\n",
      "DescargasSamples_gcs.shp\n",
      "luciodelrey_vaisala.xlsx\n",
      "wind.ipynb\n",
      ".python_history-08479.tmp\n",
      "diaria.shp\n",
      "DescargasSamples_gcs.prj\n",
      "21_export_map_to_html_png.ipynb\n",
      "Descargaspoints.shx\n",
      ".wget-hsts\n",
      "test_samples.shp\n",
      "lucio_del_rey_Temp_cond.xlsx\n",
      "Descargaspoints.csv\n",
      "sabinar_EN_1000_3day_transition_dates.csv\n",
      "export\n",
      "Untitled11.ipynb\n",
      "DescargasSamples3.prj\n",
      "mama\n",
      "yearly2.shx\n",
      "wekeo_download.ipynb\n",
      "mintupgrade-2022-08-22T195717.log\n",
      ".gtkrc-2.0\n",
      "us-cities.json\n",
      ".xsession-errors.old\n",
      ".vscode\n",
      "file.txt\n",
      "Untitled4.ipynb\n",
      "Cairngorms.cpg\n",
      "us_cities.geojson\n",
      "test_points.cpg\n",
      "sqlenv.ipynb\n",
      "yearly2.shp\n",
      "LiDAR.ipynb\n",
      "mtb\n",
      "Descargaspoints2.shx\n",
      ".ssr\n",
      "MODIS Conversion Date.ipynb\n",
      ".bashrc\n",
      ".vysor\n",
      "Imágenes\n",
      "Cairngorms.qmd\n",
      "__pycache__\n",
      ".xsession-errors\n",
      "convert.txt\n",
      "water_app.ipynb\n",
      "Untitled13.ipynb\n",
      "ndvi_2020.tif\n",
      "Lights_UAB\n",
      "dem_stats.csv\n",
      "mintupgrade-2022-08-22T191719.log\n",
      ".condarc\n",
      ".rstudio-desktop\n",
      "Untitled14.ipynb\n",
      "wekwoDownload.ipynb\n",
      ".m2\n",
      "Untitled6.ipynb\n",
      "test_color.prj\n",
      "resoliman_vaisala.xlsx\n",
      "landsat__\n",
      "hondones_del_burro_Temp_cond.xlsx\n",
      "Diego Garcia.pgp\n",
      "good_wekedeims.ipynb\n",
      ".cache\n",
      "dem.shx\n",
      "harvardlph_DB_2000_3day_transition_dates.csv\n",
      ".env\n",
      "test_points.shx\n",
      "square.py\n",
      "xleaflet.ipynb\n",
      ".bash_completion\n",
      "sabinar_EN_1000_3day.csv\n",
      "stats.dbf\n",
      "yearly.fix\n",
      "eLTER_WP4_Phenology.ipynb\n",
      "yearly2.fix\n",
      "stats.shp\n",
      "gee_repos\n",
      "DescargasSamples.shp\n",
      "cursos\n",
      "Varios\n",
      ".java\n",
      ".continuum\n",
      "harvardbarn2_DB_2000_3day_transition_dates.csv\n",
      "square_2.py\n",
      "var\n",
      "bartlettir_DB_1000_3day.csv\n",
      "test_color.dbf\n",
      ".pam_environment\n",
      ".gitconfig\n",
      "ndvi_2017.tif\n",
      "conditional_operations (1).ipynb\n",
      "monteblanco_GR_1000_3day.csv\n",
      "landsat_03.tif\n",
      "02_DB_0001_01_vector.csv\n",
      "Descargaspoints.prj\n",
      "TIMESAT.ipynb\n",
      "43_extract_values_to_points.ipynb\n",
      "harvardbarn_DB_1000_3day_transition_dates.csv\n",
      "landsat_11.tif\n",
      "DescargasSamples.prj\n",
      "ndvi_2019.tif\n",
      "mapping_over_image_collection.ipynb\n",
      "pyvpp example.ipynb\n",
      ".~lock.cancela_millan_par.xlsx#\n",
      "dem.fix\n",
      ".android\n",
      "yearly_points_january.fix\n",
      ".python_history-66177.tmp\n",
      ".sudo_as_admin_successful\n",
      "lucio_del_rey_cota.xlsx\n",
      "cancela_millan_cota.xlsx\n",
      "reducing_image_collection.ipynb\n",
      "anaconda3\n",
      "ndvi_2017.tif.aux.xml\n",
      "test_color.cpg\n",
      "Zotero\n",
      "yearly.prj\n",
      "Descargaspoints.dbf\n",
      "Bonares_Almonte.dbf\n"
     ]
    }
   ],
   "source": [
    "import os\n",
    "\n",
    "MyPath = os.getcwd()\n",
    "\n",
    "for i in os.listdir(MyPath):\n",
    "    print(i)\n",
    "    "
   ]
  },
  {
   "cell_type": "raw",
   "id": "ac185d48",
   "metadata": {},
   "source": [
    "os.path.join() Unir paths con nombres de archivos para acceder a la ruta completa\n",
    "os.path.split()[0] o [1] Separar un path entre el nombre de archivo y la ruta hasta él\n",
    "os.makedirs Crear directorios\n",
    "os.path.isdir/file comprobar la identidad del elemento"
   ]
  },
  {
   "cell_type": "markdown",
   "id": "aac8c42b",
   "metadata": {
    "ExecuteTime": {
     "end_time": "2023-06-07T09:39:56.009082Z",
     "start_time": "2023-06-07T09:39:56.006462Z"
    }
   },
   "source": [
    "## Numbers and Booleans"
   ]
  },
  {
   "cell_type": "code",
   "execution_count": 15,
   "id": "c9940a69",
   "metadata": {
    "ExecuteTime": {
     "end_time": "2023-06-07T09:39:20.804576Z",
     "start_time": "2023-06-07T09:39:20.800603Z"
    }
   },
   "outputs": [],
   "source": [
    "a = 4 + 4\n",
    "aa = 4 + 4.0"
   ]
  },
  {
   "cell_type": "code",
   "execution_count": 16,
   "id": "be29ef84",
   "metadata": {
    "ExecuteTime": {
     "end_time": "2023-06-07T09:39:21.675278Z",
     "start_time": "2023-06-07T09:39:21.670986Z"
    }
   },
   "outputs": [
    {
     "data": {
      "text/plain": [
       "True"
      ]
     },
     "execution_count": 16,
     "metadata": {},
     "output_type": "execute_result"
    }
   ],
   "source": [
    "a == aa"
   ]
  },
  {
   "cell_type": "code",
   "execution_count": 17,
   "id": "ae2431d2",
   "metadata": {
    "ExecuteTime": {
     "end_time": "2023-06-07T09:25:39.086095Z",
     "start_time": "2023-06-07T09:25:39.075260Z"
    }
   },
   "outputs": [
    {
     "data": {
      "text/plain": [
       "(int, float)"
      ]
     },
     "execution_count": 17,
     "metadata": {},
     "output_type": "execute_result"
    }
   ],
   "source": [
    "type(a), type(aa)"
   ]
  },
  {
   "cell_type": "code",
   "execution_count": 18,
   "id": "37b326c1",
   "metadata": {
    "ExecuteTime": {
     "end_time": "2023-06-07T09:39:32.672734Z",
     "start_time": "2023-06-07T09:39:32.665974Z"
    }
   },
   "outputs": [
    {
     "name": "stdout",
     "output_type": "stream",
     "text": [
      "True\n",
      "False\n"
     ]
    }
   ],
   "source": [
    "print(a == aa)\n",
    "print(type(a) == type(aa))"
   ]
  },
  {
   "cell_type": "code",
   "execution_count": 19,
   "id": "03f6a4d8",
   "metadata": {
    "ExecuteTime": {
     "end_time": "2023-06-07T09:11:23.082556Z",
     "start_time": "2023-06-07T09:11:23.076100Z"
    }
   },
   "outputs": [],
   "source": [
    "b = int(a)"
   ]
  },
  {
   "cell_type": "code",
   "execution_count": 20,
   "id": "1060920b",
   "metadata": {
    "ExecuteTime": {
     "end_time": "2023-06-07T09:11:25.734391Z",
     "start_time": "2023-06-07T09:11:25.723804Z"
    }
   },
   "outputs": [
    {
     "data": {
      "text/plain": [
       "(8, 8, 8.0)"
      ]
     },
     "execution_count": 20,
     "metadata": {},
     "output_type": "execute_result"
    }
   ],
   "source": [
    "b, a, aa"
   ]
  },
  {
   "cell_type": "markdown",
   "id": "ac128c90",
   "metadata": {},
   "source": [
    "Por supuesto, a través de otras librerías específicas podemos hacer muchísimas más cosas"
   ]
  },
  {
   "cell_type": "code",
   "execution_count": 40,
   "id": "addbf5b6",
   "metadata": {},
   "outputs": [
    {
     "name": "stdout",
     "output_type": "stream",
     "text": [
      "148.4131591025766\n"
     ]
    }
   ],
   "source": [
    "import math\n",
    "print(math.exp(5))"
   ]
  },
  {
   "cell_type": "code",
   "execution_count": 44,
   "id": "7a160feb",
   "metadata": {},
   "outputs": [],
   "source": [
    "math.exp?"
   ]
  },
  {
   "cell_type": "code",
   "execution_count": 47,
   "id": "c41df523",
   "metadata": {},
   "outputs": [
    {
     "data": {
      "text/plain": [
       "3.14"
      ]
     },
     "execution_count": 47,
     "metadata": {},
     "output_type": "execute_result"
    }
   ],
   "source": [
    "round(math.pi, 2)"
   ]
  },
  {
   "cell_type": "code",
   "execution_count": 52,
   "id": "835c6e40",
   "metadata": {},
   "outputs": [
    {
     "data": {
      "text/plain": [
       "(3, 4)"
      ]
     },
     "execution_count": 52,
     "metadata": {},
     "output_type": "execute_result"
    }
   ],
   "source": [
    "pi = round(math.pi, 5)\n",
    "math.floor(pi), math.ceil(pi)"
   ]
  },
  {
   "cell_type": "markdown",
   "id": "ad267543",
   "metadata": {},
   "source": [
    "## Listas, Tuples, Sets & Dicts"
   ]
  },
  {
   "cell_type": "code",
   "execution_count": 78,
   "id": "a7e56b06",
   "metadata": {},
   "outputs": [],
   "source": [
    "l = [1,2,3]\n",
    "t = (1,2,3)\n",
    "s = {1,2,3}\n",
    "d = {'Primero': 1, 'Segundo': 2, 'Tercero': 3}"
   ]
  },
  {
   "cell_type": "code",
   "execution_count": 97,
   "id": "783d1ffd",
   "metadata": {},
   "outputs": [
    {
     "data": {
      "text/plain": [
       "[1, 10, 3, 4, 4, 4, 4]"
      ]
     },
     "execution_count": 97,
     "metadata": {},
     "output_type": "execute_result"
    }
   ],
   "source": [
    "l[1] = 10\n",
    "l"
   ]
  },
  {
   "cell_type": "code",
   "execution_count": 132,
   "id": "0655274d",
   "metadata": {},
   "outputs": [
    {
     "data": {
      "text/plain": [
       "[1, 1, 1, 1, 1, 1, 1, 3, 4, 4, 4, 4, 10]"
      ]
     },
     "execution_count": 132,
     "metadata": {},
     "output_type": "execute_result"
    }
   ],
   "source": [
    "l.append(1)\n",
    "l = sorted(l)#[3:5]\n",
    "l"
   ]
  },
  {
   "cell_type": "code",
   "execution_count": 133,
   "id": "576feee8",
   "metadata": {},
   "outputs": [
    {
     "data": {
      "text/plain": [
       "[1, 1, 1, 1, 1, 1, 1, 3, 4, 4, 4, 4]"
      ]
     },
     "execution_count": 133,
     "metadata": {},
     "output_type": "execute_result"
    }
   ],
   "source": [
    "l.pop(-1)\n",
    "l"
   ]
  },
  {
   "cell_type": "code",
   "execution_count": 134,
   "id": "5839edd1",
   "metadata": {},
   "outputs": [
    {
     "data": {
      "text/plain": [
       "[1, 1, 1, 1, 1, 1, 1, 3, 4, 4, 4, 4, 10]"
      ]
     },
     "execution_count": 134,
     "metadata": {},
     "output_type": "execute_result"
    }
   ],
   "source": [
    "l.append(10)\n",
    "l"
   ]
  },
  {
   "cell_type": "code",
   "execution_count": 135,
   "id": "35d158be",
   "metadata": {},
   "outputs": [
    {
     "data": {
      "text/plain": [
       "[1, 1, 1, 1, 1, 1, 1, 3, 4, 4, 4, 4]"
      ]
     },
     "execution_count": 135,
     "metadata": {},
     "output_type": "execute_result"
    }
   ],
   "source": [
    "del(l[-1])\n",
    "l"
   ]
  },
  {
   "cell_type": "code",
   "execution_count": 138,
   "id": "aa8d0eca",
   "metadata": {},
   "outputs": [
    {
     "data": {
      "text/plain": [
       "[1, 10, 10, 1, 10, 1, 1, 1, 1, 1, 3, 4, 4, 4, 4]"
      ]
     },
     "execution_count": 138,
     "metadata": {},
     "output_type": "execute_result"
    }
   ],
   "source": [
    "l.insert(4, 10)\n",
    "l"
   ]
  },
  {
   "cell_type": "code",
   "execution_count": 83,
   "id": "3c7dd565",
   "metadata": {},
   "outputs": [
    {
     "ename": "TypeError",
     "evalue": "'set' object is not subscriptable",
     "output_type": "error",
     "traceback": [
      "\u001b[0;31m---------------------------------------------------------------------------\u001b[0m",
      "\u001b[0;31mTypeError\u001b[0m                                 Traceback (most recent call last)",
      "\u001b[0;32m<ipython-input-83-f8bb2b116405>\u001b[0m in \u001b[0;36m<module>\u001b[0;34m\u001b[0m\n\u001b[0;32m----> 1\u001b[0;31m \u001b[0ms\u001b[0m\u001b[0;34m[\u001b[0m\u001b[0;36m1\u001b[0m\u001b[0;34m]\u001b[0m\u001b[0;34m\u001b[0m\u001b[0;34m\u001b[0m\u001b[0m\n\u001b[0m",
      "\u001b[0;31mTypeError\u001b[0m: 'set' object is not subscriptable"
     ]
    }
   ],
   "source": [
    "s[1]"
   ]
  },
  {
   "cell_type": "code",
   "execution_count": 99,
   "id": "99875ff1",
   "metadata": {},
   "outputs": [
    {
     "data": {
      "text/plain": [
       "{'Primero': 1, 'Segundo': 2, 'Tercero': 3, 1: 5}"
      ]
     },
     "execution_count": 99,
     "metadata": {},
     "output_type": "execute_result"
    }
   ],
   "source": [
    "d[1] = 5\n",
    "d"
   ]
  },
  {
   "cell_type": "code",
   "execution_count": 139,
   "id": "3ac2ec1e",
   "metadata": {},
   "outputs": [
    {
     "data": {
      "text/plain": [
       "{'Primero': 1, 'Segundo': 2, 'Tercero': 3}"
      ]
     },
     "execution_count": 139,
     "metadata": {},
     "output_type": "execute_result"
    }
   ],
   "source": [
    "d.pop(1)\n",
    "d\n",
    "#del(d[1])"
   ]
  },
  {
   "cell_type": "code",
   "execution_count": 150,
   "id": "235d2a41",
   "metadata": {},
   "outputs": [
    {
     "name": "stdout",
     "output_type": "stream",
     "text": [
      "[1, 2, 3, 20, 40]\n"
     ]
    }
   ],
   "source": [
    "s.add(40)\n",
    "s.add(20)\n",
    "print(sorted(s))"
   ]
  },
  {
   "cell_type": "code",
   "execution_count": 152,
   "id": "d73b9ab1",
   "metadata": {},
   "outputs": [
    {
     "data": {
      "text/plain": [
       "{1, 2, 3, 20}"
      ]
     },
     "execution_count": 152,
     "metadata": {},
     "output_type": "execute_result"
    }
   ],
   "source": [
    "s.remove(40)\n",
    "s"
   ]
  },
  {
   "cell_type": "code",
   "execution_count": 101,
   "id": "4088214c",
   "metadata": {
    "scrolled": true
   },
   "outputs": [
    {
     "ename": "TypeError",
     "evalue": "'tuple' object does not support item assignment",
     "output_type": "error",
     "traceback": [
      "\u001b[0;31m---------------------------------------------------------------------------\u001b[0m",
      "\u001b[0;31mTypeError\u001b[0m                                 Traceback (most recent call last)",
      "\u001b[0;32m<ipython-input-101-5a9388635924>\u001b[0m in \u001b[0;36m<module>\u001b[0;34m\u001b[0m\n\u001b[0;32m----> 1\u001b[0;31m \u001b[0mt\u001b[0m\u001b[0;34m[\u001b[0m\u001b[0;36m1\u001b[0m\u001b[0;34m]\u001b[0m \u001b[0;34m=\u001b[0m \u001b[0;36m10\u001b[0m\u001b[0;34m\u001b[0m\u001b[0;34m\u001b[0m\u001b[0m\n\u001b[0m",
      "\u001b[0;31mTypeError\u001b[0m: 'tuple' object does not support item assignment"
     ]
    }
   ],
   "source": [
    "t[1] = 10"
   ]
  },
  {
   "cell_type": "code",
   "execution_count": 105,
   "id": "a20a2341",
   "metadata": {
    "scrolled": false
   },
   "outputs": [
    {
     "ename": "AttributeError",
     "evalue": "'tuple' object has no attribute 'append'",
     "output_type": "error",
     "traceback": [
      "\u001b[0;31m---------------------------------------------------------------------------\u001b[0m",
      "\u001b[0;31mAttributeError\u001b[0m                            Traceback (most recent call last)",
      "\u001b[0;32m<ipython-input-105-eefa595c211a>\u001b[0m in \u001b[0;36m<module>\u001b[0;34m\u001b[0m\n\u001b[0;32m----> 1\u001b[0;31m \u001b[0mt\u001b[0m\u001b[0;34m.\u001b[0m\u001b[0mappend\u001b[0m\u001b[0;34m(\u001b[0m\u001b[0;36m10\u001b[0m\u001b[0;34m)\u001b[0m\u001b[0;34m\u001b[0m\u001b[0;34m\u001b[0m\u001b[0m\n\u001b[0m",
      "\u001b[0;31mAttributeError\u001b[0m: 'tuple' object has no attribute 'append'"
     ]
    }
   ],
   "source": [
    "t.append(10)"
   ]
  },
  {
   "cell_type": "code",
   "execution_count": 144,
   "id": "d4f762b7",
   "metadata": {},
   "outputs": [
    {
     "ename": "AttributeError",
     "evalue": "'tuple' object has no attribute 'add'",
     "output_type": "error",
     "traceback": [
      "\u001b[0;31m---------------------------------------------------------------------------\u001b[0m",
      "\u001b[0;31mAttributeError\u001b[0m                            Traceback (most recent call last)",
      "\u001b[0;32m<ipython-input-144-aaaf38a27ac5>\u001b[0m in \u001b[0;36m<module>\u001b[0;34m\u001b[0m\n\u001b[0;32m----> 1\u001b[0;31m \u001b[0mt\u001b[0m\u001b[0;34m.\u001b[0m\u001b[0madd\u001b[0m\u001b[0;34m(\u001b[0m\u001b[0;36m10\u001b[0m\u001b[0;34m)\u001b[0m\u001b[0;34m\u001b[0m\u001b[0;34m\u001b[0m\u001b[0m\n\u001b[0m",
      "\u001b[0;31mAttributeError\u001b[0m: 'tuple' object has no attribute 'add'"
     ]
    }
   ],
   "source": [
    "t.add(10)"
   ]
  },
  {
   "cell_type": "code",
   "execution_count": 146,
   "id": "ba24348b",
   "metadata": {},
   "outputs": [
    {
     "data": {
      "text/plain": [
       "(1, 2, 3, 15, 15, 25, 5)"
      ]
     },
     "execution_count": 146,
     "metadata": {},
     "output_type": "execute_result"
    }
   ],
   "source": [
    "t2 = (15, 25, 5)\n",
    "t3 = t + t2\n",
    "t3"
   ]
  },
  {
   "cell_type": "code",
   "execution_count": 147,
   "id": "fe203391",
   "metadata": {},
   "outputs": [
    {
     "ename": "AttributeError",
     "evalue": "'tuple' object has no attribute 'remove'",
     "output_type": "error",
     "traceback": [
      "\u001b[0;31m---------------------------------------------------------------------------\u001b[0m",
      "\u001b[0;31mAttributeError\u001b[0m                            Traceback (most recent call last)",
      "\u001b[0;32m<ipython-input-147-e5764365b4e1>\u001b[0m in \u001b[0;36m<module>\u001b[0;34m\u001b[0m\n\u001b[0;32m----> 1\u001b[0;31m \u001b[0mtt\u001b[0m \u001b[0;34m=\u001b[0m \u001b[0mt3\u001b[0m\u001b[0;34m.\u001b[0m\u001b[0mremove\u001b[0m\u001b[0;34m(\u001b[0m\u001b[0;36m15\u001b[0m\u001b[0;34m)\u001b[0m\u001b[0;34m\u001b[0m\u001b[0;34m\u001b[0m\u001b[0m\n\u001b[0m\u001b[1;32m      2\u001b[0m \u001b[0mprint\u001b[0m\u001b[0;34m(\u001b[0m\u001b[0mtt\u001b[0m\u001b[0;34m)\u001b[0m\u001b[0;34m\u001b[0m\u001b[0;34m\u001b[0m\u001b[0m\n",
      "\u001b[0;31mAttributeError\u001b[0m: 'tuple' object has no attribute 'remove'"
     ]
    }
   ],
   "source": [
    "tt = t3.remove(15)\n",
    "print(tt)"
   ]
  },
  {
   "cell_type": "code",
   "execution_count": 114,
   "id": "432c80ae",
   "metadata": {},
   "outputs": [
    {
     "name": "stdout",
     "output_type": "stream",
     "text": [
      "Primero 1\n",
      "Segundo 2\n",
      "Tercero 3\n",
      "1 5\n"
     ]
    }
   ],
   "source": [
    "for k, v in d.items():\n",
    "    print(k, v)"
   ]
  },
  {
   "cell_type": "code",
   "execution_count": 124,
   "id": "9a3dde02",
   "metadata": {},
   "outputs": [
    {
     "data": {
      "text/plain": [
       "['Primero', 'Segundo', 'Tercero', 1]"
      ]
     },
     "execution_count": 124,
     "metadata": {},
     "output_type": "execute_result"
    }
   ],
   "source": [
    "a = list(d.keys())\n",
    "a"
   ]
  },
  {
   "cell_type": "code",
   "execution_count": 113,
   "id": "f2aefa70",
   "metadata": {
    "scrolled": true
   },
   "outputs": [
    {
     "name": "stdout",
     "output_type": "stream",
     "text": [
      "True False\n",
      "4\n"
     ]
    }
   ],
   "source": [
    "print(1 in l, 5 in s)\n",
    "print(len(s))"
   ]
  },
  {
   "cell_type": "code",
   "execution_count": 160,
   "id": "8f38436d",
   "metadata": {},
   "outputs": [
    {
     "name": "stdout",
     "output_type": "stream",
     "text": [
      "0 hola\n",
      "1 Mundo\n",
      "2 Patata\n"
     ]
    }
   ],
   "source": [
    "nl = ['hola', 'Mundo', 'Patata']\n",
    "for n, e in enumerate(nl):\n",
    "    print(n, e)"
   ]
  },
  {
   "cell_type": "markdown",
   "id": "6f8681f7",
   "metadata": {},
   "source": [
    "Podemos hacer desde las operaciones más sencillas hasta las más complejas importando librerías como Numpy"
   ]
  },
  {
   "cell_type": "markdown",
   "id": "874a44a1",
   "metadata": {},
   "source": [
    "## Bucles While y For"
   ]
  },
  {
   "cell_type": "code",
   "execution_count": 1,
   "id": "29ac3986",
   "metadata": {
    "scrolled": true
   },
   "outputs": [
    {
     "name": "stdout",
     "output_type": "stream",
     "text": [
      "Patata\n",
      "Patata\n",
      "Patata\n",
      "Patata\n",
      "Patata\n",
      "Patata\n",
      "Patata\n",
      "Patata\n",
      "Patata\n",
      "Patata\n"
     ]
    }
   ],
   "source": [
    "c = 0\n",
    "while c < 10:\n",
    "    c += 1\n",
    "    print('Patata')"
   ]
  },
  {
   "cell_type": "code",
   "execution_count": null,
   "id": "ad384ccd",
   "metadata": {},
   "outputs": [],
   "source": [
    "while True:\n",
    "    print('Oh, how I love python')"
   ]
  },
  {
   "cell_type": "code",
   "execution_count": 2,
   "id": "053add18",
   "metadata": {
    "scrolled": true
   },
   "outputs": [
    {
     "name": "stdout",
     "output_type": "stream",
     "text": [
      "0\n",
      "1\n",
      "33554432\n",
      "847288609443\n",
      "1125899906842624\n",
      "298023223876953125\n",
      "28430288029929701376\n",
      "1341068619663964900807\n",
      "37778931862957161709568\n",
      "717897987691852588770249\n"
     ]
    }
   ],
   "source": [
    "for i in range(10):\n",
    "    print(i**25)"
   ]
  },
  {
   "cell_type": "code",
   "execution_count": 156,
   "id": "1d7628cc",
   "metadata": {},
   "outputs": [
    {
     "name": "stdout",
     "output_type": "stream",
     "text": [
      "S\n",
      "o\n",
      "y\n",
      " \n",
      "u\n",
      "n\n",
      " \n",
      "s\n",
      "t\n",
      "r\n",
      "i\n",
      "n\n",
      "g\n"
     ]
    }
   ],
   "source": [
    "for i in s:\n",
    "    print(i)"
   ]
  },
  {
   "cell_type": "code",
   "execution_count": 21,
   "id": "7e57e0d0",
   "metadata": {
    "hide_input": false
   },
   "outputs": [
    {
     "name": "stdout",
     "output_type": "stream",
     "text": [
      "Patata\n",
      "Patata\n",
      "Patata\n",
      "Patata\n",
      "Patata\n",
      "Patata\n",
      "Patata\n",
      "Patata\n",
      "Patata\n",
      "Patata\n",
      "Patata\n",
      "Patata\n",
      "Patata\n"
     ]
    }
   ],
   "source": [
    "for i in range(len(s)):\n",
    "    print('Patata')"
   ]
  },
  {
   "cell_type": "markdown",
   "id": "baef0953",
   "metadata": {},
   "source": [
    "Una operación especial es el Modulo o resta de la división"
   ]
  },
  {
   "cell_type": "markdown",
   "id": "3db94907",
   "metadata": {},
   "source": [
    "## Condicionales"
   ]
  },
  {
   "cell_type": "markdown",
   "id": "bcf174d3",
   "metadata": {},
   "source": [
    "Controla el flujo en función de as condiciones que predeterminemos"
   ]
  },
  {
   "cell_type": "code",
   "execution_count": 31,
   "id": "b4402a1c",
   "metadata": {},
   "outputs": [
    {
     "name": "stdout",
     "output_type": "stream",
     "text": [
      "par\n",
      "impar\n",
      "par\n",
      "impar\n",
      "par\n",
      "impar\n",
      "par\n",
      "impar\n",
      "par\n",
      "impar\n",
      "par\n"
     ]
    }
   ],
   "source": [
    "for i in range(11):\n",
    "    if i%2 == 0:\n",
    "        print('par')\n",
    "    else:\n",
    "        print('impar')"
   ]
  },
  {
   "cell_type": "code",
   "execution_count": 32,
   "id": "fc284ee5",
   "metadata": {},
   "outputs": [
    {
     "name": "stdout",
     "output_type": "stream",
     "text": [
      "el número es 0\n",
      "el número es 1\n",
      "el número es 2\n",
      "el número es 3\n",
      "el número es 4\n",
      "el número es 5\n",
      "el número es 6\n",
      "el número es 7\n",
      "el número es 8\n",
      "el número es 9\n",
      "el número es 10\n"
     ]
    }
   ],
   "source": [
    "for i in range(11):\n",
    "    if i < 1:\n",
    "        print('el número es 0')\n",
    "    elif (i >= 1) and (i < 10):\n",
    "        print('el número es', i)\n",
    "    else:\n",
    "        print('el número es 10') "
   ]
  },
  {
   "cell_type": "code",
   "execution_count": null,
   "id": "d7da46d4",
   "metadata": {},
   "outputs": [],
   "source": [
    "for i in range(11):\n",
    "    if i < 1:\n",
    "        print('el número es 0')\n",
    "    elif (i >= 1) and (i < 10):\n",
    "        print('el número es', i)\n",
    "    else:\n",
    "        print('el número es 10') "
   ]
  },
  {
   "cell_type": "code",
   "execution_count": 33,
   "id": "6da531cd",
   "metadata": {},
   "outputs": [
    {
     "name": "stdout",
     "output_type": "stream",
     "text": [
      "el número es 0\n",
      "el número es 1 y es un número impar\n",
      "el número es 2 y es un número par\n",
      "el número es 3 y es un número impar\n",
      "el número es 4 y es un número par\n",
      "el número es 5 y es un número impar\n",
      "el número es 6 y es un número par\n",
      "el número es 7 y es un número impar\n",
      "el número es 8 y es un número par\n",
      "el número es 9 y es un número impar\n",
      "el número es 10\n"
     ]
    }
   ],
   "source": [
    "for i in range(11):\n",
    "    if i < 1:\n",
    "        print('el número es 0')\n",
    "    elif (i >= 1) and (i < 10):\n",
    "        if i%2 == 0:\n",
    "            print('el número es', i, 'y es un número par')\n",
    "        else:\n",
    "            print('el número es', i, 'y es un número impar')\n",
    "    else:\n",
    "        print('el número es 10') "
   ]
  },
  {
   "cell_type": "markdown",
   "id": "f4dc9eae",
   "metadata": {},
   "source": [
    "## Funciones"
   ]
  },
  {
   "cell_type": "code",
   "execution_count": 34,
   "id": "65bc5d2f",
   "metadata": {},
   "outputs": [],
   "source": [
    "# Hacerlo al llegar a las funciones\n",
    "\n",
    "def saludo(nombre):\n",
    "    \n",
    "    \"\"\"Función para saludar a alguien\n",
    "\n",
    "        Args:\n",
    "            nombre->String\n",
    "        Returns:\n",
    "            Hello + Nombre\n",
    "        \"\"\"\n",
    "    if nombre == 'Diego':\n",
    "        print('Wow, que nombre tan bonito!')\n",
    "    else:\n",
    "        print(nombre, 'está ejecutando la función')\n",
    "        \n",
    "    return 'Hello ' + nombre"
   ]
  },
  {
   "cell_type": "code",
   "execution_count": 36,
   "id": "9e00c677",
   "metadata": {},
   "outputs": [
    {
     "name": "stdout",
     "output_type": "stream",
     "text": [
      "Juan está ejecutando la función\n"
     ]
    },
    {
     "data": {
      "text/plain": [
       "'Hello Juan'"
      ]
     },
     "execution_count": 36,
     "metadata": {},
     "output_type": "execute_result"
    }
   ],
   "source": [
    "saludo('Juan')"
   ]
  },
  {
   "cell_type": "markdown",
   "id": "cc6adbb4",
   "metadata": {},
   "source": [
    "## Manejo de errores"
   ]
  },
  {
   "cell_type": "code",
   "execution_count": 24,
   "id": "c8ea8c09",
   "metadata": {
    "scrolled": true
   },
   "outputs": [
    {
     "ename": "TypeError",
     "evalue": "not all arguments converted during string formatting",
     "output_type": "error",
     "traceback": [
      "\u001b[0;31m---------------------------------------------------------------------------\u001b[0m",
      "\u001b[0;31mTypeError\u001b[0m                                 Traceback (most recent call last)",
      "\u001b[0;32m<ipython-input-24-54dfbb8b178d>\u001b[0m in \u001b[0;36m<module>\u001b[0;34m\u001b[0m\n\u001b[1;32m      5\u001b[0m \u001b[0;32mfor\u001b[0m \u001b[0mi\u001b[0m \u001b[0;32min\u001b[0m \u001b[0mlista\u001b[0m\u001b[0;34m:\u001b[0m\u001b[0;34m\u001b[0m\u001b[0;34m\u001b[0m\u001b[0m\n\u001b[1;32m      6\u001b[0m \u001b[0;34m\u001b[0m\u001b[0m\n\u001b[0;32m----> 7\u001b[0;31m     \u001b[0;32mif\u001b[0m \u001b[0mi\u001b[0m\u001b[0;34m%\u001b[0m\u001b[0;36m2\u001b[0m \u001b[0;34m==\u001b[0m \u001b[0;36m0\u001b[0m\u001b[0;34m:\u001b[0m\u001b[0;34m\u001b[0m\u001b[0;34m\u001b[0m\u001b[0m\n\u001b[0m\u001b[1;32m      8\u001b[0m         \u001b[0mpares\u001b[0m\u001b[0;34m.\u001b[0m\u001b[0mappend\u001b[0m\u001b[0;34m(\u001b[0m\u001b[0mi\u001b[0m\u001b[0;34m)\u001b[0m\u001b[0;34m\u001b[0m\u001b[0;34m\u001b[0m\u001b[0m\n\u001b[1;32m      9\u001b[0m     \u001b[0;32melse\u001b[0m\u001b[0;34m:\u001b[0m\u001b[0;34m\u001b[0m\u001b[0;34m\u001b[0m\u001b[0m\n",
      "\u001b[0;31mTypeError\u001b[0m: not all arguments converted during string formatting"
     ]
    }
   ],
   "source": [
    "lista = [1,2,3,4,5,'patata',6,7,8,9,10]\n",
    "pares = []\n",
    "nones = []\n",
    "\n",
    "for i in lista:\n",
    "    \n",
    "    if i%2 == 0:\n",
    "        pares.append(i)\n",
    "    else:\n",
    "        nones.append(i)\n",
    "    "
   ]
  },
  {
   "cell_type": "code",
   "execution_count": 25,
   "id": "3743af41",
   "metadata": {},
   "outputs": [
    {
     "data": {
      "text/plain": [
       "[1, 3, 5]"
      ]
     },
     "execution_count": 25,
     "metadata": {},
     "output_type": "execute_result"
    }
   ],
   "source": [
    "nones"
   ]
  },
  {
   "cell_type": "code",
   "execution_count": 26,
   "id": "2d1f358e",
   "metadata": {},
   "outputs": [
    {
     "name": "stdout",
     "output_type": "stream",
     "text": [
      "not all arguments converted during string formatting\n"
     ]
    }
   ],
   "source": [
    "lista = [1,2,3,4,5,'patata',6,7,8,9,10]\n",
    "pares = []\n",
    "\n",
    "for i in lista:\n",
    "    try:\n",
    "        if i%2 == 0:\n",
    "            pares.append(i)\n",
    "    except Exception as e:\n",
    "        print(e)\n",
    "        continue"
   ]
  },
  {
   "cell_type": "code",
   "execution_count": 157,
   "id": "87e9b562",
   "metadata": {},
   "outputs": [
    {
     "data": {
      "text/plain": [
       "[2, 4, 6, 8, 10]"
      ]
     },
     "execution_count": 157,
     "metadata": {},
     "output_type": "execute_result"
    }
   ],
   "source": [
    "pares"
   ]
  },
  {
   "cell_type": "markdown",
   "id": "ea7cf704",
   "metadata": {},
   "source": [
    "## Modulos"
   ]
  },
  {
   "cell_type": "markdown",
   "id": "59183d11",
   "metadata": {},
   "source": [
    "Un modulo no es ni más ni menos que un archivo python con una serie de funciones o \n",
    "clases que pueden ser importadas directamente a nuestro código"
   ]
  },
  {
   "cell_type": "code",
   "execution_count": null,
   "id": "4a2845c7",
   "metadata": {},
   "outputs": [],
   "source": [
    "%%writefile square_2.py\n",
    "\n",
    "def MySquare_2(num):\n",
    "    return num**2"
   ]
  },
  {
   "cell_type": "code",
   "execution_count": null,
   "id": "8be4ff67",
   "metadata": {},
   "outputs": [],
   "source": [
    "from square_2 import MySquare_2"
   ]
  },
  {
   "cell_type": "code",
   "execution_count": null,
   "id": "d09a8d48",
   "metadata": {},
   "outputs": [],
   "source": [
    "MySquare_2(5)"
   ]
  },
  {
   "cell_type": "markdown",
   "id": "1c11d323",
   "metadata": {
    "ExecuteTime": {
     "end_time": "2023-06-07T09:43:26.722537Z",
     "start_time": "2023-06-07T09:43:26.715663Z"
    }
   },
   "source": [
    "# Ejercicio Rock, Paper, Scissors, Lizard, Spock"
   ]
  },
  {
   "cell_type": "markdown",
   "id": "cb679404",
   "metadata": {},
   "source": [
    "Reglas:\n",
    "\n",
    "- Las tijeras cortan el papel.\n",
    "- El papel envuelve a la piedra.\n",
    "- La piedra aplasta al lagarto.\n",
    "- El lagarto envenena a Spock.\n",
    "- Spock corta a las tijeras.\n",
    "- Las tijeras decapitan al lagarto.\n",
    "- El lagarto se come el papel.\n",
    "- El papel drefuta a Spock.\n",
    "- Spock vaporiza la piedra.\n",
    "- Y, como siempre ha sido,La piedra quiebra las tijeras."
   ]
  },
  {
   "cell_type": "code",
   "execution_count": null,
   "id": "7f72ef38",
   "metadata": {
    "ExecuteTime": {
     "end_time": "2023-06-07T10:17:54.089372Z",
     "start_time": "2023-06-07T10:17:50.961204Z"
    }
   },
   "outputs": [],
   "source": [
    "# Rock Paper Scissors Lizard Spock\n",
    "\n",
    "# to import random function for using random.randrange\n",
    "import random\n",
    "\n",
    "# function to convert number to name\n",
    "def number_to_name(number):\n",
    "    if number == 0:\n",
    "        return \"Rock\"\n",
    "    elif number == 1:\n",
    "        return \"Spock\"\n",
    "    elif number == 2:\n",
    "        return \"Paper\"\n",
    "    elif number == 3:\n",
    "        return \"Lizard\"\n",
    "    elif number == 4:\n",
    "        return \"Scissors\"\n",
    "    else:\n",
    "        return \"Error\" \n",
    "\n",
    "# function to convert name to number\n",
    "def name_to_number(name):\n",
    "    if name == \"Rock\":\n",
    "        return 0\n",
    "    elif name == \"Spock\":\n",
    "        return 1\n",
    "    elif name == \"Paper\":\n",
    "        return 2\n",
    "    elif name == \"Lizard\":\n",
    "        return 3\n",
    "    elif name == \"Scissors\":\n",
    "        return 4\n",
    "    else:\n",
    "        print (name + \"is not a character in RPSLS\")\n",
    "\n",
    "\n",
    "# function which selects the winner\n",
    "def rpsls(guess): \n",
    "    \n",
    "    # convert name to player_number using name_to_number\n",
    "    player_number = name_to_number(guess)\n",
    "    \n",
    "    # compute random guess for comp_number using random.randrange()\n",
    "    comp_number = random.randrange(0,5)\n",
    "\n",
    "    # compute difference of player_number and comp_number modulo five\n",
    "    winner = (comp_number - player_number) % 5\n",
    "    winner_ = (comp_number - player_number)\n",
    "    print(winner, winner_)\n",
    "\n",
    "    # use if/elif/else to determine winner\n",
    "    if winner < 3:\n",
    "        player_win = False\n",
    "    else:\n",
    "        player_win = True\n",
    "    \n",
    "    # convert comp_number to name using number_to_name\n",
    "    comp_name = number_to_name(comp_number)\n",
    "    \n",
    "    # print results\n",
    "    print (\"Player chooses \" + guess)\n",
    "    print (\"Computer chooses \" + comp_name)\n",
    "    if player_win:\n",
    "        print (\"Player wins!\\n\")\n",
    "    elif comp_number == player_number:\n",
    "        print (\"Player and computer tie!\\n\")\n",
    "    else:\n",
    "        print (\"Computer wins!\\n\")\n",
    "\n",
    "    \n",
    "player_guess = input('Enter your choice.. Options: Rock, Spock, Paper, Lizard, Scissors')\n",
    "\n",
    "rpsls(str(player_guess))\n",
    "    \n",
    "    "
   ]
  },
  {
   "cell_type": "code",
   "execution_count": null,
   "id": "cb587067",
   "metadata": {
    "hide_input": true
   },
   "outputs": [],
   "source": [
    "import os\n",
    "\n",
    "import pandas, numpy\n",
    "\n",
    "for i in range(1000):\n",
    "    print(i+1)"
   ]
  },
  {
   "cell_type": "code",
   "execution_count": null,
   "id": "4583d7d1",
   "metadata": {
    "ExecuteTime": {
     "end_time": "2023-06-07T12:56:44.465812Z",
     "start_time": "2023-06-07T12:56:25.890962Z"
    }
   },
   "outputs": [],
   "source": [
    "# Rock Paper Scissors Lizard Spock\n",
    "\n",
    "# to import random function for using random.randrange\n",
    "import random\n",
    "\n",
    "#player_guess = None\n",
    "# function to convert number to name\n",
    "def number_to_name(number):\n",
    "    if number == 0:\n",
    "        return \"Rock\"\n",
    "    elif number == 1:\n",
    "        return \"Spock\"\n",
    "    elif number == 2:\n",
    "        return \"Paper\"\n",
    "    elif number == 3:\n",
    "        return \"Lizard\"\n",
    "    elif number == 4:\n",
    "        return \"Scissors\"\n",
    "    else:\n",
    "        return \"Error\" \n",
    "\n",
    "# function to convert name to number\n",
    "def name_to_number(name):\n",
    "    if name == \"Rock\":\n",
    "        return 0\n",
    "    elif name == \"Spock\":\n",
    "        return 1\n",
    "    elif name == \"Paper\":\n",
    "        return 2\n",
    "    elif name == \"Lizard\":\n",
    "        return 3\n",
    "    elif name == \"Scissors\":\n",
    "        return 4\n",
    "    else:\n",
    "        print (name + \"is not a character in RPSLS\")\n",
    "\n",
    "\n",
    "# function which selects the winner\n",
    "def rpsls(guess): \n",
    "    \n",
    "    #global player_guess \n",
    "    #player_guess = str(input('Enter your choice.. Options: Rock, Spock, Paper, Lizard, Scissors')).capitalize()\n",
    "    # convert name to player_number using name_to_number\n",
    "    player_number = name_to_number(guess)\n",
    "    \n",
    "    # compute random guess for comp_number using random.randrange()\n",
    "    comp_number = random.randrange(0,5)\n",
    "\n",
    "    # compute difference of player_number and comp_number modulo five\n",
    "    winner = (comp_number - player_number) % 5\n",
    "    winner_ = (comp_number - player_number)\n",
    "    print(winner, winner_)\n",
    "\n",
    "    # use if/elif/else to determine winner\n",
    "    if winner < 3:\n",
    "        player_win = False\n",
    "    else:\n",
    "        player_win = True\n",
    "    \n",
    "    # convert comp_number to name using number_to_name\n",
    "    comp_name = number_to_name(comp_number)\n",
    "    \n",
    "    # print results\n",
    "    print (\"Player chooses \" + guess)\n",
    "    print (\"Computer chooses \" + comp_name)\n",
    "    if player_win:\n",
    "        print (\"Player wins!\\n\")\n",
    "    elif comp_number == player_number:\n",
    "        print (\"Player and computer tie!\\n\")\n",
    "    else:\n",
    "        print (\"Computer wins!\\n\")\n",
    "\n",
    "\n",
    "def Selchoice():\n",
    "        \n",
    "    print('Do you want to play again? Y / N')\n",
    "    choice = str(input()).capitalize()\n",
    "\n",
    "    if choice == 'Y':\n",
    "        #rpsls(player_guess)\n",
    "        play_again()\n",
    "    elif choice not in ['Y', 'N']:\n",
    "        Selchoice()\n",
    "    else:\n",
    "        print('Goodbay looser') \n",
    "            \n",
    "            \n",
    "def play():\n",
    "    \n",
    "    player_guess = str(input('Enter your choice.. Options: Rock, Spock, Paper, Lizard, Scissors')).capitalize()\n",
    "    rpsls(player_guess)    \n",
    "    Selchoice()\n",
    "    \n",
    "    \n",
    "\n",
    "    \n",
    "play()\n",
    "    \n",
    "    \n",
    "    "
   ]
  }
 ],
 "metadata": {
  "hide_input": false,
  "kernelspec": {
   "display_name": "Python 3",
   "language": "python",
   "name": "python3"
  },
  "language_info": {
   "codemirror_mode": {
    "name": "ipython",
    "version": 3
   },
   "file_extension": ".py",
   "mimetype": "text/x-python",
   "name": "python",
   "nbconvert_exporter": "python",
   "pygments_lexer": "ipython3",
   "version": "3.8.8"
  },
  "toc": {
   "base_numbering": 1,
   "nav_menu": {
    "height": "312px",
    "width": "364px"
   },
   "number_sections": true,
   "sideBar": true,
   "skip_h1_title": false,
   "title_cell": "Table of Contents",
   "title_sidebar": "Contents",
   "toc_cell": false,
   "toc_position": {
    "height": "calc(100% - 180px)",
    "left": "10px",
    "top": "150px",
    "width": "386px"
   },
   "toc_section_display": true,
   "toc_window_display": true
  },
  "varInspector": {
   "cols": {
    "lenName": 16,
    "lenType": 16,
    "lenVar": 40
   },
   "kernels_config": {
    "python": {
     "delete_cmd_postfix": "",
     "delete_cmd_prefix": "del ",
     "library": "var_list.py",
     "varRefreshCmd": "print(var_dic_list())"
    },
    "r": {
     "delete_cmd_postfix": ") ",
     "delete_cmd_prefix": "rm(",
     "library": "var_list.r",
     "varRefreshCmd": "cat(var_dic_list()) "
    }
   },
   "oldHeight": 269.85,
   "position": {
    "height": "497.85px",
    "left": "1598px",
    "right": "20px",
    "top": "121px",
    "width": "302px"
   },
   "types_to_exclude": [
    "module",
    "function",
    "builtin_function_or_method",
    "instance",
    "_Feature"
   ],
   "varInspector_section_display": "block",
   "window_display": true
  }
 },
 "nbformat": 4,
 "nbformat_minor": 5
}
