{
 "cells": [
  {
   "cell_type": "markdown",
   "id": "27b8c469",
   "metadata": {},
   "source": [
    "# Bienvenidos al curso de Análisis Espacial con Python"
   ]
  },
  {
   "cell_type": "markdown",
   "id": "e37a2804",
   "metadata": {},
   "source": [
    "Así como la cabra tira al monte van mis pies en enhiesto caminar"
   ]
  },
  {
   "cell_type": "markdown",
   "id": "f574de08",
   "metadata": {},
   "source": [
    "# Jugando con los Notebooks"
   ]
  },
  {
   "cell_type": "markdown",
   "id": "ab43eaaa",
   "metadata": {},
   "source": [
    "Vamos a aprender como movernos por las celdas y como \"operar\" con ellas"
   ]
  },
  {
   "cell_type": "markdown",
   "id": "33bf00da",
   "metadata": {},
   "source": [
    "Notad la diferencia entre el color verde y azul cuando seleccionamos una celda. La celda en verde está lista para introducir el código o el texto en ella. Mientras que cuando la celda está en azul podemos insertar nuevas celdas (\"a\" (above) o \"b\" (below)) o seleccionar varias celdas a la vez dejando presionado el shift mientras clickamos en las flechas de arriba o abajo.\n",
    "Recordad que para poner la selección en verde tan solo hay que clickar dentro del espacio para insertar el código mientras que para la selección azul hay que pinchar a la izquierda de la zona de código (\"In []\")"
   ]
  },
  {
   "cell_type": "code",
   "execution_count": 25,
   "id": "1a0d642c",
   "metadata": {
    "ExecuteTime": {
     "end_time": "2023-06-06T11:38:08.524808Z",
     "start_time": "2023-06-06T11:38:08.520349Z"
    }
   },
   "outputs": [
    {
     "name": "stdout",
     "output_type": "stream",
     "text": [
      "Hello world\n"
     ]
    }
   ],
   "source": [
    "print('Hello world')"
   ]
  },
  {
   "cell_type": "code",
   "execution_count": 26,
   "id": "6f7aa343",
   "metadata": {
    "ExecuteTime": {
     "end_time": "2023-06-06T11:38:08.890630Z",
     "start_time": "2023-06-06T11:38:08.884926Z"
    }
   },
   "outputs": [
    {
     "name": "stdout",
     "output_type": "stream",
     "text": [
      "Hello world again\n"
     ]
    }
   ],
   "source": [
    "print(\"Hello world again\")"
   ]
  },
  {
   "cell_type": "markdown",
   "id": "f86b250f",
   "metadata": {},
   "source": [
    "Arriba hemos creado y ejecutado nuestras dos primeras celdas de código. Podemos probar a imprimir aquí el Zen de python"
   ]
  },
  {
   "cell_type": "code",
   "execution_count": 27,
   "id": "bf064677",
   "metadata": {
    "ExecuteTime": {
     "end_time": "2023-06-06T11:38:14.869195Z",
     "start_time": "2023-06-06T11:38:14.863889Z"
    },
    "hide_input": false
   },
   "outputs": [
    {
     "name": "stdout",
     "output_type": "stream",
     "text": [
      "The Zen of Python, by Tim Peters\n",
      "\n",
      "Beautiful is better than ugly.\n",
      "Explicit is better than implicit.\n",
      "Simple is better than complex.\n",
      "Complex is better than complicated.\n",
      "Flat is better than nested.\n",
      "Sparse is better than dense.\n",
      "Readability counts.\n",
      "Special cases aren't special enough to break the rules.\n",
      "Although practicality beats purity.\n",
      "Errors should never pass silently.\n",
      "Unless explicitly silenced.\n",
      "In the face of ambiguity, refuse the temptation to guess.\n",
      "There should be one-- and preferably only one --obvious way to do it.\n",
      "Although that way may not be obvious at first unless you're Dutch.\n",
      "Now is better than never.\n",
      "Although never is often better than *right* now.\n",
      "If the implementation is hard to explain, it's a bad idea.\n",
      "If the implementation is easy to explain, it may be a good idea.\n",
      "Namespaces are one honking great idea -- let's do more of those!\n"
     ]
    }
   ],
   "source": [
    "import this"
   ]
  },
  {
   "cell_type": "markdown",
   "id": "e6b9c019",
   "metadata": {},
   "source": [
    "## ¿Que son los notebooks?"
   ]
  },
  {
   "cell_type": "markdown",
   "id": "daed262a",
   "metadata": {},
   "source": [
    "Los notebooks son cuadernos web intercativos para ejecutar código python basados en Javascript y CSS. \n",
    "Es posible aplicar estilos al texto como haríamos en el diseño de una página web. Por ejmplo \n",
    "<font color='red'>podemos cambiar el color del texto</font> o también la tipología a **negrita** o a *cursiva*. Por supuesto, también podemos ***combinar esto*** o ~~tachar algunas palabras~~ \n"
   ]
  },
  {
   "cell_type": "markdown",
   "id": "a6aa2794",
   "metadata": {},
   "source": [
    "A veces puede ser útil crear listas de texto:\n",
    "\n",
    "1. Primer elemento\n",
    "2. Elemento 2  \n",
    "13. Tercer elemento\n",
    "\n",
    "* Primerito elemento\n",
    "  * Anidado 1\n",
    "  * Anidado 2\n",
    "    1. Let's try something\n",
    "    1. Type one again\n",
    "  \n",
    "* Segundito elemento\n",
    "- Otra vez primero\n",
    "    - Anidado "
   ]
  },
  {
   "cell_type": "markdown",
   "id": "2118558f",
   "metadata": {},
   "source": [
    "Esta posibilidad de intercalar texto con código hace de los Notebooks un elemento muy didáctico. Pero además nos permiten la opción de incluir imágenes o vídeos tal y como lo haríamos en cualquier documento de Markdown"
   ]
  },
  {
   "cell_type": "markdown",
   "id": "613e4f4e",
   "metadata": {},
   "source": [
    "![](https://cdn.memegenerator.es/imagenes/memes/full/21/4/21049581.jpg)"
   ]
  },
  {
   "cell_type": "markdown",
   "id": "f9b6dabf",
   "metadata": {},
   "source": [
    "Inciso!! También podemos usar las celdas como calculadora ;P"
   ]
  },
  {
   "cell_type": "code",
   "execution_count": 28,
   "id": "f7c5af9b",
   "metadata": {
    "ExecuteTime": {
     "end_time": "2023-06-06T11:38:23.501127Z",
     "start_time": "2023-06-06T11:38:23.493174Z"
    }
   },
   "outputs": [
    {
     "data": {
      "text/plain": [
       "True"
      ]
     },
     "execution_count": 28,
     "metadata": {},
     "output_type": "execute_result"
    }
   ],
   "source": [
    "68/18 == (12/3 - 4/18)"
   ]
  },
  {
   "cell_type": "markdown",
   "id": "d2d0f9d9",
   "metadata": {},
   "source": [
    "Otra cosa que podemos hacer es ejecutar otros lenguajes de programación dentro de una celda utilizando las \"Magias\""
   ]
  },
  {
   "cell_type": "code",
   "execution_count": 29,
   "id": "4a1f9b7e",
   "metadata": {
    "ExecuteTime": {
     "end_time": "2023-06-06T11:38:25.456042Z",
     "start_time": "2023-06-06T11:38:25.442004Z"
    }
   },
   "outputs": [
    {
     "data": {
      "text/html": [
       "<a href='https://www.memegenerator.es/meme/21049581'><img src='https://cdn.memegenerator.es/imagenes/memes/full/21/4/21049581.jpg' alt='memegenerator.es' border='0'></a> Creado con <a target='_blank' href='https://www.memegenerator.es'>memegenerator.es</a>\n"
      ],
      "text/plain": [
       "<IPython.core.display.HTML object>"
      ]
     },
     "metadata": {},
     "output_type": "display_data"
    }
   ],
   "source": [
    "%%HTML\n",
    "<a href='https://www.memegenerator.es/meme/21049581'><img src='https://cdn.memegenerator.es/imagenes/memes/full/21/4/21049581.jpg' alt='memegenerator.es' border='0'></a> Creado con <a target='_blank' href='https://www.memegenerator.es'>memegenerator.es</a>"
   ]
  },
  {
   "cell_type": "code",
   "execution_count": 30,
   "id": "c38481cc",
   "metadata": {
    "ExecuteTime": {
     "end_time": "2023-06-06T11:38:29.350593Z",
     "start_time": "2023-06-06T11:38:29.342264Z"
    }
   },
   "outputs": [
    {
     "data": {
      "text/html": [
       "\n",
       "<iframe width=\"560\" height=\"315\" src=\"https://www.youtube.com/embed/5L8iBoL9Xhw\" title=\"YouTube video player\" frameborder=\"0\" allow=\"accelerometer; autoplay; clipboard-write; encrypted-media; gyroscope; picture-in-picture; web-share\" allowfullscreen></iframe>\n"
      ],
      "text/plain": [
       "<IPython.core.display.HTML object>"
      ]
     },
     "metadata": {},
     "output_type": "display_data"
    }
   ],
   "source": [
    "%%HTML\n",
    "\n",
    "<iframe width=\"560\" height=\"315\" src=\"https://www.youtube.com/embed/5L8iBoL9Xhw\" title=\"YouTube video player\" frameborder=\"0\" allow=\"accelerometer; autoplay; clipboard-write; encrypted-media; gyroscope; picture-in-picture; web-share\" allowfullscreen></iframe>"
   ]
  },
  {
   "cell_type": "markdown",
   "id": "7e0e4a4f",
   "metadata": {},
   "source": [
    "También podemos crear tablas. Aquí una web estupenda para generarlas y solo tener que copiar el código generado: https://www.tablesgenerator.com/markdown_tables"
   ]
  },
  {
   "cell_type": "markdown",
   "id": "24b186e9",
   "metadata": {},
   "source": [
    "| Nombre            | Apellido | Nota curso Python | Faltas de Asistencia | Email |\n",
    "|-------------------|----------|-------------------|----------------------|-------|\n",
    "| David             | Aragonés | 8                 |                      |       |\n",
    "| Gabriela Patricia | ???      | 4                 |                      |       |\n",
    "| Antonio Jesus     | López    | 7                 |                      |       |"
   ]
  },
  {
   "cell_type": "markdown",
   "id": "3c34f468",
   "metadata": {},
   "source": [
    "Insertar fragmentos de código"
   ]
  },
  {
   "cell_type": "markdown",
   "id": "58fce195",
   "metadata": {},
   "source": [
    "```python\n",
    "print('Hello world!')\n",
    "```"
   ]
  },
  {
   "cell_type": "markdown",
   "id": "a720bde9",
   "metadata": {},
   "source": [
    "```java\n",
    "\n",
    "class HelloWorld {\n",
    "    public static void main(String[] args) {\n",
    "        System.out.println(\"Hello, World!\"); \n",
    "    }\n",
    "}\n",
    "```"
   ]
  },
  {
   "cell_type": "markdown",
   "id": "0b731ed4",
   "metadata": {},
   "source": [
    "```html\n",
    "\n",
    "<!DOCTYPE HTML>\n",
    "<html>\n",
    "\n",
    "<body>\n",
    "\n",
    "  <script>\n",
    "    alert( 'Hello, world!' );\n",
    "  </script>\n",
    "\n",
    "</body>\n",
    "\n",
    "</html>\n",
    "```"
   ]
  },
  {
   "cell_type": "markdown",
   "id": "0b249727",
   "metadata": {},
   "source": [
    "LaTex "
   ]
  },
  {
   "cell_type": "markdown",
   "id": "1b248d56",
   "metadata": {
    "hide_input": false
   },
   "source": [
    "$$\n",
    "\\sin(-\\alpha)=-\\sin(\\alpha)\\\\\n",
    "\\arccos(x)=\\arcsin(u)\\\\\n",
    "\\log_n(n)=1\\\\\n",
    "\\tan(x) = \\frac{\\sin(x)}{\\cos(x)}\n",
    "$$"
   ]
  },
  {
   "cell_type": "markdown",
   "id": "8b296953",
   "metadata": {},
   "source": [
    "$$\n",
    "sign(x) = \\left\\{\n",
    "    \\begin{array}\\\\\n",
    "        1 & \\mbox{if } \\ x \\in \\mathbf{N}^* \\\\\n",
    "        0 & \\mbox{if } \\ x = 0 \\\\\n",
    "        -1 & \\mbox{else.}\n",
    "    \\end{array}\n",
    "\\right.\n",
    "$$\n",
    "\n",
    "\\\\\n",
    "\n",
    "$$\n",
    " \\left.\n",
    "    \\begin{array} \\\\\n",
    "        \\alpha^2 = \\sqrt5 \\\\\n",
    "        \\alpha \\geq 0 \n",
    "    \\end{array}\n",
    "\\right \\}=\\alpha = 5 \n",
    "$$"
   ]
  },
  {
   "cell_type": "markdown",
   "id": "6585052d",
   "metadata": {},
   "source": [
    "Simple integral:\n",
    "$$\\int_{a}^b f(x)dx$$\n",
    "\n",
    "Double integral:\n",
    "$$\\int_{a}^b\\int_{c}^d f(x,y)\\,dxdy$$\t\n",
    "\n",
    "Triple integral:\n",
    "$$\\iiint$$\t\n",
    "\n",
    "Quadruple integral:\n",
    "$$\\iiiint$$\t\n",
    "\n",
    "Multiple integral :\n",
    "$$\\idotsint$$\n",
    "\n",
    "Contour integral:\n",
    "$$\\oint$$\t"
   ]
  },
  {
   "cell_type": "markdown",
   "id": "e7043f0e",
   "metadata": {},
   "source": [
    "# Magics"
   ]
  },
  {
   "cell_type": "code",
   "execution_count": 1,
   "id": "618cd440",
   "metadata": {},
   "outputs": [
    {
     "data": {
      "application/json": {
       "cell": {
        "!": "OSMagics",
        "HTML": "Other",
        "SVG": "Other",
        "bash": "Other",
        "capture": "ExecutionMagics",
        "debug": "ExecutionMagics",
        "file": "Other",
        "html": "DisplayMagics",
        "javascript": "DisplayMagics",
        "js": "DisplayMagics",
        "latex": "DisplayMagics",
        "markdown": "DisplayMagics",
        "perl": "Other",
        "prun": "ExecutionMagics",
        "pypy": "Other",
        "python": "Other",
        "python2": "Other",
        "python3": "Other",
        "ruby": "Other",
        "script": "ScriptMagics",
        "sh": "Other",
        "svg": "DisplayMagics",
        "sx": "OSMagics",
        "system": "OSMagics",
        "time": "ExecutionMagics",
        "timeit": "ExecutionMagics",
        "writefile": "OSMagics"
       },
       "line": {
        "alias": "OSMagics",
        "alias_magic": "BasicMagics",
        "autoawait": "AsyncMagics",
        "autocall": "AutoMagics",
        "automagic": "AutoMagics",
        "autosave": "KernelMagics",
        "bookmark": "OSMagics",
        "cat": "Other",
        "cd": "OSMagics",
        "clear": "KernelMagics",
        "colors": "BasicMagics",
        "conda": "PackagingMagics",
        "config": "ConfigMagics",
        "connect_info": "KernelMagics",
        "cp": "Other",
        "debug": "ExecutionMagics",
        "dhist": "OSMagics",
        "dirs": "OSMagics",
        "doctest_mode": "BasicMagics",
        "ed": "Other",
        "edit": "KernelMagics",
        "env": "OSMagics",
        "gui": "BasicMagics",
        "hist": "Other",
        "history": "HistoryMagics",
        "killbgscripts": "ScriptMagics",
        "ldir": "Other",
        "less": "KernelMagics",
        "lf": "Other",
        "lk": "Other",
        "ll": "Other",
        "load": "CodeMagics",
        "load_ext": "ExtensionMagics",
        "loadpy": "CodeMagics",
        "logoff": "LoggingMagics",
        "logon": "LoggingMagics",
        "logstart": "LoggingMagics",
        "logstate": "LoggingMagics",
        "logstop": "LoggingMagics",
        "ls": "Other",
        "lsmagic": "BasicMagics",
        "lx": "Other",
        "macro": "ExecutionMagics",
        "magic": "BasicMagics",
        "man": "KernelMagics",
        "matplotlib": "PylabMagics",
        "mkdir": "Other",
        "more": "KernelMagics",
        "mv": "Other",
        "notebook": "BasicMagics",
        "page": "BasicMagics",
        "pastebin": "CodeMagics",
        "pdb": "ExecutionMagics",
        "pdef": "NamespaceMagics",
        "pdoc": "NamespaceMagics",
        "pfile": "NamespaceMagics",
        "pinfo": "NamespaceMagics",
        "pinfo2": "NamespaceMagics",
        "pip": "PackagingMagics",
        "popd": "OSMagics",
        "pprint": "BasicMagics",
        "precision": "BasicMagics",
        "prun": "ExecutionMagics",
        "psearch": "NamespaceMagics",
        "psource": "NamespaceMagics",
        "pushd": "OSMagics",
        "pwd": "OSMagics",
        "pycat": "OSMagics",
        "pylab": "PylabMagics",
        "qtconsole": "KernelMagics",
        "quickref": "BasicMagics",
        "recall": "HistoryMagics",
        "rehashx": "OSMagics",
        "reload_ext": "ExtensionMagics",
        "rep": "Other",
        "rerun": "HistoryMagics",
        "reset": "NamespaceMagics",
        "reset_selective": "NamespaceMagics",
        "rm": "Other",
        "rmdir": "Other",
        "run": "ExecutionMagics",
        "save": "CodeMagics",
        "sc": "OSMagics",
        "set_env": "OSMagics",
        "store": "StoreMagics",
        "sx": "OSMagics",
        "system": "OSMagics",
        "tb": "ExecutionMagics",
        "time": "ExecutionMagics",
        "timeit": "ExecutionMagics",
        "unalias": "OSMagics",
        "unload_ext": "ExtensionMagics",
        "who": "NamespaceMagics",
        "who_ls": "NamespaceMagics",
        "whos": "NamespaceMagics",
        "xdel": "NamespaceMagics",
        "xmode": "BasicMagics"
       }
      },
      "text/plain": [
       "Available line magics:\n",
       "%alias  %alias_magic  %autoawait  %autocall  %automagic  %autosave  %bookmark  %cat  %cd  %clear  %colors  %conda  %config  %connect_info  %cp  %debug  %dhist  %dirs  %doctest_mode  %ed  %edit  %env  %gui  %hist  %history  %killbgscripts  %ldir  %less  %lf  %lk  %ll  %load  %load_ext  %loadpy  %logoff  %logon  %logstart  %logstate  %logstop  %ls  %lsmagic  %lx  %macro  %magic  %man  %matplotlib  %mkdir  %more  %mv  %notebook  %page  %pastebin  %pdb  %pdef  %pdoc  %pfile  %pinfo  %pinfo2  %pip  %popd  %pprint  %precision  %prun  %psearch  %psource  %pushd  %pwd  %pycat  %pylab  %qtconsole  %quickref  %recall  %rehashx  %reload_ext  %rep  %rerun  %reset  %reset_selective  %rm  %rmdir  %run  %save  %sc  %set_env  %store  %sx  %system  %tb  %time  %timeit  %unalias  %unload_ext  %who  %who_ls  %whos  %xdel  %xmode\n",
       "\n",
       "Available cell magics:\n",
       "%%!  %%HTML  %%SVG  %%bash  %%capture  %%debug  %%file  %%html  %%javascript  %%js  %%latex  %%markdown  %%perl  %%prun  %%pypy  %%python  %%python2  %%python3  %%ruby  %%script  %%sh  %%svg  %%sx  %%system  %%time  %%timeit  %%writefile\n",
       "\n",
       "Automagic is ON, % prefix IS NOT needed for line magics."
      ]
     },
     "execution_count": 1,
     "metadata": {},
     "output_type": "execute_result"
    }
   ],
   "source": [
    "%lsmagic"
   ]
  },
  {
   "cell_type": "markdown",
   "id": "f762056d",
   "metadata": {},
   "source": [
    "Podemos consultar en que consiste cada una de ellas interrogándolas con \"?\""
   ]
  },
  {
   "cell_type": "code",
   "execution_count": 2,
   "id": "72b1744a",
   "metadata": {},
   "outputs": [],
   "source": [
    "?autosave"
   ]
  },
  {
   "cell_type": "code",
   "execution_count": 31,
   "id": "0f80df8a",
   "metadata": {
    "ExecuteTime": {
     "end_time": "2023-06-06T11:38:41.874642Z",
     "start_time": "2023-06-06T11:38:41.869366Z"
    }
   },
   "outputs": [
    {
     "data": {
      "application/javascript": [
       "IPython.notebook.set_autosave_interval(60000)"
      ]
     },
     "metadata": {},
     "output_type": "display_data"
    },
    {
     "name": "stdout",
     "output_type": "stream",
     "text": [
      "Autosaving every 60 seconds\n"
     ]
    }
   ],
   "source": [
    "autosave 60"
   ]
  },
  {
   "cell_type": "markdown",
   "id": "60c93f75",
   "metadata": {},
   "source": [
    "Tiempo de ejecución de cada celda"
   ]
  },
  {
   "cell_type": "code",
   "execution_count": 5,
   "id": "926c5371",
   "metadata": {},
   "outputs": [
    {
     "name": "stdout",
     "output_type": "stream",
     "text": [
      "44 µs ± 1.33 µs per loop (mean ± std. dev. of 7 runs, 10,000 loops each)\n"
     ]
    }
   ],
   "source": [
    "%%timeit\n",
    "\n",
    "l = []\n",
    "\n",
    "for i in range(1000):\n",
    "    l.append(i)"
   ]
  },
  {
   "cell_type": "markdown",
   "id": "652c1fef",
   "metadata": {},
   "source": [
    "Tiempo de ejecución de cada línea. Notad la diferencia entre celda y línea"
   ]
  },
  {
   "cell_type": "code",
   "execution_count": 6,
   "id": "e2e214fa",
   "metadata": {},
   "outputs": [
    {
     "name": "stdout",
     "output_type": "stream",
     "text": [
      "24.7 µs ± 921 ns per loop (mean ± std. dev. of 7 runs, 10,000 loops each)\n",
      "2.77 ms ± 40.5 µs per loop (mean ± std. dev. of 7 runs, 100 loops each)\n"
     ]
    }
   ],
   "source": [
    "%timeit  l = [i for i in range(1000)]\n",
    "%timeit  l = [i for i in range(100000)]"
   ]
  },
  {
   "cell_type": "markdown",
   "id": "4194d7bd",
   "metadata": {},
   "source": [
    "Nos puede ocurrir que queramos usar una variable ya creada en otro cuaderno. Podemos hacerlo usando la magia store"
   ]
  },
  {
   "cell_type": "code",
   "execution_count": 68,
   "id": "a722f807",
   "metadata": {
    "ExecuteTime": {
     "end_time": "2023-06-06T11:53:03.089686Z",
     "start_time": "2023-06-06T11:53:03.082593Z"
    }
   },
   "outputs": [],
   "source": [
    "l = [i for i in range(1000)] "
   ]
  },
  {
   "cell_type": "code",
   "execution_count": 33,
   "id": "d18fd920",
   "metadata": {
    "ExecuteTime": {
     "end_time": "2023-06-06T11:38:52.873345Z",
     "start_time": "2023-06-06T11:38:52.860658Z"
    },
    "scrolled": true
   },
   "outputs": [
    {
     "name": "stdout",
     "output_type": "stream",
     "text": [
      "Stored 'l' (list)\n"
     ]
    }
   ],
   "source": [
    "%store l"
   ]
  },
  {
   "cell_type": "markdown",
   "id": "32ecaa8d",
   "metadata": {},
   "source": [
    "Por supuesto podemos guardar el contenido de la celda como un script de python"
   ]
  },
  {
   "cell_type": "code",
   "execution_count": 69,
   "id": "b472e4ba",
   "metadata": {
    "ExecuteTime": {
     "end_time": "2023-06-06T11:53:43.265233Z",
     "start_time": "2023-06-06T11:53:43.256237Z"
    }
   },
   "outputs": [
    {
     "name": "stdout",
     "output_type": "stream",
     "text": [
      "Overwriting lpatata.py\n"
     ]
    }
   ],
   "source": [
    "%%writefile lpatata.py\n",
    "\n",
    "l = []\n",
    "\n",
    "for i in range(100000):\n",
    "    \n",
    "    if i%2==0:\n",
    "        \n",
    "        l.append(i)\n",
    "        \n",
    "    else:\n",
    "        \n",
    "        l.append('patata')"
   ]
  },
  {
   "cell_type": "code",
   "execution_count": 10,
   "id": "3bda29a7",
   "metadata": {},
   "outputs": [
    {
     "name": "stdout",
     "output_type": "stream",
     "text": [
      "'Día 1.ipynb'   lpatata.py   Untitled.ipynb\r\n"
     ]
    }
   ],
   "source": [
    "!ls"
   ]
  },
  {
   "cell_type": "markdown",
   "id": "20f514ff",
   "metadata": {},
   "source": [
    "A la inversa, podemos abrir un script de python para ver o copiar su contenido"
   ]
  },
  {
   "cell_type": "code",
   "execution_count": 11,
   "id": "bf5f47ea",
   "metadata": {},
   "outputs": [],
   "source": [
    "%pycat lpatata.py"
   ]
  },
  {
   "cell_type": "markdown",
   "id": "9c75c428",
   "metadata": {},
   "source": [
    "# Widgets"
   ]
  },
  {
   "cell_type": "markdown",
   "id": "fef01b6e",
   "metadata": {},
   "source": [
    "Los Widgets no son ni más ni menos, que elementos que añaden utilidades de GUI a nuestro Notebook"
   ]
  },
  {
   "cell_type": "code",
   "execution_count": 12,
   "id": "d82f16da",
   "metadata": {},
   "outputs": [
    {
     "name": "stdout",
     "output_type": "stream",
     "text": [
      "Collecting package metadata (current_repodata.json): done\n",
      "Solving environment: done\n",
      "\n",
      "\n",
      "==> WARNING: A newer version of conda exists. <==\n",
      "  current version: 23.3.1\n",
      "  latest version: 23.5.0\n",
      "\n",
      "Please update conda by running\n",
      "\n",
      "    $ conda update -n base -c defaults conda\n",
      "\n",
      "Or to minimize the number of packages updated during conda update use\n",
      "\n",
      "     conda install conda=23.5.0\n",
      "\n",
      "\n",
      "\n",
      "# All requested packages already installed.\n",
      "\n"
     ]
    }
   ],
   "source": [
    "#Via Conda\n",
    "!conda install -c conda-forge ipywidgets"
   ]
  },
  {
   "cell_type": "code",
   "execution_count": 13,
   "id": "5d5f289c",
   "metadata": {},
   "outputs": [
    {
     "name": "stdout",
     "output_type": "stream",
     "text": [
      "Requirement already satisfied: ipywidgets in /home/diego/miniconda3/envs/gis/lib/python3.9/site-packages (8.0.4)\n",
      "Requirement already satisfied: traitlets>=4.3.1 in /home/diego/miniconda3/envs/gis/lib/python3.9/site-packages (from ipywidgets) (5.7.1)\n",
      "Requirement already satisfied: ipython>=6.1.0 in /home/diego/miniconda3/envs/gis/lib/python3.9/site-packages (from ipywidgets) (8.12.0)\n",
      "Requirement already satisfied: ipykernel>=4.5.1 in /home/diego/miniconda3/envs/gis/lib/python3.9/site-packages (from ipywidgets) (6.19.2)\n",
      "Requirement already satisfied: jupyterlab-widgets~=3.0 in /home/diego/miniconda3/envs/gis/lib/python3.9/site-packages (from ipywidgets) (3.0.5)\n",
      "Requirement already satisfied: widgetsnbextension~=4.0 in /home/diego/miniconda3/envs/gis/lib/python3.9/site-packages (from ipywidgets) (4.0.5)\n",
      "Requirement already satisfied: debugpy>=1.0 in /home/diego/miniconda3/envs/gis/lib/python3.9/site-packages (from ipykernel>=4.5.1->ipywidgets) (1.5.1)\n",
      "Requirement already satisfied: tornado>=6.1 in /home/diego/miniconda3/envs/gis/lib/python3.9/site-packages (from ipykernel>=4.5.1->ipywidgets) (6.2)\n",
      "Requirement already satisfied: psutil in /home/diego/miniconda3/envs/gis/lib/python3.9/site-packages (from ipykernel>=4.5.1->ipywidgets) (5.9.0)\n",
      "Requirement already satisfied: comm>=0.1.1 in /home/diego/miniconda3/envs/gis/lib/python3.9/site-packages (from ipykernel>=4.5.1->ipywidgets) (0.1.2)\n",
      "Requirement already satisfied: packaging in /home/diego/miniconda3/envs/gis/lib/python3.9/site-packages (from ipykernel>=4.5.1->ipywidgets) (23.0)\n",
      "Requirement already satisfied: nest-asyncio in /home/diego/miniconda3/envs/gis/lib/python3.9/site-packages (from ipykernel>=4.5.1->ipywidgets) (1.5.6)\n",
      "Requirement already satisfied: matplotlib-inline>=0.1 in /home/diego/miniconda3/envs/gis/lib/python3.9/site-packages (from ipykernel>=4.5.1->ipywidgets) (0.1.6)\n",
      "Requirement already satisfied: pyzmq>=17 in /home/diego/miniconda3/envs/gis/lib/python3.9/site-packages (from ipykernel>=4.5.1->ipywidgets) (25.0.2)\n",
      "Requirement already satisfied: jupyter-client>=6.1.12 in /home/diego/miniconda3/envs/gis/lib/python3.9/site-packages (from ipykernel>=4.5.1->ipywidgets) (6.1.12)\n",
      "Requirement already satisfied: stack-data in /home/diego/miniconda3/envs/gis/lib/python3.9/site-packages (from ipython>=6.1.0->ipywidgets) (0.2.0)\n",
      "Requirement already satisfied: backcall in /home/diego/miniconda3/envs/gis/lib/python3.9/site-packages (from ipython>=6.1.0->ipywidgets) (0.2.0)\n",
      "Requirement already satisfied: pexpect>4.3 in /home/diego/miniconda3/envs/gis/lib/python3.9/site-packages (from ipython>=6.1.0->ipywidgets) (4.8.0)\n",
      "Requirement already satisfied: prompt-toolkit!=3.0.37,<3.1.0,>=3.0.30 in /home/diego/miniconda3/envs/gis/lib/python3.9/site-packages (from ipython>=6.1.0->ipywidgets) (3.0.36)\n",
      "Requirement already satisfied: jedi>=0.16 in /home/diego/miniconda3/envs/gis/lib/python3.9/site-packages (from ipython>=6.1.0->ipywidgets) (0.18.1)\n",
      "Requirement already satisfied: pygments>=2.4.0 in /home/diego/miniconda3/envs/gis/lib/python3.9/site-packages (from ipython>=6.1.0->ipywidgets) (2.15.1)\n",
      "Requirement already satisfied: decorator in /home/diego/miniconda3/envs/gis/lib/python3.9/site-packages (from ipython>=6.1.0->ipywidgets) (5.1.1)\n",
      "Requirement already satisfied: typing-extensions in /home/diego/miniconda3/envs/gis/lib/python3.9/site-packages (from ipython>=6.1.0->ipywidgets) (4.5.0)\n",
      "Requirement already satisfied: pickleshare in /home/diego/miniconda3/envs/gis/lib/python3.9/site-packages (from ipython>=6.1.0->ipywidgets) (0.7.5)\n",
      "Requirement already satisfied: parso<0.9.0,>=0.8.0 in /home/diego/miniconda3/envs/gis/lib/python3.9/site-packages (from jedi>=0.16->ipython>=6.1.0->ipywidgets) (0.8.3)\n",
      "Requirement already satisfied: jupyter-core>=4.6.0 in /home/diego/miniconda3/envs/gis/lib/python3.9/site-packages (from jupyter-client>=6.1.12->ipykernel>=4.5.1->ipywidgets) (5.3.0)\n",
      "Requirement already satisfied: python-dateutil>=2.1 in /home/diego/miniconda3/envs/gis/lib/python3.9/site-packages (from jupyter-client>=6.1.12->ipykernel>=4.5.1->ipywidgets) (2.8.2)\n",
      "Requirement already satisfied: ptyprocess>=0.5 in /home/diego/miniconda3/envs/gis/lib/python3.9/site-packages (from pexpect>4.3->ipython>=6.1.0->ipywidgets) (0.7.0)\n",
      "Requirement already satisfied: wcwidth in /home/diego/miniconda3/envs/gis/lib/python3.9/site-packages (from prompt-toolkit!=3.0.37,<3.1.0,>=3.0.30->ipython>=6.1.0->ipywidgets) (0.2.5)\n",
      "Requirement already satisfied: pure-eval in /home/diego/miniconda3/envs/gis/lib/python3.9/site-packages (from stack-data->ipython>=6.1.0->ipywidgets) (0.2.2)\n",
      "Requirement already satisfied: asttokens in /home/diego/miniconda3/envs/gis/lib/python3.9/site-packages (from stack-data->ipython>=6.1.0->ipywidgets) (2.0.5)\n",
      "Requirement already satisfied: executing in /home/diego/miniconda3/envs/gis/lib/python3.9/site-packages (from stack-data->ipython>=6.1.0->ipywidgets) (0.8.3)\n",
      "Requirement already satisfied: platformdirs>=2.5 in /home/diego/miniconda3/envs/gis/lib/python3.9/site-packages (from jupyter-core>=4.6.0->jupyter-client>=6.1.12->ipykernel>=4.5.1->ipywidgets) (2.5.2)\n",
      "Requirement already satisfied: six>=1.5 in /home/diego/miniconda3/envs/gis/lib/python3.9/site-packages (from python-dateutil>=2.1->jupyter-client>=6.1.12->ipykernel>=4.5.1->ipywidgets) (1.16.0)\n",
      "Enabling notebook extension jupyter-js-widgets/extension...\n",
      "      - Validating: \u001b[32mOK\u001b[0m\n"
     ]
    }
   ],
   "source": [
    "#Via Pip\n",
    "!pip install ipywidgets\n",
    "!jupyter nbextension enable --py widgetsnbextension"
   ]
  },
  {
   "cell_type": "code",
   "execution_count": 35,
   "id": "c3715614",
   "metadata": {
    "ExecuteTime": {
     "end_time": "2023-06-06T11:39:21.391691Z",
     "start_time": "2023-06-06T11:39:21.387205Z"
    }
   },
   "outputs": [],
   "source": [
    "import ipywidgets as widgets"
   ]
  },
  {
   "cell_type": "code",
   "execution_count": 36,
   "id": "e58e7169",
   "metadata": {
    "ExecuteTime": {
     "end_time": "2023-06-06T11:39:21.763229Z",
     "start_time": "2023-06-06T11:39:21.754196Z"
    }
   },
   "outputs": [],
   "source": [
    "year = widgets.IntSlider(\n",
    "    min=2000,\n",
    "    max=2023,\n",
    "    step=1,\n",
    "    description='Slider:',\n",
    "    value=2012\n",
    ")"
   ]
  },
  {
   "cell_type": "code",
   "execution_count": 37,
   "id": "583bc977",
   "metadata": {
    "ExecuteTime": {
     "end_time": "2023-06-06T11:39:26.028262Z",
     "start_time": "2023-06-06T11:39:26.017944Z"
    },
    "scrolled": true
   },
   "outputs": [
    {
     "data": {
      "application/vnd.jupyter.widget-view+json": {
       "model_id": "b129d20ccc0e4197b09a3a92840566fa",
       "version_major": 2,
       "version_minor": 0
      },
      "text/plain": [
       "IntSlider(value=2012, description='Slider:', max=2023, min=2000)"
      ]
     },
     "execution_count": 37,
     "metadata": {},
     "output_type": "execute_result"
    }
   ],
   "source": [
    "year"
   ]
  },
  {
   "cell_type": "code",
   "execution_count": 38,
   "id": "61fc0a2d",
   "metadata": {
    "ExecuteTime": {
     "end_time": "2023-06-06T11:39:26.455207Z",
     "start_time": "2023-06-06T11:39:26.448116Z"
    }
   },
   "outputs": [
    {
     "name": "stdout",
     "output_type": "stream",
     "text": [
      "Viejuno\n"
     ]
    }
   ],
   "source": [
    "if year.value < 2020:\n",
    "    print('Viejuno')"
   ]
  },
  {
   "cell_type": "code",
   "execution_count": 22,
   "id": "094ace42",
   "metadata": {},
   "outputs": [
    {
     "name": "stdout",
     "output_type": "stream",
     "text": [
      "['Accordion', 'AppLayout', 'Audio', 'BoundedFloatText', 'BoundedIntText', 'Box', 'Button', 'ButtonStyle', 'CallbackDispatcher', 'Checkbox', 'Color', 'ColorPicker', 'ColorsInput', 'Combobox', 'Controller', 'CoreWidget', 'DOMWidget', 'DatePicker', 'Datetime', 'DatetimePicker', 'Dropdown', 'FileUpload', 'FloatLogSlider', 'FloatProgress', 'FloatRangeSlider', 'FloatSlider', 'FloatText', 'FloatsInput', 'GridBox', 'GridspecLayout', 'HBox', 'HTML', 'HTMLMath', 'Image', 'IntProgress', 'IntRangeSlider', 'IntSlider', 'IntText', 'IntsInput', 'Label', 'Layout', 'NaiveDatetimePicker', 'NumberFormat', 'Output', 'Password', 'Play', 'RadioButtons', 'Select', 'SelectMultiple', 'SelectionRangeSlider', 'SelectionSlider', 'SliderStyle', 'Stack', 'Style', 'Tab', 'TagsInput', 'Text', 'Textarea', 'TimePicker', 'ToggleButton', 'ToggleButtons', 'ToggleButtonsStyle', 'TwoByTwoLayout', 'TypedTuple', 'VBox', 'Valid', 'ValueWidget', 'Video', 'Widget', '__builtins__', '__cached__', '__doc__', '__file__', '__jupyter_widgets_base_version__', '__jupyter_widgets_controls_version__', '__loader__', '__name__', '__package__', '__path__', '__protocol_version__', '__spec__', '__version__', '_handle_ipython', '_version', 'dlink', 'docutils', 'domwidget', 'fixed', 'get_ipython', 'interact', 'interact_manual', 'interaction', 'interactive', 'interactive_output', 'jsdlink', 'jslink', 'link', 'load_ipython_extension', 'os', 'register', 'register_comm_target', 'trait_types', 'utils', 'valuewidget', 'widget', 'widget_bool', 'widget_box', 'widget_button', 'widget_color', 'widget_controller', 'widget_core', 'widget_date', 'widget_datetime', 'widget_description', 'widget_float', 'widget_int', 'widget_layout', 'widget_link', 'widget_media', 'widget_output', 'widget_selection', 'widget_selectioncontainer', 'widget_serialization', 'widget_string', 'widget_style', 'widget_tagsinput', 'widget_templates', 'widget_time', 'widget_upload', 'widgets']\n"
     ]
    }
   ],
   "source": [
    "print(dir(widgets))"
   ]
  },
  {
   "cell_type": "code",
   "execution_count": 39,
   "id": "44e8eaea",
   "metadata": {
    "ExecuteTime": {
     "end_time": "2023-06-06T11:39:32.837687Z",
     "start_time": "2023-06-06T11:39:32.822293Z"
    }
   },
   "outputs": [
    {
     "data": {
      "application/vnd.jupyter.widget-view+json": {
       "model_id": "d2d55cf2cf214f27b0908a66772fdcd7",
       "version_major": 2,
       "version_minor": 0
      },
      "text/plain": [
       "Button(description='Saludo', style=ButtonStyle())"
      ]
     },
     "metadata": {},
     "output_type": "display_data"
    }
   ],
   "source": [
    "#from IPython.display import display\n",
    "\n",
    "btn = widgets.Button(description='Saludo')\n",
    "display(btn)\n",
    "count = 0\n",
    "def btn_eventhandler(obj):\n",
    "    global count\n",
    "    count+=1\n",
    "    print('Hello World {} from the {} button!'.format(count, obj.description))\n",
    "btn.on_click(btn_eventhandler)"
   ]
  },
  {
   "cell_type": "code",
   "execution_count": 41,
   "id": "121220c1",
   "metadata": {
    "ExecuteTime": {
     "end_time": "2023-06-06T11:39:46.862692Z",
     "start_time": "2023-06-06T11:39:46.843599Z"
    }
   },
   "outputs": [
    {
     "data": {
      "application/vnd.jupyter.widget-view+json": {
       "model_id": "70b296541b384443a716e562549bb9fa",
       "version_major": 2,
       "version_minor": 0
      },
      "text/plain": [
       "Dropdown(description='Sat:', index=1, options=('S1', 'S2', 'S3'), value='S2')"
      ]
     },
     "execution_count": 41,
     "metadata": {},
     "output_type": "execute_result"
    }
   ],
   "source": [
    "widgets.Dropdown(\n",
    "    options=['S1', 'S2', 'S3'],\n",
    "    value='S2',\n",
    "    description='Sat:',\n",
    "    disabled=False,\n",
    ")"
   ]
  },
  {
   "cell_type": "markdown",
   "id": "8b2c77d5",
   "metadata": {},
   "source": [
    "TODO está en internet:   \n",
    "    \n",
    "    https://ipywidgets.readthedocs.io/en/stable/examples/Widget%20List.html"
   ]
  },
  {
   "cell_type": "markdown",
   "id": "d08d5e7e",
   "metadata": {},
   "source": [
    "# Extensions & Themes"
   ]
  },
  {
   "cell_type": "code",
   "execution_count": null,
   "id": "e62942e5",
   "metadata": {},
   "outputs": [],
   "source": [
    "conda install -c conda-forge jupyter_contrib_nbextensions"
   ]
  },
  {
   "cell_type": "code",
   "execution_count": 47,
   "id": "f5701009",
   "metadata": {
    "ExecuteTime": {
     "end_time": "2023-06-06T11:48:46.832579Z",
     "start_time": "2023-06-06T11:48:45.223638Z"
    },
    "collapsed": true
   },
   "outputs": [
    {
     "name": "stdout",
     "output_type": "stream",
     "text": [
      "Requirement already satisfied: jupyterthemes in /home/diego/miniconda3/envs/gis/lib/python3.9/site-packages (0.20.0)\n",
      "Requirement already satisfied: jupyter-core in /home/diego/miniconda3/envs/gis/lib/python3.9/site-packages (from jupyterthemes) (5.3.0)\n",
      "Requirement already satisfied: ipython>=5.4.1 in /home/diego/miniconda3/envs/gis/lib/python3.9/site-packages (from jupyterthemes) (8.12.0)\n",
      "Requirement already satisfied: lesscpy>=0.11.2 in /home/diego/miniconda3/envs/gis/lib/python3.9/site-packages (from jupyterthemes) (0.15.1)\n",
      "Requirement already satisfied: matplotlib>=1.4.3 in /home/diego/miniconda3/envs/gis/lib/python3.9/site-packages (from jupyterthemes) (3.7.1)\n",
      "Requirement already satisfied: notebook>=5.6.0 in /home/diego/miniconda3/envs/gis/lib/python3.9/site-packages (from jupyterthemes) (6.5.4)\n",
      "Requirement already satisfied: backcall in /home/diego/miniconda3/envs/gis/lib/python3.9/site-packages (from ipython>=5.4.1->jupyterthemes) (0.2.0)\n",
      "Requirement already satisfied: decorator in /home/diego/miniconda3/envs/gis/lib/python3.9/site-packages (from ipython>=5.4.1->jupyterthemes) (5.1.1)\n",
      "Requirement already satisfied: jedi>=0.16 in /home/diego/miniconda3/envs/gis/lib/python3.9/site-packages (from ipython>=5.4.1->jupyterthemes) (0.18.1)\n",
      "Requirement already satisfied: pickleshare in /home/diego/miniconda3/envs/gis/lib/python3.9/site-packages (from ipython>=5.4.1->jupyterthemes) (0.7.5)\n",
      "Requirement already satisfied: prompt-toolkit!=3.0.37,<3.1.0,>=3.0.30 in /home/diego/miniconda3/envs/gis/lib/python3.9/site-packages (from ipython>=5.4.1->jupyterthemes) (3.0.36)\n",
      "Requirement already satisfied: traitlets>=5 in /home/diego/miniconda3/envs/gis/lib/python3.9/site-packages (from ipython>=5.4.1->jupyterthemes) (5.7.1)\n",
      "Requirement already satisfied: matplotlib-inline in /home/diego/miniconda3/envs/gis/lib/python3.9/site-packages (from ipython>=5.4.1->jupyterthemes) (0.1.6)\n",
      "Requirement already satisfied: pexpect>4.3 in /home/diego/miniconda3/envs/gis/lib/python3.9/site-packages (from ipython>=5.4.1->jupyterthemes) (4.8.0)\n",
      "Requirement already satisfied: typing-extensions in /home/diego/miniconda3/envs/gis/lib/python3.9/site-packages (from ipython>=5.4.1->jupyterthemes) (4.5.0)\n",
      "Requirement already satisfied: stack-data in /home/diego/miniconda3/envs/gis/lib/python3.9/site-packages (from ipython>=5.4.1->jupyterthemes) (0.2.0)\n",
      "Requirement already satisfied: pygments>=2.4.0 in /home/diego/miniconda3/envs/gis/lib/python3.9/site-packages (from ipython>=5.4.1->jupyterthemes) (2.15.1)\n",
      "Requirement already satisfied: ply in /home/diego/miniconda3/envs/gis/lib/python3.9/site-packages (from lesscpy>=0.11.2->jupyterthemes) (3.11)\n",
      "Requirement already satisfied: packaging>=20.0 in /home/diego/miniconda3/envs/gis/lib/python3.9/site-packages (from matplotlib>=1.4.3->jupyterthemes) (23.0)\n",
      "Requirement already satisfied: pillow>=6.2.0 in /home/diego/miniconda3/envs/gis/lib/python3.9/site-packages (from matplotlib>=1.4.3->jupyterthemes) (9.4.0)\n",
      "Requirement already satisfied: python-dateutil>=2.7 in /home/diego/miniconda3/envs/gis/lib/python3.9/site-packages (from matplotlib>=1.4.3->jupyterthemes) (2.8.2)\n",
      "Requirement already satisfied: cycler>=0.10 in /home/diego/miniconda3/envs/gis/lib/python3.9/site-packages (from matplotlib>=1.4.3->jupyterthemes) (0.11.0)\n",
      "Requirement already satisfied: fonttools>=4.22.0 in /home/diego/miniconda3/envs/gis/lib/python3.9/site-packages (from matplotlib>=1.4.3->jupyterthemes) (4.25.0)\n",
      "Requirement already satisfied: numpy>=1.20 in /home/diego/miniconda3/envs/gis/lib/python3.9/site-packages (from matplotlib>=1.4.3->jupyterthemes) (1.24.3)\n",
      "Requirement already satisfied: contourpy>=1.0.1 in /home/diego/miniconda3/envs/gis/lib/python3.9/site-packages (from matplotlib>=1.4.3->jupyterthemes) (1.0.5)\n",
      "Requirement already satisfied: kiwisolver>=1.0.1 in /home/diego/miniconda3/envs/gis/lib/python3.9/site-packages (from matplotlib>=1.4.3->jupyterthemes) (1.4.4)\n",
      "Requirement already satisfied: importlib-resources>=3.2.0 in /home/diego/miniconda3/envs/gis/lib/python3.9/site-packages (from matplotlib>=1.4.3->jupyterthemes) (5.2.0)\n",
      "Requirement already satisfied: pyparsing>=2.3.1 in /home/diego/miniconda3/envs/gis/lib/python3.9/site-packages (from matplotlib>=1.4.3->jupyterthemes) (3.0.9)\n",
      "Requirement already satisfied: prometheus-client in /home/diego/miniconda3/envs/gis/lib/python3.9/site-packages (from notebook>=5.6.0->jupyterthemes) (0.14.1)\n",
      "Requirement already satisfied: nbclassic>=0.4.7 in /home/diego/miniconda3/envs/gis/lib/python3.9/site-packages (from notebook>=5.6.0->jupyterthemes) (0.5.5)\n",
      "Requirement already satisfied: argon2-cffi in /home/diego/miniconda3/envs/gis/lib/python3.9/site-packages (from notebook>=5.6.0->jupyterthemes) (21.3.0)\n",
      "Requirement already satisfied: Send2Trash>=1.8.0 in /home/diego/miniconda3/envs/gis/lib/python3.9/site-packages (from notebook>=5.6.0->jupyterthemes) (1.8.0)\n",
      "Requirement already satisfied: nest-asyncio>=1.5 in /home/diego/miniconda3/envs/gis/lib/python3.9/site-packages (from notebook>=5.6.0->jupyterthemes) (1.5.6)\n",
      "Requirement already satisfied: pyzmq>=17 in /home/diego/miniconda3/envs/gis/lib/python3.9/site-packages (from notebook>=5.6.0->jupyterthemes) (25.0.2)\n",
      "Requirement already satisfied: nbformat in /home/diego/miniconda3/envs/gis/lib/python3.9/site-packages (from notebook>=5.6.0->jupyterthemes) (5.7.0)\n",
      "Requirement already satisfied: terminado>=0.8.3 in /home/diego/miniconda3/envs/gis/lib/python3.9/site-packages (from notebook>=5.6.0->jupyterthemes) (0.17.1)\n",
      "Requirement already satisfied: jinja2 in /home/diego/miniconda3/envs/gis/lib/python3.9/site-packages (from notebook>=5.6.0->jupyterthemes) (3.1.2)\n",
      "Requirement already satisfied: nbconvert>=5 in /home/diego/miniconda3/envs/gis/lib/python3.9/site-packages (from notebook>=5.6.0->jupyterthemes) (6.5.4)\n",
      "Requirement already satisfied: tornado>=6.1 in /home/diego/miniconda3/envs/gis/lib/python3.9/site-packages (from notebook>=5.6.0->jupyterthemes) (6.2)\n",
      "Requirement already satisfied: ipython-genutils in /home/diego/miniconda3/envs/gis/lib/python3.9/site-packages (from notebook>=5.6.0->jupyterthemes) (0.2.0)\n",
      "Requirement already satisfied: jupyter-client>=5.3.4 in /home/diego/miniconda3/envs/gis/lib/python3.9/site-packages (from notebook>=5.6.0->jupyterthemes) (6.1.12)\n",
      "Requirement already satisfied: ipykernel in /home/diego/miniconda3/envs/gis/lib/python3.9/site-packages (from notebook>=5.6.0->jupyterthemes) (6.19.2)\n",
      "Requirement already satisfied: platformdirs>=2.5 in /home/diego/miniconda3/envs/gis/lib/python3.9/site-packages (from jupyter-core->jupyterthemes) (2.5.2)\n",
      "Requirement already satisfied: zipp>=3.1.0 in /home/diego/miniconda3/envs/gis/lib/python3.9/site-packages (from importlib-resources>=3.2.0->matplotlib>=1.4.3->jupyterthemes) (3.11.0)\n",
      "Requirement already satisfied: parso<0.9.0,>=0.8.0 in /home/diego/miniconda3/envs/gis/lib/python3.9/site-packages (from jedi>=0.16->ipython>=5.4.1->jupyterthemes) (0.8.3)\n",
      "Requirement already satisfied: jupyter-server>=1.8 in /home/diego/miniconda3/envs/gis/lib/python3.9/site-packages (from nbclassic>=0.4.7->notebook>=5.6.0->jupyterthemes) (1.23.4)\n",
      "Requirement already satisfied: notebook-shim>=0.1.0 in /home/diego/miniconda3/envs/gis/lib/python3.9/site-packages (from nbclassic>=0.4.7->notebook>=5.6.0->jupyterthemes) (0.2.2)\n",
      "Requirement already satisfied: beautifulsoup4 in /home/diego/miniconda3/envs/gis/lib/python3.9/site-packages (from nbconvert>=5->notebook>=5.6.0->jupyterthemes) (4.12.2)\n",
      "Requirement already satisfied: tinycss2 in /home/diego/miniconda3/envs/gis/lib/python3.9/site-packages (from nbconvert>=5->notebook>=5.6.0->jupyterthemes) (1.2.1)\n",
      "Requirement already satisfied: mistune<2,>=0.8.1 in /home/diego/miniconda3/envs/gis/lib/python3.9/site-packages (from nbconvert>=5->notebook>=5.6.0->jupyterthemes) (0.8.4)\n",
      "Requirement already satisfied: defusedxml in /home/diego/miniconda3/envs/gis/lib/python3.9/site-packages (from nbconvert>=5->notebook>=5.6.0->jupyterthemes) (0.7.1)\n",
      "Requirement already satisfied: nbclient>=0.5.0 in /home/diego/miniconda3/envs/gis/lib/python3.9/site-packages (from nbconvert>=5->notebook>=5.6.0->jupyterthemes) (0.5.13)\n",
      "Requirement already satisfied: jupyterlab-pygments in /home/diego/miniconda3/envs/gis/lib/python3.9/site-packages (from nbconvert>=5->notebook>=5.6.0->jupyterthemes) (0.1.2)\n",
      "Requirement already satisfied: bleach in /home/diego/miniconda3/envs/gis/lib/python3.9/site-packages (from nbconvert>=5->notebook>=5.6.0->jupyterthemes) (4.1.0)\n",
      "Requirement already satisfied: MarkupSafe>=2.0 in /home/diego/miniconda3/envs/gis/lib/python3.9/site-packages (from nbconvert>=5->notebook>=5.6.0->jupyterthemes) (2.1.1)\n",
      "Requirement already satisfied: entrypoints>=0.2.2 in /home/diego/miniconda3/envs/gis/lib/python3.9/site-packages (from nbconvert>=5->notebook>=5.6.0->jupyterthemes) (0.4)\n",
      "Requirement already satisfied: pandocfilters>=1.4.1 in /home/diego/miniconda3/envs/gis/lib/python3.9/site-packages (from nbconvert>=5->notebook>=5.6.0->jupyterthemes) (1.5.0)\n",
      "Requirement already satisfied: lxml in /home/diego/miniconda3/envs/gis/lib/python3.9/site-packages (from nbconvert>=5->notebook>=5.6.0->jupyterthemes) (4.9.2)\n",
      "Requirement already satisfied: fastjsonschema in /home/diego/miniconda3/envs/gis/lib/python3.9/site-packages (from nbformat->notebook>=5.6.0->jupyterthemes) (2.16.2)\n",
      "Requirement already satisfied: jsonschema>=2.6 in /home/diego/miniconda3/envs/gis/lib/python3.9/site-packages (from nbformat->notebook>=5.6.0->jupyterthemes) (4.17.3)\n",
      "Requirement already satisfied: ptyprocess>=0.5 in /home/diego/miniconda3/envs/gis/lib/python3.9/site-packages (from pexpect>4.3->ipython>=5.4.1->jupyterthemes) (0.7.0)\n",
      "Requirement already satisfied: wcwidth in /home/diego/miniconda3/envs/gis/lib/python3.9/site-packages (from prompt-toolkit!=3.0.37,<3.1.0,>=3.0.30->ipython>=5.4.1->jupyterthemes) (0.2.5)\n",
      "Requirement already satisfied: six>=1.5 in /home/diego/miniconda3/envs/gis/lib/python3.9/site-packages (from python-dateutil>=2.7->matplotlib>=1.4.3->jupyterthemes) (1.16.0)\n",
      "Requirement already satisfied: argon2-cffi-bindings in /home/diego/miniconda3/envs/gis/lib/python3.9/site-packages (from argon2-cffi->notebook>=5.6.0->jupyterthemes) (21.2.0)\n",
      "Requirement already satisfied: debugpy>=1.0 in /home/diego/miniconda3/envs/gis/lib/python3.9/site-packages (from ipykernel->notebook>=5.6.0->jupyterthemes) (1.5.1)\n",
      "Requirement already satisfied: comm>=0.1.1 in /home/diego/miniconda3/envs/gis/lib/python3.9/site-packages (from ipykernel->notebook>=5.6.0->jupyterthemes) (0.1.2)\n",
      "Requirement already satisfied: psutil in /home/diego/miniconda3/envs/gis/lib/python3.9/site-packages (from ipykernel->notebook>=5.6.0->jupyterthemes) (5.9.0)\n",
      "Requirement already satisfied: pure-eval in /home/diego/miniconda3/envs/gis/lib/python3.9/site-packages (from stack-data->ipython>=5.4.1->jupyterthemes) (0.2.2)\n",
      "Requirement already satisfied: executing in /home/diego/miniconda3/envs/gis/lib/python3.9/site-packages (from stack-data->ipython>=5.4.1->jupyterthemes) (0.8.3)\n",
      "Requirement already satisfied: asttokens in /home/diego/miniconda3/envs/gis/lib/python3.9/site-packages (from stack-data->ipython>=5.4.1->jupyterthemes) (2.0.5)\n",
      "Requirement already satisfied: pyrsistent!=0.17.0,!=0.17.1,!=0.17.2,>=0.14.0 in /home/diego/miniconda3/envs/gis/lib/python3.9/site-packages (from jsonschema>=2.6->nbformat->notebook>=5.6.0->jupyterthemes) (0.18.0)\n",
      "Requirement already satisfied: attrs>=17.4.0 in /home/diego/miniconda3/envs/gis/lib/python3.9/site-packages (from jsonschema>=2.6->nbformat->notebook>=5.6.0->jupyterthemes) (22.1.0)\n",
      "Requirement already satisfied: anyio<4,>=3.1.0 in /home/diego/miniconda3/envs/gis/lib/python3.9/site-packages (from jupyter-server>=1.8->nbclassic>=0.4.7->notebook>=5.6.0->jupyterthemes) (3.5.0)\n",
      "Requirement already satisfied: websocket-client in /home/diego/miniconda3/envs/gis/lib/python3.9/site-packages (from jupyter-server>=1.8->nbclassic>=0.4.7->notebook>=5.6.0->jupyterthemes) (0.58.0)\n",
      "Requirement already satisfied: cffi>=1.0.1 in /home/diego/miniconda3/envs/gis/lib/python3.9/site-packages (from argon2-cffi-bindings->argon2-cffi->notebook>=5.6.0->jupyterthemes) (1.15.1)\n",
      "Requirement already satisfied: soupsieve>1.2 in /home/diego/miniconda3/envs/gis/lib/python3.9/site-packages (from beautifulsoup4->nbconvert>=5->notebook>=5.6.0->jupyterthemes) (2.4)\n",
      "Requirement already satisfied: webencodings in /home/diego/miniconda3/envs/gis/lib/python3.9/site-packages (from bleach->nbconvert>=5->notebook>=5.6.0->jupyterthemes) (0.5.1)\n",
      "Requirement already satisfied: idna>=2.8 in /home/diego/miniconda3/envs/gis/lib/python3.9/site-packages (from anyio<4,>=3.1.0->jupyter-server>=1.8->nbclassic>=0.4.7->notebook>=5.6.0->jupyterthemes) (3.4)\n",
      "Requirement already satisfied: sniffio>=1.1 in /home/diego/miniconda3/envs/gis/lib/python3.9/site-packages (from anyio<4,>=3.1.0->jupyter-server>=1.8->nbclassic>=0.4.7->notebook>=5.6.0->jupyterthemes) (1.2.0)\n",
      "Requirement already satisfied: pycparser in /home/diego/miniconda3/envs/gis/lib/python3.9/site-packages (from cffi>=1.0.1->argon2-cffi-bindings->argon2-cffi->notebook>=5.6.0->jupyterthemes) (2.21)\n",
      "Note: you may need to restart the kernel to use updated packages.\n"
     ]
    }
   ],
   "source": [
    "pip install jupyterthemes"
   ]
  },
  {
   "cell_type": "code",
   "execution_count": 49,
   "id": "642e9e54",
   "metadata": {
    "ExecuteTime": {
     "end_time": "2023-06-06T11:49:40.387602Z",
     "start_time": "2023-06-06T11:49:40.015607Z"
    }
   },
   "outputs": [
    {
     "name": "stdout",
     "output_type": "stream",
     "text": [
      "Available Themes: \r\n",
      "   chesterish\r\n",
      "   grade3\r\n",
      "   gruvboxd\r\n",
      "   gruvboxl\r\n",
      "   monokai\r\n",
      "   oceans16\r\n",
      "   onedork\r\n",
      "   solarizedd\r\n",
      "   solarizedl\r\n"
     ]
    }
   ],
   "source": [
    "!jt -l"
   ]
  },
  {
   "cell_type": "code",
   "execution_count": 52,
   "id": "d63de761",
   "metadata": {
    "ExecuteTime": {
     "end_time": "2023-06-06T11:51:04.831942Z",
     "start_time": "2023-06-06T11:51:04.034375Z"
    }
   },
   "outputs": [],
   "source": [
    "!jt -t solarizedd"
   ]
  },
  {
   "cell_type": "code",
   "execution_count": null,
   "id": "87d4e473",
   "metadata": {},
   "outputs": [],
   "source": [
    "!jt -r"
   ]
  },
  {
   "cell_type": "code",
   "execution_count": null,
   "id": "c20553a9",
   "metadata": {},
   "outputs": [],
   "source": []
  },
  {
   "cell_type": "code",
   "execution_count": null,
   "id": "cb587067",
   "metadata": {
    "hide_input": true
   },
   "outputs": [],
   "source": [
    "import os\n",
    "\n",
    "import pandas, numpy\n",
    "\n",
    "for i in range(1000):\n",
    "    print(i+1)"
   ]
  }
 ],
 "metadata": {
  "hide_input": false,
  "kernelspec": {
   "display_name": "Python 3 (ipykernel)",
   "language": "python",
   "name": "python3"
  },
  "language_info": {
   "codemirror_mode": {
    "name": "ipython",
    "version": 3
   },
   "file_extension": ".py",
   "mimetype": "text/x-python",
   "name": "python",
   "nbconvert_exporter": "python",
   "pygments_lexer": "ipython3",
   "version": "3.9.16"
  },
  "toc": {
   "base_numbering": 1,
   "nav_menu": {
    "height": "312px",
    "width": "364px"
   },
   "number_sections": true,
   "sideBar": true,
   "skip_h1_title": false,
   "title_cell": "Table of Contents",
   "title_sidebar": "Contents",
   "toc_cell": false,
   "toc_position": {
    "height": "calc(100% - 180px)",
    "left": "10px",
    "top": "150px",
    "width": "386px"
   },
   "toc_section_display": true,
   "toc_window_display": true
  },
  "varInspector": {
   "cols": {
    "lenName": 16,
    "lenType": 16,
    "lenVar": 40
   },
   "kernels_config": {
    "python": {
     "delete_cmd_postfix": "",
     "delete_cmd_prefix": "del ",
     "library": "var_list.py",
     "varRefreshCmd": "print(var_dic_list())"
    },
    "r": {
     "delete_cmd_postfix": ") ",
     "delete_cmd_prefix": "rm(",
     "library": "var_list.r",
     "varRefreshCmd": "cat(var_dic_list()) "
    }
   },
   "oldHeight": 269.85,
   "position": {
    "height": "497.85px",
    "left": "1598px",
    "right": "20px",
    "top": "121px",
    "width": "302px"
   },
   "types_to_exclude": [
    "module",
    "function",
    "builtin_function_or_method",
    "instance",
    "_Feature"
   ],
   "varInspector_section_display": "block",
   "window_display": true
  }
 },
 "nbformat": 4,
 "nbformat_minor": 5
}
